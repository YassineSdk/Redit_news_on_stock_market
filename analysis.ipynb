{
 "cells": [
  {
   "cell_type": "code",
   "execution_count": 1,
   "id": "e76fd626",
   "metadata": {},
   "outputs": [],
   "source": [
    "import praw\n",
    "import datetime as dt\n",
    "import warnings\n",
    "warnings.filterwarnings(\"ignore\")\n",
    "from datetime import datetime,timezone\n",
    "from tqdm import  tqdm\n",
    "import pandas as pd \n",
    "import seaborn as sns \n",
    "import plotly.graph_objects as go\n",
    "import matplotlib.pyplot as plt"
   ]
  },
  {
   "cell_type": "markdown",
   "id": "5892947c",
   "metadata": {},
   "source": [
    "### **Loading the data using the reddit API**"
   ]
  },
  {
   "cell_type": "code",
   "execution_count": 2,
   "id": "b6cb8478",
   "metadata": {},
   "outputs": [],
   "source": [
    "# time range \n",
    "start = datetime(2025,1,1,tzinfo=timezone.utc)\n",
    "end = datetime(2025,5,31,23,59,59,tzinfo=timezone.utc)"
   ]
  },
  {
   "cell_type": "code",
   "execution_count": 217,
   "id": "77f127ca",
   "metadata": {},
   "outputs": [
    {
     "name": "stderr",
     "output_type": "stream",
     "text": [
      "searcing for data about wallstreetbets: 0it [00:00, ?it/s]"
     ]
    },
    {
     "name": "stderr",
     "output_type": "stream",
     "text": [
      "searcing for data about wallstreetbets: 240it [00:03, 61.05it/s]\n",
      "searcing for data about stocks: 226it [00:03, 61.67it/s]\n",
      "searcing for data about investing: 234it [00:03, 63.90it/s]\n",
      "searcing for data about options: 242it [00:04, 60.02it/s]\n",
      "searcing for data about ValueInvesting: 238it [00:03, 60.57it/s]\n",
      "searcing for data about Finance: 3it [00:00, 11.22it/s]\n",
      "searcing for data about pennystocks: 168it [00:03, 42.33it/s]\n"
     ]
    },
    {
     "data": {
      "text/html": [
       "<div>\n",
       "<style scoped>\n",
       "    .dataframe tbody tr th:only-of-type {\n",
       "        vertical-align: middle;\n",
       "    }\n",
       "\n",
       "    .dataframe tbody tr th {\n",
       "        vertical-align: top;\n",
       "    }\n",
       "\n",
       "    .dataframe thead th {\n",
       "        text-align: right;\n",
       "    }\n",
       "</style>\n",
       "<table border=\"1\" class=\"dataframe\">\n",
       "  <thead>\n",
       "    <tr style=\"text-align: right;\">\n",
       "      <th></th>\n",
       "      <th>id</th>\n",
       "      <th>title</th>\n",
       "      <th>self_text</th>\n",
       "      <th>date</th>\n",
       "      <th>score</th>\n",
       "      <th>num_comment</th>\n",
       "      <th>author</th>\n",
       "      <th>subreddit</th>\n",
       "      <th>url</th>\n",
       "    </tr>\n",
       "  </thead>\n",
       "  <tbody>\n",
       "    <tr>\n",
       "      <th>0</th>\n",
       "      <td>1kxrhap</td>\n",
       "      <td>Nvidia earnings are out – here are the numbers</td>\n",
       "      <td></td>\n",
       "      <td>2025-05-28</td>\n",
       "      <td>1301</td>\n",
       "      <td>318</td>\n",
       "      <td>Force_Hammer</td>\n",
       "      <td>wallstreetbets</td>\n",
       "      <td>https://www.cnbc.com/2025/05/28/nvidia-nvda-ea...</td>\n",
       "    </tr>\n",
       "    <tr>\n",
       "      <th>1</th>\n",
       "      <td>1jhaxzj</td>\n",
       "      <td>Took my Nvidia gains after 3 years of holding ...</td>\n",
       "      <td>https://preview.redd.it/iemihvrce9qe1.png?widt...</td>\n",
       "      <td>2025-03-22</td>\n",
       "      <td>2535</td>\n",
       "      <td>203</td>\n",
       "      <td>thecheetahexpress</td>\n",
       "      <td>wallstreetbets</td>\n",
       "      <td>https://www.reddit.com/r/wallstreetbets/commen...</td>\n",
       "    </tr>\n",
       "    <tr>\n",
       "      <th>2</th>\n",
       "      <td>1kvuqnj</td>\n",
       "      <td>NVIDIA Artificial Intelligence</td>\n",
       "      <td>Nvidia ([NVDA](https://finance.yahoo.com/quote...</td>\n",
       "      <td>2025-05-26</td>\n",
       "      <td>255</td>\n",
       "      <td>86</td>\n",
       "      <td>wilbo75771</td>\n",
       "      <td>wallstreetbets</td>\n",
       "      <td>https://www.reddit.com/gallery/1kvuqnj</td>\n",
       "    </tr>\n",
       "    <tr>\n",
       "      <th>3</th>\n",
       "      <td>1kx0udl</td>\n",
       "      <td>50k on NVDA</td>\n",
       "      <td>What covered call strikes should I sell? 🤔</td>\n",
       "      <td>2025-05-27</td>\n",
       "      <td>43</td>\n",
       "      <td>23</td>\n",
       "      <td>BokuwaKami</td>\n",
       "      <td>wallstreetbets</td>\n",
       "      <td>https://i.redd.it/eyiut7vvhe3f1.jpeg</td>\n",
       "    </tr>\n",
       "    <tr>\n",
       "      <th>4</th>\n",
       "      <td>1k03vah</td>\n",
       "      <td>Nvidia tanking after hours due to China export...</td>\n",
       "      <td></td>\n",
       "      <td>2025-04-15</td>\n",
       "      <td>12487</td>\n",
       "      <td>974</td>\n",
       "      <td>mayorolivia</td>\n",
       "      <td>wallstreetbets</td>\n",
       "      <td>https://i.redd.it/v5ngumawi2ve1.jpeg</td>\n",
       "    </tr>\n",
       "  </tbody>\n",
       "</table>\n",
       "</div>"
      ],
      "text/plain": [
       "        id                                              title  \\\n",
       "0  1kxrhap     Nvidia earnings are out – here are the numbers   \n",
       "1  1jhaxzj  Took my Nvidia gains after 3 years of holding ...   \n",
       "2  1kvuqnj                     NVIDIA Artificial Intelligence   \n",
       "3  1kx0udl                                        50k on NVDA   \n",
       "4  1k03vah  Nvidia tanking after hours due to China export...   \n",
       "\n",
       "                                           self_text        date  score  \\\n",
       "0                                                     2025-05-28   1301   \n",
       "1  https://preview.redd.it/iemihvrce9qe1.png?widt...  2025-03-22   2535   \n",
       "2  Nvidia ([NVDA](https://finance.yahoo.com/quote...  2025-05-26    255   \n",
       "3         What covered call strikes should I sell? 🤔  2025-05-27     43   \n",
       "4                                                     2025-04-15  12487   \n",
       "\n",
       "   num_comment             author       subreddit  \\\n",
       "0          318       Force_Hammer  wallstreetbets   \n",
       "1          203  thecheetahexpress  wallstreetbets   \n",
       "2           86         wilbo75771  wallstreetbets   \n",
       "3           23         BokuwaKami  wallstreetbets   \n",
       "4          974        mayorolivia  wallstreetbets   \n",
       "\n",
       "                                                 url  \n",
       "0  https://www.cnbc.com/2025/05/28/nvidia-nvda-ea...  \n",
       "1  https://www.reddit.com/r/wallstreetbets/commen...  \n",
       "2             https://www.reddit.com/gallery/1kvuqnj  \n",
       "3               https://i.redd.it/eyiut7vvhe3f1.jpeg  \n",
       "4               https://i.redd.it/v5ngumawi2ve1.jpeg  "
      ]
     },
     "execution_count": 217,
     "metadata": {},
     "output_type": "execute_result"
    }
   ],
   "source": [
    "# connection \n",
    "\n",
    "reddit = praw.Reddit(\n",
    "    client_id=\"eK7Gid3MOrvEWkCkXqHpVw\",\n",
    "    client_secret=\"vRj93NZQIDXpR43cX07CeESEcNsg7w\",\n",
    "    user_agent=\"SentimentBot\"\n",
    ")\n",
    "subreddits = [\"wallstreetbets\",\"stocks\",\"investing\",\"options\",\"ValueInvesting\",\"Finance\",\"pennystocks\"]\n",
    "redit_post = []\n",
    "\n",
    "for subreddit in subreddits :\n",
    "    for submission in tqdm(reddit.subreddit(subreddit).search('NVIDIA',limit=1000),desc = f'searcing for data about {subreddit}'):\n",
    "        post_time = datetime.fromtimestamp(submission.created_utc,tz=timezone.utc)\n",
    "        \n",
    "        if start <= post_time <= end :\n",
    "            redit_post.append({\n",
    "                'id':submission.id,\n",
    "            'title' : submission.title,\n",
    "            'self_text' : submission.selftext,\n",
    "            'date' : post_time.strftime('%Y-%m-%d'),\n",
    "            'score' : submission.score,\n",
    "            'num_comment' : submission.num_comments,\n",
    "            'author' : str(submission.author),\n",
    "            'subreddit' : str(submission.subreddit),\n",
    "            'url' : submission.url})\n",
    "data = pd.DataFrame(redit_post)\n",
    "data.head()\n"
   ]
  },
  {
   "cell_type": "markdown",
   "id": "e503e848",
   "metadata": {},
   "source": [
    "### **Data cleaning** "
   ]
  },
  {
   "cell_type": "markdown",
   "id": "54a7564b",
   "metadata": {},
   "source": [
    "##### after getting the data we need to clean the self_text from any links , markdown ...... for the analysis purpose"
   ]
  },
  {
   "cell_type": "code",
   "execution_count": 218,
   "id": "e0b25c4d",
   "metadata": {},
   "outputs": [
    {
     "data": {
      "text/html": [
       "<div>\n",
       "<style scoped>\n",
       "    .dataframe tbody tr th:only-of-type {\n",
       "        vertical-align: middle;\n",
       "    }\n",
       "\n",
       "    .dataframe tbody tr th {\n",
       "        vertical-align: top;\n",
       "    }\n",
       "\n",
       "    .dataframe thead th {\n",
       "        text-align: right;\n",
       "    }\n",
       "</style>\n",
       "<table border=\"1\" class=\"dataframe\">\n",
       "  <thead>\n",
       "    <tr style=\"text-align: right;\">\n",
       "      <th></th>\n",
       "      <th>id</th>\n",
       "      <th>title</th>\n",
       "      <th>self_text</th>\n",
       "      <th>date</th>\n",
       "      <th>score</th>\n",
       "      <th>num_comment</th>\n",
       "      <th>author</th>\n",
       "      <th>subreddit</th>\n",
       "      <th>url</th>\n",
       "    </tr>\n",
       "  </thead>\n",
       "  <tbody>\n",
       "    <tr>\n",
       "      <th>0</th>\n",
       "      <td>1kxrhap</td>\n",
       "      <td>Nvidia earnings are out – here are the numbers</td>\n",
       "      <td></td>\n",
       "      <td>2025-05-28</td>\n",
       "      <td>1301</td>\n",
       "      <td>318</td>\n",
       "      <td>Force_Hammer</td>\n",
       "      <td>wallstreetbets</td>\n",
       "      <td>https://www.cnbc.com/2025/05/28/nvidia-nvda-ea...</td>\n",
       "    </tr>\n",
       "    <tr>\n",
       "      <th>1</th>\n",
       "      <td>1jhaxzj</td>\n",
       "      <td>Took my Nvidia gains after 3 years of holding ...</td>\n",
       "      <td>https://preview.redd.it/iemihvrce9qe1.png?widt...</td>\n",
       "      <td>2025-03-22</td>\n",
       "      <td>2535</td>\n",
       "      <td>203</td>\n",
       "      <td>thecheetahexpress</td>\n",
       "      <td>wallstreetbets</td>\n",
       "      <td>https://www.reddit.com/r/wallstreetbets/commen...</td>\n",
       "    </tr>\n",
       "    <tr>\n",
       "      <th>2</th>\n",
       "      <td>1kvuqnj</td>\n",
       "      <td>NVIDIA Artificial Intelligence</td>\n",
       "      <td>Nvidia ([NVDA](https://finance.yahoo.com/quote...</td>\n",
       "      <td>2025-05-26</td>\n",
       "      <td>255</td>\n",
       "      <td>86</td>\n",
       "      <td>wilbo75771</td>\n",
       "      <td>wallstreetbets</td>\n",
       "      <td>https://www.reddit.com/gallery/1kvuqnj</td>\n",
       "    </tr>\n",
       "    <tr>\n",
       "      <th>3</th>\n",
       "      <td>1kx0udl</td>\n",
       "      <td>50k on NVDA</td>\n",
       "      <td>What covered call strikes should I sell? 🤔</td>\n",
       "      <td>2025-05-27</td>\n",
       "      <td>43</td>\n",
       "      <td>23</td>\n",
       "      <td>BokuwaKami</td>\n",
       "      <td>wallstreetbets</td>\n",
       "      <td>https://i.redd.it/eyiut7vvhe3f1.jpeg</td>\n",
       "    </tr>\n",
       "    <tr>\n",
       "      <th>4</th>\n",
       "      <td>1k03vah</td>\n",
       "      <td>Nvidia tanking after hours due to China export...</td>\n",
       "      <td></td>\n",
       "      <td>2025-04-15</td>\n",
       "      <td>12487</td>\n",
       "      <td>974</td>\n",
       "      <td>mayorolivia</td>\n",
       "      <td>wallstreetbets</td>\n",
       "      <td>https://i.redd.it/v5ngumawi2ve1.jpeg</td>\n",
       "    </tr>\n",
       "  </tbody>\n",
       "</table>\n",
       "</div>"
      ],
      "text/plain": [
       "        id                                              title  \\\n",
       "0  1kxrhap     Nvidia earnings are out – here are the numbers   \n",
       "1  1jhaxzj  Took my Nvidia gains after 3 years of holding ...   \n",
       "2  1kvuqnj                     NVIDIA Artificial Intelligence   \n",
       "3  1kx0udl                                        50k on NVDA   \n",
       "4  1k03vah  Nvidia tanking after hours due to China export...   \n",
       "\n",
       "                                           self_text        date  score  \\\n",
       "0                                                     2025-05-28   1301   \n",
       "1  https://preview.redd.it/iemihvrce9qe1.png?widt...  2025-03-22   2535   \n",
       "2  Nvidia ([NVDA](https://finance.yahoo.com/quote...  2025-05-26    255   \n",
       "3         What covered call strikes should I sell? 🤔  2025-05-27     43   \n",
       "4                                                     2025-04-15  12487   \n",
       "\n",
       "   num_comment             author       subreddit  \\\n",
       "0          318       Force_Hammer  wallstreetbets   \n",
       "1          203  thecheetahexpress  wallstreetbets   \n",
       "2           86         wilbo75771  wallstreetbets   \n",
       "3           23         BokuwaKami  wallstreetbets   \n",
       "4          974        mayorolivia  wallstreetbets   \n",
       "\n",
       "                                                 url  \n",
       "0  https://www.cnbc.com/2025/05/28/nvidia-nvda-ea...  \n",
       "1  https://www.reddit.com/r/wallstreetbets/commen...  \n",
       "2             https://www.reddit.com/gallery/1kvuqnj  \n",
       "3               https://i.redd.it/eyiut7vvhe3f1.jpeg  \n",
       "4               https://i.redd.it/v5ngumawi2ve1.jpeg  "
      ]
     },
     "execution_count": 218,
     "metadata": {},
     "output_type": "execute_result"
    }
   ],
   "source": [
    "data.head(5)"
   ]
  },
  {
   "cell_type": "code",
   "execution_count": 219,
   "id": "648ec7f9",
   "metadata": {},
   "outputs": [
    {
     "data": {
      "text/plain": [
       "(411, 9)"
      ]
     },
     "execution_count": 219,
     "metadata": {},
     "output_type": "execute_result"
    }
   ],
   "source": [
    "data.shape"
   ]
  },
  {
   "cell_type": "code",
   "execution_count": 220,
   "id": "a1b050f0",
   "metadata": {},
   "outputs": [
    {
     "data": {
      "text/plain": [
       "id             object\n",
       "title          object\n",
       "self_text      object\n",
       "date           object\n",
       "score           int64\n",
       "num_comment     int64\n",
       "author         object\n",
       "subreddit      object\n",
       "url            object\n",
       "dtype: object"
      ]
     },
     "execution_count": 220,
     "metadata": {},
     "output_type": "execute_result"
    }
   ],
   "source": [
    "data.dtypes"
   ]
  },
  {
   "cell_type": "markdown",
   "id": "59294243",
   "metadata": {},
   "source": [
    "##### first we sort the data by the dates in order to keep the sync of the dates "
   ]
  },
  {
   "cell_type": "code",
   "execution_count": 221,
   "id": "123593eb",
   "metadata": {},
   "outputs": [],
   "source": [
    "data['date'] = pd.to_datetime(data['date'])"
   ]
  },
  {
   "cell_type": "code",
   "execution_count": 222,
   "id": "8dec5cf4",
   "metadata": {},
   "outputs": [],
   "source": [
    "data.sort_values(by='date',ascending=True,inplace=True)\n",
    "data.sort_index(inplace=True)"
   ]
  },
  {
   "cell_type": "code",
   "execution_count": 223,
   "id": "7eadcdef",
   "metadata": {},
   "outputs": [
    {
     "data": {
      "text/html": [
       "<div>\n",
       "<style scoped>\n",
       "    .dataframe tbody tr th:only-of-type {\n",
       "        vertical-align: middle;\n",
       "    }\n",
       "\n",
       "    .dataframe tbody tr th {\n",
       "        vertical-align: top;\n",
       "    }\n",
       "\n",
       "    .dataframe thead th {\n",
       "        text-align: right;\n",
       "    }\n",
       "</style>\n",
       "<table border=\"1\" class=\"dataframe\">\n",
       "  <thead>\n",
       "    <tr style=\"text-align: right;\">\n",
       "      <th></th>\n",
       "      <th>id</th>\n",
       "      <th>title</th>\n",
       "      <th>self_text</th>\n",
       "      <th>date</th>\n",
       "      <th>score</th>\n",
       "      <th>num_comment</th>\n",
       "      <th>author</th>\n",
       "      <th>subreddit</th>\n",
       "      <th>url</th>\n",
       "    </tr>\n",
       "  </thead>\n",
       "  <tbody>\n",
       "    <tr>\n",
       "      <th>0</th>\n",
       "      <td>1kxrhap</td>\n",
       "      <td>Nvidia earnings are out – here are the numbers</td>\n",
       "      <td></td>\n",
       "      <td>2025-05-28</td>\n",
       "      <td>1301</td>\n",
       "      <td>318</td>\n",
       "      <td>Force_Hammer</td>\n",
       "      <td>wallstreetbets</td>\n",
       "      <td>https://www.cnbc.com/2025/05/28/nvidia-nvda-ea...</td>\n",
       "    </tr>\n",
       "    <tr>\n",
       "      <th>1</th>\n",
       "      <td>1jhaxzj</td>\n",
       "      <td>Took my Nvidia gains after 3 years of holding ...</td>\n",
       "      <td>https://preview.redd.it/iemihvrce9qe1.png?widt...</td>\n",
       "      <td>2025-03-22</td>\n",
       "      <td>2535</td>\n",
       "      <td>203</td>\n",
       "      <td>thecheetahexpress</td>\n",
       "      <td>wallstreetbets</td>\n",
       "      <td>https://www.reddit.com/r/wallstreetbets/commen...</td>\n",
       "    </tr>\n",
       "    <tr>\n",
       "      <th>2</th>\n",
       "      <td>1kvuqnj</td>\n",
       "      <td>NVIDIA Artificial Intelligence</td>\n",
       "      <td>Nvidia ([NVDA](https://finance.yahoo.com/quote...</td>\n",
       "      <td>2025-05-26</td>\n",
       "      <td>255</td>\n",
       "      <td>86</td>\n",
       "      <td>wilbo75771</td>\n",
       "      <td>wallstreetbets</td>\n",
       "      <td>https://www.reddit.com/gallery/1kvuqnj</td>\n",
       "    </tr>\n",
       "    <tr>\n",
       "      <th>3</th>\n",
       "      <td>1kx0udl</td>\n",
       "      <td>50k on NVDA</td>\n",
       "      <td>What covered call strikes should I sell? 🤔</td>\n",
       "      <td>2025-05-27</td>\n",
       "      <td>43</td>\n",
       "      <td>23</td>\n",
       "      <td>BokuwaKami</td>\n",
       "      <td>wallstreetbets</td>\n",
       "      <td>https://i.redd.it/eyiut7vvhe3f1.jpeg</td>\n",
       "    </tr>\n",
       "    <tr>\n",
       "      <th>4</th>\n",
       "      <td>1k03vah</td>\n",
       "      <td>Nvidia tanking after hours due to China export...</td>\n",
       "      <td></td>\n",
       "      <td>2025-04-15</td>\n",
       "      <td>12487</td>\n",
       "      <td>974</td>\n",
       "      <td>mayorolivia</td>\n",
       "      <td>wallstreetbets</td>\n",
       "      <td>https://i.redd.it/v5ngumawi2ve1.jpeg</td>\n",
       "    </tr>\n",
       "  </tbody>\n",
       "</table>\n",
       "</div>"
      ],
      "text/plain": [
       "        id                                              title  \\\n",
       "0  1kxrhap     Nvidia earnings are out – here are the numbers   \n",
       "1  1jhaxzj  Took my Nvidia gains after 3 years of holding ...   \n",
       "2  1kvuqnj                     NVIDIA Artificial Intelligence   \n",
       "3  1kx0udl                                        50k on NVDA   \n",
       "4  1k03vah  Nvidia tanking after hours due to China export...   \n",
       "\n",
       "                                           self_text       date  score  \\\n",
       "0                                                    2025-05-28   1301   \n",
       "1  https://preview.redd.it/iemihvrce9qe1.png?widt... 2025-03-22   2535   \n",
       "2  Nvidia ([NVDA](https://finance.yahoo.com/quote... 2025-05-26    255   \n",
       "3         What covered call strikes should I sell? 🤔 2025-05-27     43   \n",
       "4                                                    2025-04-15  12487   \n",
       "\n",
       "   num_comment             author       subreddit  \\\n",
       "0          318       Force_Hammer  wallstreetbets   \n",
       "1          203  thecheetahexpress  wallstreetbets   \n",
       "2           86         wilbo75771  wallstreetbets   \n",
       "3           23         BokuwaKami  wallstreetbets   \n",
       "4          974        mayorolivia  wallstreetbets   \n",
       "\n",
       "                                                 url  \n",
       "0  https://www.cnbc.com/2025/05/28/nvidia-nvda-ea...  \n",
       "1  https://www.reddit.com/r/wallstreetbets/commen...  \n",
       "2             https://www.reddit.com/gallery/1kvuqnj  \n",
       "3               https://i.redd.it/eyiut7vvhe3f1.jpeg  \n",
       "4               https://i.redd.it/v5ngumawi2ve1.jpeg  "
      ]
     },
     "execution_count": 223,
     "metadata": {},
     "output_type": "execute_result"
    }
   ],
   "source": [
    "data.head()"
   ]
  },
  {
   "cell_type": "code",
   "execution_count": 224,
   "id": "79e49b02",
   "metadata": {},
   "outputs": [
    {
     "name": "stdout",
     "output_type": "stream",
     "text": [
      "('Nvidia ([NVDA](https://finance.yahoo.com/quote/NVDA)) has outperformed every '\n",
      " 'stock in the S&P 500 ([\\\\^GSPC](https://finance.yahoo.com/quote/%5EGSPC)) '\n",
      " 'since\\xa0[the launch of ChatGPT\\xa0'\n",
      " '](https://finance.yahoo.com/news/how-chatgpt-changed-the-world-of-tech-in-just-one-year-180957543.html)in '\n",
      " 'late November 2022 Shares in the chipmaker have risen nearly 700% since '\n",
      " 'ChatGPT brought the power of artificial intelligence to the masses, far '\n",
      " \"outpacing the S&P 500's roughly 45% over the same time period. The next \"\n",
      " 'closest gain for an S&P 500 company in that time period is a 540% pop for '\n",
      " 'Vistra Corp ([VST](https://finance.yahoo.com/quote/VST)).Nvidia has '\n",
      " 'established itself as the key provider of chips needed to operate AI '\n",
      " 'systems. Now at the epicenter of an AI arms race, Nvidia has established '\n",
      " 'itself as[\\xa0a cornerstone of the recent bull '\n",
      " 'market](https://finance.yahoo.com/news/live/stock-market-today-tech-leads-stocks-higher-as-nvidia-surges-to-record-high-175727614.html)\\xa0'\n",
      " \"in stocks as the company's sales and profits have skyrocketed over the past \"\n",
      " 'several years.\\n'\n",
      " '\\n'\n",
      " \"Ahead of the\\xa0[company's next quarterly earnings release on May \"\n",
      " '28](https://finance.yahoo.com/news/nvidia-to-report-q1-earnings-as-middle-east-deals-export-control-reprieve-boost-stock-122728218.html), '\n",
      " 'we broke down some of the most eye-popping charts that show how Nvidia '\n",
      " \"became one of the most-followed stocks in the market.There's perhaps no \"\n",
      " 'clearer way to see how Nvidia ran away from the competition in the AI boom '\n",
      " \"than looking at the company's market capitalization against its peers. Back \"\n",
      " 'when ChatGPT launched, Nvidia had a market cap of just over $400 billion. '\n",
      " \"It's now over $3.3 trillion. Over that same time period, chip competitor \"\n",
      " \"Intel's ([INTC](https://finance.yahoo.com/quote/INTC)) market cap has \"\n",
      " \"actually decreased, while Advanced Micro Devices' \"\n",
      " '([AMD](https://finance.yahoo.com/quote/AMD)) market cap has increased '\n",
      " \"incrementally from $125 billion to $177 billion.Nvidia's rise proved to be \"\n",
      " 'at the center of a new technological boom. Combined with Nvidia, the rise in '\n",
      " 'dominance of six other companies — Apple '\n",
      " '([AAPL](https://finance.yahoo.com/quote/AAPL)), Alphabet '\n",
      " '([GOOGL](https://finance.yahoo.com/quote/GOOGL),\\xa0'\n",
      " '[GOOG](https://finance.yahoo.com/quote/GOOG)), Microsoft '\n",
      " '([MSFT](https://finance.yahoo.com/quote/MSFT)), Amazon '\n",
      " '([AMZN](https://finance.yahoo.com/quote/AMZN)), Meta '\n",
      " '([META](https://finance.yahoo.com/quote/META)), and Tesla '\n",
      " '([TSLA](https://finance.yahoo.com/quote/TSLA)) — formed what would come to '\n",
      " 'be known as the\\xa0[\"Magnificent '\n",
      " 'Seven.\"](https://finance.yahoo.com/news/one-chart-shows-how-the-magnificent-7-have-dominated-the-stock-market-in-2023-203250125.html)\\n'\n",
      " '\\n'\n",
      " 'The group began the AI boom with a combined market cap just shy of $7 '\n",
      " \"billion. Now, two and a half years later, the Big Tech group's market cap is \"\n",
      " 'worth over $16.8 trillion. The seven companies have grown from about 22% of '\n",
      " \"the S&P 500's market cap in November 2022 to 32% of the index's market cap \"\n",
      " 'today.Given the outsized weighting in the S&P 500, large swings in shares of '\n",
      " 'Nvidia have become a feature of how even broad market investors are thinking '\n",
      " 'about the direction of stocks. In June 2024,[\\xa0three Wall Street '\n",
      " 'strategists boosted their year-end S&P 500 '\n",
      " 'targets](https://finance.yahoo.com/news/ai-enthusiasm-prompts-3-wall-street-banks-to-raise-stock-market-forecasts-100027154.html), '\n",
      " 'citing better-than-expected consistent performance among key AI players.\\n'\n",
      " '\\n'\n",
      " 'As of May 19, the Magnificent Seven have accounted for about 52% of the S&P '\n",
      " \"500's gain since Nov. 30, 2022. Nvidia alone has contributed 17.21%, by far \"\n",
      " 'the most among the group, with the next closest stock, Microsoft, which has '\n",
      " \"added about 8.8%.Nvidia's stock hasn't been rising from just hype. The \"\n",
      " \"company's quarterly financial metrics have soared. In the quarter ChatGPT \"\n",
      " 'launched, Nvidia posted revenue of $6.3 billion. Two years later, it would '\n",
      " \"post revenue of $35.3 billion. That's a 460% increase in sales in two years. \"\n",
      " 'As seen in the chart below, the main source of growth for Nvidia has been '\n",
      " 'its data center revenue segment, which includes the sales of its AI chips.\\n'\n",
      " '\\n'\n",
      " \"From the company's fourth quarter of 2023 to its final quarter of its 2025 \"\n",
      " 'reporting period, data center revenue grew almost 900%.\\n'\n",
      " '\\n'\n",
      " \"Nvidia's data center revenue particularly stands out when considering its \"\n",
      " 'rise against peers in the industry. In the final quarter of 2024, Nvidia '\n",
      " 'notched a record $35.58 billion in just data center revenue, up from $3.62 '\n",
      " 'billion in the final quarter of 2022.\\n'\n",
      " '\\n'\n",
      " \"In comparison, Alphabet's data center revenue increased to $11.96 billion, \"\n",
      " 'ending 2024 up from $7.32 billion in the final quarter of 2022.\\n'\n",
      " '\\n'\n",
      " '\\n'\n",
      " '\\n')\n"
     ]
    }
   ],
   "source": [
    "from pprint import pprint\n",
    "text = data['self_text'][2]\n",
    "pprint(text)"
   ]
  },
  {
   "cell_type": "code",
   "execution_count": 225,
   "id": "9792f7a6",
   "metadata": {},
   "outputs": [],
   "source": [
    "import re \n",
    "def clean_text(text):\n",
    "    # Remove markdown links \n",
    "    text = re.sub(r'http\\S+|www\\S+|https\\S+', '', text, flags=re.MULTILINE)\n",
    "    text = re.sub(r'\\[.*?\\]\\(.*?\\)', '', text)\n",
    "    \n",
    "    # Remove stray markdown artifacts \n",
    "    text = re.sub(r'\\[\\]|\\(\\)', '', text)\n",
    "    \n",
    "    # Replace \\xa0 (non-breaking space) and \\n (newlines) with space\n",
    "    text = text.replace('\\xa0', ' ').replace('\\n', ' ')\n",
    "    \n",
    "    # Remove multiple spaces\n",
    "    text = re.sub(r'\\s+', ' ', text)\n",
    "\n",
    "    text = re.sub(r'[^a-zA-Z0-9\\s]', '', text)\n",
    "    \n",
    "    # strip leading/trailing whitespace\n",
    "    return text.strip()\n"
   ]
  },
  {
   "cell_type": "code",
   "execution_count": 226,
   "id": "63a4c41d",
   "metadata": {},
   "outputs": [],
   "source": [
    "data['self_text'] =  data['self_text'].apply(lambda x : clean_text(x))"
   ]
  },
  {
   "cell_type": "code",
   "execution_count": 227,
   "id": "ffa832cb",
   "metadata": {},
   "outputs": [
    {
     "data": {
      "text/html": [
       "<div>\n",
       "<style scoped>\n",
       "    .dataframe tbody tr th:only-of-type {\n",
       "        vertical-align: middle;\n",
       "    }\n",
       "\n",
       "    .dataframe tbody tr th {\n",
       "        vertical-align: top;\n",
       "    }\n",
       "\n",
       "    .dataframe thead th {\n",
       "        text-align: right;\n",
       "    }\n",
       "</style>\n",
       "<table border=\"1\" class=\"dataframe\">\n",
       "  <thead>\n",
       "    <tr style=\"text-align: right;\">\n",
       "      <th></th>\n",
       "      <th>id</th>\n",
       "      <th>title</th>\n",
       "      <th>self_text</th>\n",
       "      <th>date</th>\n",
       "      <th>score</th>\n",
       "      <th>num_comment</th>\n",
       "      <th>author</th>\n",
       "      <th>subreddit</th>\n",
       "      <th>url</th>\n",
       "    </tr>\n",
       "  </thead>\n",
       "  <tbody>\n",
       "    <tr>\n",
       "      <th>0</th>\n",
       "      <td>1kxrhap</td>\n",
       "      <td>Nvidia earnings are out – here are the numbers</td>\n",
       "      <td></td>\n",
       "      <td>2025-05-28</td>\n",
       "      <td>1301</td>\n",
       "      <td>318</td>\n",
       "      <td>Force_Hammer</td>\n",
       "      <td>wallstreetbets</td>\n",
       "      <td>https://www.cnbc.com/2025/05/28/nvidia-nvda-ea...</td>\n",
       "    </tr>\n",
       "    <tr>\n",
       "      <th>1</th>\n",
       "      <td>1jhaxzj</td>\n",
       "      <td>Took my Nvidia gains after 3 years of holding ...</td>\n",
       "      <td>Life happened Needed the funds The shares were...</td>\n",
       "      <td>2025-03-22</td>\n",
       "      <td>2535</td>\n",
       "      <td>203</td>\n",
       "      <td>thecheetahexpress</td>\n",
       "      <td>wallstreetbets</td>\n",
       "      <td>https://www.reddit.com/r/wallstreetbets/commen...</td>\n",
       "    </tr>\n",
       "    <tr>\n",
       "      <th>2</th>\n",
       "      <td>1kvuqnj</td>\n",
       "      <td>NVIDIA Artificial Intelligence</td>\n",
       "      <td>Nvidia NVDA has outperformed every stock in th...</td>\n",
       "      <td>2025-05-26</td>\n",
       "      <td>255</td>\n",
       "      <td>86</td>\n",
       "      <td>wilbo75771</td>\n",
       "      <td>wallstreetbets</td>\n",
       "      <td>https://www.reddit.com/gallery/1kvuqnj</td>\n",
       "    </tr>\n",
       "    <tr>\n",
       "      <th>3</th>\n",
       "      <td>1kx0udl</td>\n",
       "      <td>50k on NVDA</td>\n",
       "      <td>What covered call strikes should I sell</td>\n",
       "      <td>2025-05-27</td>\n",
       "      <td>43</td>\n",
       "      <td>23</td>\n",
       "      <td>BokuwaKami</td>\n",
       "      <td>wallstreetbets</td>\n",
       "      <td>https://i.redd.it/eyiut7vvhe3f1.jpeg</td>\n",
       "    </tr>\n",
       "    <tr>\n",
       "      <th>4</th>\n",
       "      <td>1k03vah</td>\n",
       "      <td>Nvidia tanking after hours due to China export...</td>\n",
       "      <td></td>\n",
       "      <td>2025-04-15</td>\n",
       "      <td>12487</td>\n",
       "      <td>974</td>\n",
       "      <td>mayorolivia</td>\n",
       "      <td>wallstreetbets</td>\n",
       "      <td>https://i.redd.it/v5ngumawi2ve1.jpeg</td>\n",
       "    </tr>\n",
       "  </tbody>\n",
       "</table>\n",
       "</div>"
      ],
      "text/plain": [
       "        id                                              title  \\\n",
       "0  1kxrhap     Nvidia earnings are out – here are the numbers   \n",
       "1  1jhaxzj  Took my Nvidia gains after 3 years of holding ...   \n",
       "2  1kvuqnj                     NVIDIA Artificial Intelligence   \n",
       "3  1kx0udl                                        50k on NVDA   \n",
       "4  1k03vah  Nvidia tanking after hours due to China export...   \n",
       "\n",
       "                                           self_text       date  score  \\\n",
       "0                                                    2025-05-28   1301   \n",
       "1  Life happened Needed the funds The shares were... 2025-03-22   2535   \n",
       "2  Nvidia NVDA has outperformed every stock in th... 2025-05-26    255   \n",
       "3            What covered call strikes should I sell 2025-05-27     43   \n",
       "4                                                    2025-04-15  12487   \n",
       "\n",
       "   num_comment             author       subreddit  \\\n",
       "0          318       Force_Hammer  wallstreetbets   \n",
       "1          203  thecheetahexpress  wallstreetbets   \n",
       "2           86         wilbo75771  wallstreetbets   \n",
       "3           23         BokuwaKami  wallstreetbets   \n",
       "4          974        mayorolivia  wallstreetbets   \n",
       "\n",
       "                                                 url  \n",
       "0  https://www.cnbc.com/2025/05/28/nvidia-nvda-ea...  \n",
       "1  https://www.reddit.com/r/wallstreetbets/commen...  \n",
       "2             https://www.reddit.com/gallery/1kvuqnj  \n",
       "3               https://i.redd.it/eyiut7vvhe3f1.jpeg  \n",
       "4               https://i.redd.it/v5ngumawi2ve1.jpeg  "
      ]
     },
     "execution_count": 227,
     "metadata": {},
     "output_type": "execute_result"
    }
   ],
   "source": [
    "data.head()"
   ]
  },
  {
   "cell_type": "code",
   "execution_count": 228,
   "id": "cba5b8ee",
   "metadata": {},
   "outputs": [
    {
     "data": {
      "text/plain": [
       "''"
      ]
     },
     "execution_count": 228,
     "metadata": {},
     "output_type": "execute_result"
    }
   ],
   "source": [
    "data['self_text'][0]"
   ]
  },
  {
   "cell_type": "code",
   "execution_count": 229,
   "id": "e11639b6",
   "metadata": {},
   "outputs": [
    {
     "data": {
      "text/plain": [
       "0       True\n",
       "1      False\n",
       "2      False\n",
       "3      False\n",
       "4       True\n",
       "       ...  \n",
       "406    False\n",
       "407    False\n",
       "408    False\n",
       "409    False\n",
       "410    False\n",
       "Name: self_text, Length: 411, dtype: bool"
      ]
     },
     "execution_count": 229,
     "metadata": {},
     "output_type": "execute_result"
    }
   ],
   "source": [
    "data['self_text'].apply(lambda x: pd.isna(x) or x.strip() == '')"
   ]
  },
  {
   "cell_type": "code",
   "execution_count": 230,
   "id": "3fca7421",
   "metadata": {},
   "outputs": [],
   "source": [
    "import numpy as np"
   ]
  },
  {
   "cell_type": "code",
   "execution_count": 231,
   "id": "6d0c3556",
   "metadata": {},
   "outputs": [
    {
     "data": {
      "text/plain": [
       "0                                                    NaN\n",
       "1      Life happened Needed the funds The shares were...\n",
       "2      Nvidia NVDA has outperformed every stock in th...\n",
       "3                What covered call strikes should I sell\n",
       "4                                                    NaN\n",
       "                             ...                        \n",
       "406    Auroras partnership with NVIDIA and Continenta...\n",
       "407    SANA spiked because they had positive results ...\n",
       "408    Why hello my fellow investors traders and prob...\n",
       "409    Looking for some feed back on this stock might...\n",
       "410    Starting the year with all quantum boats risin...\n",
       "Name: self_text, Length: 411, dtype: object"
      ]
     },
     "execution_count": 231,
     "metadata": {},
     "output_type": "execute_result"
    }
   ],
   "source": [
    "data['self_text'].apply(lambda x:  np.nan if x.strip() == '' else x)"
   ]
  },
  {
   "cell_type": "code",
   "execution_count": 232,
   "id": "b35e2ea4",
   "metadata": {},
   "outputs": [],
   "source": [
    "data.dropna(axis=1,inplace=True)"
   ]
  },
  {
   "cell_type": "code",
   "execution_count": 233,
   "id": "0d77edb4",
   "metadata": {},
   "outputs": [
    {
     "data": {
      "text/html": [
       "<div>\n",
       "<style scoped>\n",
       "    .dataframe tbody tr th:only-of-type {\n",
       "        vertical-align: middle;\n",
       "    }\n",
       "\n",
       "    .dataframe tbody tr th {\n",
       "        vertical-align: top;\n",
       "    }\n",
       "\n",
       "    .dataframe thead th {\n",
       "        text-align: right;\n",
       "    }\n",
       "</style>\n",
       "<table border=\"1\" class=\"dataframe\">\n",
       "  <thead>\n",
       "    <tr style=\"text-align: right;\">\n",
       "      <th></th>\n",
       "      <th>id</th>\n",
       "      <th>title</th>\n",
       "      <th>self_text</th>\n",
       "      <th>date</th>\n",
       "      <th>score</th>\n",
       "      <th>num_comment</th>\n",
       "      <th>author</th>\n",
       "      <th>subreddit</th>\n",
       "      <th>url</th>\n",
       "    </tr>\n",
       "  </thead>\n",
       "  <tbody>\n",
       "    <tr>\n",
       "      <th>0</th>\n",
       "      <td>1kxrhap</td>\n",
       "      <td>Nvidia earnings are out – here are the numbers</td>\n",
       "      <td></td>\n",
       "      <td>2025-05-28</td>\n",
       "      <td>1301</td>\n",
       "      <td>318</td>\n",
       "      <td>Force_Hammer</td>\n",
       "      <td>wallstreetbets</td>\n",
       "      <td>https://www.cnbc.com/2025/05/28/nvidia-nvda-ea...</td>\n",
       "    </tr>\n",
       "    <tr>\n",
       "      <th>1</th>\n",
       "      <td>1jhaxzj</td>\n",
       "      <td>Took my Nvidia gains after 3 years of holding ...</td>\n",
       "      <td>Life happened Needed the funds The shares were...</td>\n",
       "      <td>2025-03-22</td>\n",
       "      <td>2535</td>\n",
       "      <td>203</td>\n",
       "      <td>thecheetahexpress</td>\n",
       "      <td>wallstreetbets</td>\n",
       "      <td>https://www.reddit.com/r/wallstreetbets/commen...</td>\n",
       "    </tr>\n",
       "    <tr>\n",
       "      <th>2</th>\n",
       "      <td>1kvuqnj</td>\n",
       "      <td>NVIDIA Artificial Intelligence</td>\n",
       "      <td>Nvidia NVDA has outperformed every stock in th...</td>\n",
       "      <td>2025-05-26</td>\n",
       "      <td>255</td>\n",
       "      <td>86</td>\n",
       "      <td>wilbo75771</td>\n",
       "      <td>wallstreetbets</td>\n",
       "      <td>https://www.reddit.com/gallery/1kvuqnj</td>\n",
       "    </tr>\n",
       "    <tr>\n",
       "      <th>3</th>\n",
       "      <td>1kx0udl</td>\n",
       "      <td>50k on NVDA</td>\n",
       "      <td>What covered call strikes should I sell</td>\n",
       "      <td>2025-05-27</td>\n",
       "      <td>43</td>\n",
       "      <td>23</td>\n",
       "      <td>BokuwaKami</td>\n",
       "      <td>wallstreetbets</td>\n",
       "      <td>https://i.redd.it/eyiut7vvhe3f1.jpeg</td>\n",
       "    </tr>\n",
       "    <tr>\n",
       "      <th>4</th>\n",
       "      <td>1k03vah</td>\n",
       "      <td>Nvidia tanking after hours due to China export...</td>\n",
       "      <td></td>\n",
       "      <td>2025-04-15</td>\n",
       "      <td>12487</td>\n",
       "      <td>974</td>\n",
       "      <td>mayorolivia</td>\n",
       "      <td>wallstreetbets</td>\n",
       "      <td>https://i.redd.it/v5ngumawi2ve1.jpeg</td>\n",
       "    </tr>\n",
       "  </tbody>\n",
       "</table>\n",
       "</div>"
      ],
      "text/plain": [
       "        id                                              title  \\\n",
       "0  1kxrhap     Nvidia earnings are out – here are the numbers   \n",
       "1  1jhaxzj  Took my Nvidia gains after 3 years of holding ...   \n",
       "2  1kvuqnj                     NVIDIA Artificial Intelligence   \n",
       "3  1kx0udl                                        50k on NVDA   \n",
       "4  1k03vah  Nvidia tanking after hours due to China export...   \n",
       "\n",
       "                                           self_text       date  score  \\\n",
       "0                                                    2025-05-28   1301   \n",
       "1  Life happened Needed the funds The shares were... 2025-03-22   2535   \n",
       "2  Nvidia NVDA has outperformed every stock in th... 2025-05-26    255   \n",
       "3            What covered call strikes should I sell 2025-05-27     43   \n",
       "4                                                    2025-04-15  12487   \n",
       "\n",
       "   num_comment             author       subreddit  \\\n",
       "0          318       Force_Hammer  wallstreetbets   \n",
       "1          203  thecheetahexpress  wallstreetbets   \n",
       "2           86         wilbo75771  wallstreetbets   \n",
       "3           23         BokuwaKami  wallstreetbets   \n",
       "4          974        mayorolivia  wallstreetbets   \n",
       "\n",
       "                                                 url  \n",
       "0  https://www.cnbc.com/2025/05/28/nvidia-nvda-ea...  \n",
       "1  https://www.reddit.com/r/wallstreetbets/commen...  \n",
       "2             https://www.reddit.com/gallery/1kvuqnj  \n",
       "3               https://i.redd.it/eyiut7vvhe3f1.jpeg  \n",
       "4               https://i.redd.it/v5ngumawi2ve1.jpeg  "
      ]
     },
     "execution_count": 233,
     "metadata": {},
     "output_type": "execute_result"
    }
   ],
   "source": [
    "data.head()"
   ]
  },
  {
   "cell_type": "markdown",
   "id": "e193e539",
   "metadata": {},
   "source": [
    "#####  Now after cleaning the data we need to access the score of the posts bc we assume that a higher score means hight unfluence so wz will set the threshold to 100 "
   ]
  },
  {
   "cell_type": "code",
   "execution_count": 234,
   "id": "644aae3f",
   "metadata": {},
   "outputs": [],
   "source": [
    "for col in ['score','num_comment']:\n",
    "    data[col] = data[col].astype(int)"
   ]
  },
  {
   "cell_type": "code",
   "execution_count": 235,
   "id": "ad1909a2",
   "metadata": {},
   "outputs": [
    {
     "data": {
      "text/plain": [
       "id                     object\n",
       "title                  object\n",
       "self_text              object\n",
       "date           datetime64[ns]\n",
       "score                   int32\n",
       "num_comment             int32\n",
       "author                 object\n",
       "subreddit              object\n",
       "url                    object\n",
       "dtype: object"
      ]
     },
     "execution_count": 235,
     "metadata": {},
     "output_type": "execute_result"
    }
   ],
   "source": [
    "data.dtypes"
   ]
  },
  {
   "cell_type": "code",
   "execution_count": 236,
   "id": "0721eec8",
   "metadata": {},
   "outputs": [
    {
     "data": {
      "image/png": "[encoded data removed]",
      "text/plain": [
       "<Figure size 1000x400 with 2 Axes>"
      ]
     },
     "metadata": {},
     "output_type": "display_data"
    }
   ],
   "source": [
    "fig , ax = plt.subplots(1,2,figsize=(10,4))\n",
    "ax = ax.flatten()\n",
    "for i , col in  enumerate(['score','num_comment']):\n",
    "    sns.histplot(data, x = col , ax=ax[i],bins=10)\n",
    "    ax[i].set_title(f'distibution of {col}')"
   ]
  },
  {
   "cell_type": "code",
   "execution_count": 237,
   "id": "e9c503df",
   "metadata": {},
   "outputs": [
    {
     "data": {
      "text/plain": [
       "-150"
      ]
     },
     "execution_count": 237,
     "metadata": {},
     "output_type": "execute_result"
    }
   ],
   "source": [
    "# posts with low score\n",
    "len(data.loc[data[\"score\"] < 100]) - len(data)"
   ]
  },
  {
   "cell_type": "code",
   "execution_count": 238,
   "id": "50aeddbb",
   "metadata": {},
   "outputs": [],
   "source": [
    "data = data[data[\"score\"] > 100 ]"
   ]
  },
  {
   "cell_type": "code",
   "execution_count": 239,
   "id": "285b1a72",
   "metadata": {},
   "outputs": [
    {
     "data": {
      "text/plain": [
       "101"
      ]
     },
     "execution_count": 239,
     "metadata": {},
     "output_type": "execute_result"
    }
   ],
   "source": [
    "data.score.min()"
   ]
  },
  {
   "cell_type": "markdown",
   "id": "73b1109a",
   "metadata": {},
   "source": [
    "### **applying the sentiment analysis model finberta** "
   ]
  },
  {
   "cell_type": "markdown",
   "id": "0078c4f9",
   "metadata": {},
   "source": [
    "-**FinRoBERTa (based on RoBERTa)**\n",
    "\n",
    "* 1-Better performance and deeper context understanding in some use cases.\n",
    "\n",
    "* 2-From: yiyanghkust/finbert-tone or you can look into models like mrm8488/bert-tiny-finetuned-financial-news-sentiment."
   ]
  },
  {
   "cell_type": "code",
   "execution_count": null,
   "id": "bdd3c9da",
   "metadata": {},
   "outputs": [],
   "source": [
    "from transformers import  AutoTokenizer , AutoModelForSequenceClassification,pipeline\n",
    "\n",
    "\n",
    "model_name = \"ProsusAI/finbert\"\n",
    "tokenizer = AutoTokenizer.from_pretrained(model_name)\n",
    "model = AutoModelForSequenceClassification.from_pretrained(model_name)\n",
    "nlp = pipeline('sentiment-analysis',model=model,tokenizer=tokenizer,truncation=True)"
   ]
  },
  {
   "cell_type": "markdown",
   "id": "6e9c5a84",
   "metadata": {},
   "source": [
    "##### testing the pipeline "
   ]
  },
  {
   "cell_type": "code",
   "execution_count": 241,
   "id": "bc9050a0",
   "metadata": {},
   "outputs": [],
   "source": [
    "text = \"the CEO is passaway  and the  board is looking a new chairman to replace it this will cause some instabilities on the stock market\"\n",
    "sentiment = nlp(text)[0]"
   ]
  },
  {
   "cell_type": "code",
   "execution_count": 242,
   "id": "06a7e5d2",
   "metadata": {},
   "outputs": [],
   "source": [
    "def get_sentiment(text):\n",
    "    result = nlp(text)[0]\n",
    "    return result['label'],result['score']\n",
    "\n",
    "data[['sentiment','sentiment_score']] = data['self_text'].apply(lambda x : get_sentiment(x)).apply(pd.Series)"
   ]
  },
  {
   "cell_type": "code",
   "execution_count": 243,
   "id": "87b1e14e",
   "metadata": {},
   "outputs": [
    {
     "data": {
      "text/plain": [
       "sentiment\n",
       "neutral     101\n",
       "negative     35\n",
       "positive     12\n",
       "Name: count, dtype: int64"
      ]
     },
     "execution_count": 243,
     "metadata": {},
     "output_type": "execute_result"
    }
   ],
   "source": [
    "data['sentiment'].value_counts()"
   ]
  },
  {
   "cell_type": "code",
   "execution_count": 244,
   "id": "2bbffa35",
   "metadata": {},
   "outputs": [
    {
     "name": "stderr",
     "output_type": "stream",
     "text": [
      "[*********************100%***********************]  1 of 1 completed\n"
     ]
    },
    {
     "data": {
      "text/html": [
       "<div>\n",
       "<style scoped>\n",
       "    .dataframe tbody tr th:only-of-type {\n",
       "        vertical-align: middle;\n",
       "    }\n",
       "\n",
       "    .dataframe tbody tr th {\n",
       "        vertical-align: top;\n",
       "    }\n",
       "\n",
       "    .dataframe thead th {\n",
       "        text-align: right;\n",
       "    }\n",
       "</style>\n",
       "<table border=\"1\" class=\"dataframe\">\n",
       "  <thead>\n",
       "    <tr style=\"text-align: right;\">\n",
       "      <th></th>\n",
       "      <th>id</th>\n",
       "      <th>title</th>\n",
       "      <th>self_text</th>\n",
       "      <th>date</th>\n",
       "      <th>score</th>\n",
       "      <th>num_comment</th>\n",
       "      <th>author</th>\n",
       "      <th>subreddit</th>\n",
       "      <th>url</th>\n",
       "      <th>sentiment</th>\n",
       "      <th>sentiment_score</th>\n",
       "    </tr>\n",
       "  </thead>\n",
       "  <tbody>\n",
       "    <tr>\n",
       "      <th>0</th>\n",
       "      <td>1kxrhap</td>\n",
       "      <td>Nvidia earnings are out – here are the numbers</td>\n",
       "      <td></td>\n",
       "      <td>2025-05-28</td>\n",
       "      <td>1301</td>\n",
       "      <td>318</td>\n",
       "      <td>Force_Hammer</td>\n",
       "      <td>wallstreetbets</td>\n",
       "      <td>https://www.cnbc.com/2025/05/28/nvidia-nvda-ea...</td>\n",
       "      <td>neutral</td>\n",
       "      <td>0.424185</td>\n",
       "    </tr>\n",
       "    <tr>\n",
       "      <th>1</th>\n",
       "      <td>1jhaxzj</td>\n",
       "      <td>Took my Nvidia gains after 3 years of holding ...</td>\n",
       "      <td>Life happened Needed the funds The shares were...</td>\n",
       "      <td>2025-03-22</td>\n",
       "      <td>2535</td>\n",
       "      <td>203</td>\n",
       "      <td>thecheetahexpress</td>\n",
       "      <td>wallstreetbets</td>\n",
       "      <td>https://www.reddit.com/r/wallstreetbets/commen...</td>\n",
       "      <td>neutral</td>\n",
       "      <td>0.863899</td>\n",
       "    </tr>\n",
       "    <tr>\n",
       "      <th>2</th>\n",
       "      <td>1kvuqnj</td>\n",
       "      <td>NVIDIA Artificial Intelligence</td>\n",
       "      <td>Nvidia NVDA has outperformed every stock in th...</td>\n",
       "      <td>2025-05-26</td>\n",
       "      <td>255</td>\n",
       "      <td>86</td>\n",
       "      <td>wilbo75771</td>\n",
       "      <td>wallstreetbets</td>\n",
       "      <td>https://www.reddit.com/gallery/1kvuqnj</td>\n",
       "      <td>neutral</td>\n",
       "      <td>0.581886</td>\n",
       "    </tr>\n",
       "    <tr>\n",
       "      <th>4</th>\n",
       "      <td>1k03vah</td>\n",
       "      <td>Nvidia tanking after hours due to China export...</td>\n",
       "      <td></td>\n",
       "      <td>2025-04-15</td>\n",
       "      <td>12487</td>\n",
       "      <td>974</td>\n",
       "      <td>mayorolivia</td>\n",
       "      <td>wallstreetbets</td>\n",
       "      <td>https://i.redd.it/v5ngumawi2ve1.jpeg</td>\n",
       "      <td>neutral</td>\n",
       "      <td>0.424185</td>\n",
       "    </tr>\n",
       "    <tr>\n",
       "      <th>5</th>\n",
       "      <td>1igaaox</td>\n",
       "      <td>“DeepSeek . . . reportedly has 50,000 Nvidia G...</td>\n",
       "      <td>Industry analyst firm SemiAnalysis reports tha...</td>\n",
       "      <td>2025-02-02</td>\n",
       "      <td>11362</td>\n",
       "      <td>870</td>\n",
       "      <td>superdookietoiletexp</td>\n",
       "      <td>wallstreetbets</td>\n",
       "      <td>https://www.tomshardware.com/tech-industry/art...</td>\n",
       "      <td>negative</td>\n",
       "      <td>0.940869</td>\n",
       "    </tr>\n",
       "    <tr>\n",
       "      <th>...</th>\n",
       "      <td>...</td>\n",
       "      <td>...</td>\n",
       "      <td>...</td>\n",
       "      <td>...</td>\n",
       "      <td>...</td>\n",
       "      <td>...</td>\n",
       "      <td>...</td>\n",
       "      <td>...</td>\n",
       "      <td>...</td>\n",
       "      <td>...</td>\n",
       "      <td>...</td>\n",
       "    </tr>\n",
       "    <tr>\n",
       "      <th>356</th>\n",
       "      <td>1ksyoo2</td>\n",
       "      <td>NVTS, Nvidia, and the WOLF at the door.</td>\n",
       "      <td>Just today Nvidia announced they are going to ...</td>\n",
       "      <td>2025-05-22</td>\n",
       "      <td>119</td>\n",
       "      <td>54</td>\n",
       "      <td>narayan77</td>\n",
       "      <td>pennystocks</td>\n",
       "      <td>https://www.reddit.com/r/pennystocks/comments/...</td>\n",
       "      <td>neutral</td>\n",
       "      <td>0.513783</td>\n",
       "    </tr>\n",
       "    <tr>\n",
       "      <th>361</th>\n",
       "      <td>1hw4bo9</td>\n",
       "      <td>Top 15 mentions of Pennystocks on Pennystock-a...</td>\n",
       "      <td>Since it helped a lot of yall yesterday here t...</td>\n",
       "      <td>2025-01-07</td>\n",
       "      <td>753</td>\n",
       "      <td>303</td>\n",
       "      <td>Short_Natural9024</td>\n",
       "      <td>pennystocks</td>\n",
       "      <td>https://i.redd.it/0unfqg01hnbe1.jpeg</td>\n",
       "      <td>neutral</td>\n",
       "      <td>0.927809</td>\n",
       "    </tr>\n",
       "    <tr>\n",
       "      <th>368</th>\n",
       "      <td>1ilabzs</td>\n",
       "      <td>Should I take profit? Will BBAI dilute?</td>\n",
       "      <td>I never take profits and I have been burned A ...</td>\n",
       "      <td>2025-02-09</td>\n",
       "      <td>153</td>\n",
       "      <td>237</td>\n",
       "      <td>Phat_Kitty_</td>\n",
       "      <td>pennystocks</td>\n",
       "      <td>https://i.redd.it/yx247m5ar2ie1.jpeg</td>\n",
       "      <td>neutral</td>\n",
       "      <td>0.883888</td>\n",
       "    </tr>\n",
       "    <tr>\n",
       "      <th>369</th>\n",
       "      <td>1hywu02</td>\n",
       "      <td>RVSN - P&amp;D or legit opportunity? My research i...</td>\n",
       "      <td>Introduction and disclosure I am in no way ass...</td>\n",
       "      <td>2025-01-11</td>\n",
       "      <td>238</td>\n",
       "      <td>170</td>\n",
       "      <td>Alarming_Turnover_69</td>\n",
       "      <td>pennystocks</td>\n",
       "      <td>https://www.reddit.com/r/pennystocks/comments/...</td>\n",
       "      <td>neutral</td>\n",
       "      <td>0.895987</td>\n",
       "    </tr>\n",
       "    <tr>\n",
       "      <th>370</th>\n",
       "      <td>1hwvnyz</td>\n",
       "      <td>Top 15 mentions of Pennystocks on Pennystock-a...</td>\n",
       "      <td>Here as promised the top mention lost day 3 AH...</td>\n",
       "      <td>2025-01-08</td>\n",
       "      <td>299</td>\n",
       "      <td>122</td>\n",
       "      <td>Short_Natural9024</td>\n",
       "      <td>pennystocks</td>\n",
       "      <td>https://i.redd.it/4ke7mu0z9ube1.jpeg</td>\n",
       "      <td>neutral</td>\n",
       "      <td>0.925228</td>\n",
       "    </tr>\n",
       "  </tbody>\n",
       "</table>\n",
       "<p>148 rows × 11 columns</p>\n",
       "</div>"
      ],
      "text/plain": [
       "          id                                              title  \\\n",
       "0    1kxrhap     Nvidia earnings are out – here are the numbers   \n",
       "1    1jhaxzj  Took my Nvidia gains after 3 years of holding ...   \n",
       "2    1kvuqnj                     NVIDIA Artificial Intelligence   \n",
       "4    1k03vah  Nvidia tanking after hours due to China export...   \n",
       "5    1igaaox  “DeepSeek . . . reportedly has 50,000 Nvidia G...   \n",
       "..       ...                                                ...   \n",
       "356  1ksyoo2            NVTS, Nvidia, and the WOLF at the door.   \n",
       "361  1hw4bo9  Top 15 mentions of Pennystocks on Pennystock-a...   \n",
       "368  1ilabzs            Should I take profit? Will BBAI dilute?   \n",
       "369  1hywu02  RVSN - P&D or legit opportunity? My research i...   \n",
       "370  1hwvnyz  Top 15 mentions of Pennystocks on Pennystock-a...   \n",
       "\n",
       "                                             self_text       date  score  \\\n",
       "0                                                      2025-05-28   1301   \n",
       "1    Life happened Needed the funds The shares were... 2025-03-22   2535   \n",
       "2    Nvidia NVDA has outperformed every stock in th... 2025-05-26    255   \n",
       "4                                                      2025-04-15  12487   \n",
       "5    Industry analyst firm SemiAnalysis reports tha... 2025-02-02  11362   \n",
       "..                                                 ...        ...    ...   \n",
       "356  Just today Nvidia announced they are going to ... 2025-05-22    119   \n",
       "361  Since it helped a lot of yall yesterday here t... 2025-01-07    753   \n",
       "368  I never take profits and I have been burned A ... 2025-02-09    153   \n",
       "369  Introduction and disclosure I am in no way ass... 2025-01-11    238   \n",
       "370  Here as promised the top mention lost day 3 AH... 2025-01-08    299   \n",
       "\n",
       "     num_comment                author       subreddit  \\\n",
       "0            318          Force_Hammer  wallstreetbets   \n",
       "1            203     thecheetahexpress  wallstreetbets   \n",
       "2             86            wilbo75771  wallstreetbets   \n",
       "4            974           mayorolivia  wallstreetbets   \n",
       "5            870  superdookietoiletexp  wallstreetbets   \n",
       "..           ...                   ...             ...   \n",
       "356           54             narayan77     pennystocks   \n",
       "361          303     Short_Natural9024     pennystocks   \n",
       "368          237           Phat_Kitty_     pennystocks   \n",
       "369          170  Alarming_Turnover_69     pennystocks   \n",
       "370          122     Short_Natural9024     pennystocks   \n",
       "\n",
       "                                                   url sentiment  \\\n",
       "0    https://www.cnbc.com/2025/05/28/nvidia-nvda-ea...   neutral   \n",
       "1    https://www.reddit.com/r/wallstreetbets/commen...   neutral   \n",
       "2               https://www.reddit.com/gallery/1kvuqnj   neutral   \n",
       "4                 https://i.redd.it/v5ngumawi2ve1.jpeg   neutral   \n",
       "5    https://www.tomshardware.com/tech-industry/art...  negative   \n",
       "..                                                 ...       ...   \n",
       "356  https://www.reddit.com/r/pennystocks/comments/...   neutral   \n",
       "361               https://i.redd.it/0unfqg01hnbe1.jpeg   neutral   \n",
       "368               https://i.redd.it/yx247m5ar2ie1.jpeg   neutral   \n",
       "369  https://www.reddit.com/r/pennystocks/comments/...   neutral   \n",
       "370               https://i.redd.it/4ke7mu0z9ube1.jpeg   neutral   \n",
       "\n",
       "     sentiment_score  \n",
       "0           0.424185  \n",
       "1           0.863899  \n",
       "2           0.581886  \n",
       "4           0.424185  \n",
       "5           0.940869  \n",
       "..               ...  \n",
       "356         0.513783  \n",
       "361         0.927809  \n",
       "368         0.883888  \n",
       "369         0.895987  \n",
       "370         0.925228  \n",
       "\n",
       "[148 rows x 11 columns]"
      ]
     },
     "execution_count": 244,
     "metadata": {},
     "output_type": "execute_result"
    }
   ],
   "source": [
    "import yfinance as yf\n",
    "\n",
    "df = yf.download('NVDA',start=\"2025-01-01\",end=\"2025-5-31\" )\n",
    "data"
   ]
  },
  {
   "cell_type": "code",
   "execution_count": 245,
   "id": "d9741514",
   "metadata": {},
   "outputs": [],
   "source": [
    "df.columns =df.columns.droplevel(1)"
   ]
  },
  {
   "cell_type": "code",
   "execution_count": 246,
   "id": "7023fcd0",
   "metadata": {},
   "outputs": [],
   "source": [
    "data.set_index('date',inplace=True)\n",
    "data.sort_index(inplace=True)"
   ]
  },
  {
   "cell_type": "code",
   "execution_count": 247,
   "id": "7d2abd01",
   "metadata": {},
   "outputs": [
    {
     "data": {
      "text/html": [
       "<div>\n",
       "<style scoped>\n",
       "    .dataframe tbody tr th:only-of-type {\n",
       "        vertical-align: middle;\n",
       "    }\n",
       "\n",
       "    .dataframe tbody tr th {\n",
       "        vertical-align: top;\n",
       "    }\n",
       "\n",
       "    .dataframe thead th {\n",
       "        text-align: right;\n",
       "    }\n",
       "</style>\n",
       "<table border=\"1\" class=\"dataframe\">\n",
       "  <thead>\n",
       "    <tr style=\"text-align: right;\">\n",
       "      <th></th>\n",
       "      <th>id</th>\n",
       "      <th>title</th>\n",
       "      <th>self_text</th>\n",
       "      <th>score</th>\n",
       "      <th>num_comment</th>\n",
       "      <th>author</th>\n",
       "      <th>subreddit</th>\n",
       "      <th>url</th>\n",
       "      <th>sentiment</th>\n",
       "      <th>sentiment_score</th>\n",
       "    </tr>\n",
       "    <tr>\n",
       "      <th>date</th>\n",
       "      <th></th>\n",
       "      <th></th>\n",
       "      <th></th>\n",
       "      <th></th>\n",
       "      <th></th>\n",
       "      <th></th>\n",
       "      <th></th>\n",
       "      <th></th>\n",
       "      <th></th>\n",
       "      <th></th>\n",
       "    </tr>\n",
       "  </thead>\n",
       "  <tbody>\n",
       "    <tr>\n",
       "      <th>2025-01-04</th>\n",
       "      <td>1ht1rod</td>\n",
       "      <td>Is Amazon still a good investment in 2025?</td>\n",
       "      <td>I see a lot of talk about the Mag7 everywhere ...</td>\n",
       "      <td>103</td>\n",
       "      <td>105</td>\n",
       "      <td>blackswaninvestor88</td>\n",
       "      <td>ValueInvesting</td>\n",
       "      <td>https://www.reddit.com/r/ValueInvesting/commen...</td>\n",
       "      <td>neutral</td>\n",
       "      <td>0.845422</td>\n",
       "    </tr>\n",
       "    <tr>\n",
       "      <th>2025-01-04</th>\n",
       "      <td>1htnnul</td>\n",
       "      <td>Jensen carrying the weight of the world</td>\n",
       "      <td></td>\n",
       "      <td>25091</td>\n",
       "      <td>715</td>\n",
       "      <td>SorryLifeguard7</td>\n",
       "      <td>wallstreetbets</td>\n",
       "      <td>https://i.redd.it/kdkxyd6ne1be1.jpeg</td>\n",
       "      <td>neutral</td>\n",
       "      <td>0.424185</td>\n",
       "    </tr>\n",
       "    <tr>\n",
       "      <th>2025-01-04</th>\n",
       "      <td>1hte71i</td>\n",
       "      <td>NVIDIA Is Now Rumored To Switch Towards Samsun...</td>\n",
       "      <td></td>\n",
       "      <td>2964</td>\n",
       "      <td>292</td>\n",
       "      <td>ZacTheBlob</td>\n",
       "      <td>wallstreetbets</td>\n",
       "      <td>https://wccftech.com/nvidia-is-rumored-to-swit...</td>\n",
       "      <td>neutral</td>\n",
       "      <td>0.424185</td>\n",
       "    </tr>\n",
       "    <tr>\n",
       "      <th>2025-01-06</th>\n",
       "      <td>1hv5dc3</td>\n",
       "      <td>Tesla's Deliveries Disappoint: Time To Take Pr...</td>\n",
       "      <td>Summary  Teslas stock remains overvalued despi...</td>\n",
       "      <td>135</td>\n",
       "      <td>130</td>\n",
       "      <td>Goatofoptions</td>\n",
       "      <td>investing</td>\n",
       "      <td>https://www.reddit.com/r/investing/comments/1h...</td>\n",
       "      <td>negative</td>\n",
       "      <td>0.834820</td>\n",
       "    </tr>\n",
       "    <tr>\n",
       "      <th>2025-01-06</th>\n",
       "      <td>1huxyay</td>\n",
       "      <td>Nvidia supplier Foxconn reports record quarter...</td>\n",
       "      <td>Source Taiwans Foxconn 2317TW opens new tab th...</td>\n",
       "      <td>129</td>\n",
       "      <td>7</td>\n",
       "      <td>thelastsubject123</td>\n",
       "      <td>stocks</td>\n",
       "      <td>https://www.reddit.com/r/stocks/comments/1huxy...</td>\n",
       "      <td>positive</td>\n",
       "      <td>0.948855</td>\n",
       "    </tr>\n",
       "  </tbody>\n",
       "</table>\n",
       "</div>"
      ],
      "text/plain": [
       "                 id                                              title  \\\n",
       "date                                                                     \n",
       "2025-01-04  1ht1rod         Is Amazon still a good investment in 2025?   \n",
       "2025-01-04  1htnnul            Jensen carrying the weight of the world   \n",
       "2025-01-04  1hte71i  NVIDIA Is Now Rumored To Switch Towards Samsun...   \n",
       "2025-01-06  1hv5dc3  Tesla's Deliveries Disappoint: Time To Take Pr...   \n",
       "2025-01-06  1huxyay  Nvidia supplier Foxconn reports record quarter...   \n",
       "\n",
       "                                                    self_text  score  \\\n",
       "date                                                                   \n",
       "2025-01-04  I see a lot of talk about the Mag7 everywhere ...    103   \n",
       "2025-01-04                                                     25091   \n",
       "2025-01-04                                                      2964   \n",
       "2025-01-06  Summary  Teslas stock remains overvalued despi...    135   \n",
       "2025-01-06  Source Taiwans Foxconn 2317TW opens new tab th...    129   \n",
       "\n",
       "            num_comment               author       subreddit  \\\n",
       "date                                                           \n",
       "2025-01-04          105  blackswaninvestor88  ValueInvesting   \n",
       "2025-01-04          715      SorryLifeguard7  wallstreetbets   \n",
       "2025-01-04          292           ZacTheBlob  wallstreetbets   \n",
       "2025-01-06          130        Goatofoptions       investing   \n",
       "2025-01-06            7    thelastsubject123          stocks   \n",
       "\n",
       "                                                          url sentiment  \\\n",
       "date                                                                      \n",
       "2025-01-04  https://www.reddit.com/r/ValueInvesting/commen...   neutral   \n",
       "2025-01-04               https://i.redd.it/kdkxyd6ne1be1.jpeg   neutral   \n",
       "2025-01-04  https://wccftech.com/nvidia-is-rumored-to-swit...   neutral   \n",
       "2025-01-06  https://www.reddit.com/r/investing/comments/1h...  negative   \n",
       "2025-01-06  https://www.reddit.com/r/stocks/comments/1huxy...  positive   \n",
       "\n",
       "            sentiment_score  \n",
       "date                         \n",
       "2025-01-04         0.845422  \n",
       "2025-01-04         0.424185  \n",
       "2025-01-04         0.424185  \n",
       "2025-01-06         0.834820  \n",
       "2025-01-06         0.948855  "
      ]
     },
     "execution_count": 247,
     "metadata": {},
     "output_type": "execute_result"
    }
   ],
   "source": [
    "data.head()"
   ]
  },
  {
   "cell_type": "code",
   "execution_count": 248,
   "id": "3ddf4be2",
   "metadata": {},
   "outputs": [],
   "source": [
    "def map_sentiment(sentiment):\n",
    "    if sentiment == \"positive\" :\n",
    "        return 1\n",
    "    elif sentiment == \"negative\":\n",
    "        return -1\n",
    "    elif sentiment == \"neutral\":\n",
    "        return 0 "
   ]
  },
  {
   "cell_type": "code",
   "execution_count": 249,
   "id": "ef8dcfd3",
   "metadata": {},
   "outputs": [],
   "source": [
    "data['reinforced_sentiment'] = data['score'] * 0.5 * data['sentiment_score'] * data['sentiment'].map(map_sentiment)"
   ]
  },
  {
   "cell_type": "code",
   "execution_count": 250,
   "id": "63d33ed9",
   "metadata": {},
   "outputs": [
    {
     "data": {
      "text/html": [
       "<div>\n",
       "<style scoped>\n",
       "    .dataframe tbody tr th:only-of-type {\n",
       "        vertical-align: middle;\n",
       "    }\n",
       "\n",
       "    .dataframe tbody tr th {\n",
       "        vertical-align: top;\n",
       "    }\n",
       "\n",
       "    .dataframe thead th {\n",
       "        text-align: right;\n",
       "    }\n",
       "</style>\n",
       "<table border=\"1\" class=\"dataframe\">\n",
       "  <thead>\n",
       "    <tr style=\"text-align: right;\">\n",
       "      <th></th>\n",
       "      <th>id</th>\n",
       "      <th>title</th>\n",
       "      <th>self_text</th>\n",
       "      <th>score</th>\n",
       "      <th>num_comment</th>\n",
       "      <th>author</th>\n",
       "      <th>subreddit</th>\n",
       "      <th>url</th>\n",
       "      <th>sentiment</th>\n",
       "      <th>sentiment_score</th>\n",
       "      <th>reinforced_sentiment</th>\n",
       "    </tr>\n",
       "    <tr>\n",
       "      <th>date</th>\n",
       "      <th></th>\n",
       "      <th></th>\n",
       "      <th></th>\n",
       "      <th></th>\n",
       "      <th></th>\n",
       "      <th></th>\n",
       "      <th></th>\n",
       "      <th></th>\n",
       "      <th></th>\n",
       "      <th></th>\n",
       "      <th></th>\n",
       "    </tr>\n",
       "  </thead>\n",
       "  <tbody>\n",
       "    <tr>\n",
       "      <th>2025-01-04</th>\n",
       "      <td>1ht1rod</td>\n",
       "      <td>Is Amazon still a good investment in 2025?</td>\n",
       "      <td>I see a lot of talk about the Mag7 everywhere ...</td>\n",
       "      <td>103</td>\n",
       "      <td>105</td>\n",
       "      <td>blackswaninvestor88</td>\n",
       "      <td>ValueInvesting</td>\n",
       "      <td>https://www.reddit.com/r/ValueInvesting/commen...</td>\n",
       "      <td>neutral</td>\n",
       "      <td>0.845422</td>\n",
       "      <td>0.000000</td>\n",
       "    </tr>\n",
       "    <tr>\n",
       "      <th>2025-01-04</th>\n",
       "      <td>1htnnul</td>\n",
       "      <td>Jensen carrying the weight of the world</td>\n",
       "      <td></td>\n",
       "      <td>25091</td>\n",
       "      <td>715</td>\n",
       "      <td>SorryLifeguard7</td>\n",
       "      <td>wallstreetbets</td>\n",
       "      <td>https://i.redd.it/kdkxyd6ne1be1.jpeg</td>\n",
       "      <td>neutral</td>\n",
       "      <td>0.424185</td>\n",
       "      <td>0.000000</td>\n",
       "    </tr>\n",
       "    <tr>\n",
       "      <th>2025-01-04</th>\n",
       "      <td>1hte71i</td>\n",
       "      <td>NVIDIA Is Now Rumored To Switch Towards Samsun...</td>\n",
       "      <td></td>\n",
       "      <td>2964</td>\n",
       "      <td>292</td>\n",
       "      <td>ZacTheBlob</td>\n",
       "      <td>wallstreetbets</td>\n",
       "      <td>https://wccftech.com/nvidia-is-rumored-to-swit...</td>\n",
       "      <td>neutral</td>\n",
       "      <td>0.424185</td>\n",
       "      <td>0.000000</td>\n",
       "    </tr>\n",
       "    <tr>\n",
       "      <th>2025-01-06</th>\n",
       "      <td>1hv5dc3</td>\n",
       "      <td>Tesla's Deliveries Disappoint: Time To Take Pr...</td>\n",
       "      <td>Summary  Teslas stock remains overvalued despi...</td>\n",
       "      <td>135</td>\n",
       "      <td>130</td>\n",
       "      <td>Goatofoptions</td>\n",
       "      <td>investing</td>\n",
       "      <td>https://www.reddit.com/r/investing/comments/1h...</td>\n",
       "      <td>negative</td>\n",
       "      <td>0.834820</td>\n",
       "      <td>-56.350340</td>\n",
       "    </tr>\n",
       "    <tr>\n",
       "      <th>2025-01-06</th>\n",
       "      <td>1huxyay</td>\n",
       "      <td>Nvidia supplier Foxconn reports record quarter...</td>\n",
       "      <td>Source Taiwans Foxconn 2317TW opens new tab th...</td>\n",
       "      <td>129</td>\n",
       "      <td>7</td>\n",
       "      <td>thelastsubject123</td>\n",
       "      <td>stocks</td>\n",
       "      <td>https://www.reddit.com/r/stocks/comments/1huxy...</td>\n",
       "      <td>positive</td>\n",
       "      <td>0.948855</td>\n",
       "      <td>61.201177</td>\n",
       "    </tr>\n",
       "  </tbody>\n",
       "</table>\n",
       "</div>"
      ],
      "text/plain": [
       "                 id                                              title  \\\n",
       "date                                                                     \n",
       "2025-01-04  1ht1rod         Is Amazon still a good investment in 2025?   \n",
       "2025-01-04  1htnnul            Jensen carrying the weight of the world   \n",
       "2025-01-04  1hte71i  NVIDIA Is Now Rumored To Switch Towards Samsun...   \n",
       "2025-01-06  1hv5dc3  Tesla's Deliveries Disappoint: Time To Take Pr...   \n",
       "2025-01-06  1huxyay  Nvidia supplier Foxconn reports record quarter...   \n",
       "\n",
       "                                                    self_text  score  \\\n",
       "date                                                                   \n",
       "2025-01-04  I see a lot of talk about the Mag7 everywhere ...    103   \n",
       "2025-01-04                                                     25091   \n",
       "2025-01-04                                                      2964   \n",
       "2025-01-06  Summary  Teslas stock remains overvalued despi...    135   \n",
       "2025-01-06  Source Taiwans Foxconn 2317TW opens new tab th...    129   \n",
       "\n",
       "            num_comment               author       subreddit  \\\n",
       "date                                                           \n",
       "2025-01-04          105  blackswaninvestor88  ValueInvesting   \n",
       "2025-01-04          715      SorryLifeguard7  wallstreetbets   \n",
       "2025-01-04          292           ZacTheBlob  wallstreetbets   \n",
       "2025-01-06          130        Goatofoptions       investing   \n",
       "2025-01-06            7    thelastsubject123          stocks   \n",
       "\n",
       "                                                          url sentiment  \\\n",
       "date                                                                      \n",
       "2025-01-04  https://www.reddit.com/r/ValueInvesting/commen...   neutral   \n",
       "2025-01-04               https://i.redd.it/kdkxyd6ne1be1.jpeg   neutral   \n",
       "2025-01-04  https://wccftech.com/nvidia-is-rumored-to-swit...   neutral   \n",
       "2025-01-06  https://www.reddit.com/r/investing/comments/1h...  negative   \n",
       "2025-01-06  https://www.reddit.com/r/stocks/comments/1huxy...  positive   \n",
       "\n",
       "            sentiment_score  reinforced_sentiment  \n",
       "date                                               \n",
       "2025-01-04         0.845422              0.000000  \n",
       "2025-01-04         0.424185              0.000000  \n",
       "2025-01-04         0.424185              0.000000  \n",
       "2025-01-06         0.834820            -56.350340  \n",
       "2025-01-06         0.948855             61.201177  "
      ]
     },
     "execution_count": 250,
     "metadata": {},
     "output_type": "execute_result"
    }
   ],
   "source": [
    "data.head()"
   ]
  },
  {
   "cell_type": "code",
   "execution_count": 251,
   "id": "9c7d71c2",
   "metadata": {},
   "outputs": [
    {
     "data": {
      "text/html": [
       "<div>\n",
       "<style scoped>\n",
       "    .dataframe tbody tr th:only-of-type {\n",
       "        vertical-align: middle;\n",
       "    }\n",
       "\n",
       "    .dataframe tbody tr th {\n",
       "        vertical-align: top;\n",
       "    }\n",
       "\n",
       "    .dataframe thead th {\n",
       "        text-align: right;\n",
       "    }\n",
       "</style>\n",
       "<table border=\"1\" class=\"dataframe\">\n",
       "  <thead>\n",
       "    <tr style=\"text-align: right;\">\n",
       "      <th></th>\n",
       "      <th>date</th>\n",
       "      <th>reinforced_sentiment</th>\n",
       "    </tr>\n",
       "  </thead>\n",
       "  <tbody>\n",
       "    <tr>\n",
       "      <th>0</th>\n",
       "      <td>2025-01-04</td>\n",
       "      <td>0.000000</td>\n",
       "    </tr>\n",
       "    <tr>\n",
       "      <th>1</th>\n",
       "      <td>2025-01-06</td>\n",
       "      <td>2.425419</td>\n",
       "    </tr>\n",
       "    <tr>\n",
       "      <th>2</th>\n",
       "      <td>2025-01-07</td>\n",
       "      <td>11.816204</td>\n",
       "    </tr>\n",
       "    <tr>\n",
       "      <th>3</th>\n",
       "      <td>2025-01-08</td>\n",
       "      <td>0.000000</td>\n",
       "    </tr>\n",
       "    <tr>\n",
       "      <th>4</th>\n",
       "      <td>2025-01-09</td>\n",
       "      <td>0.000000</td>\n",
       "    </tr>\n",
       "  </tbody>\n",
       "</table>\n",
       "</div>"
      ],
      "text/plain": [
       "        date  reinforced_sentiment\n",
       "0 2025-01-04              0.000000\n",
       "1 2025-01-06              2.425419\n",
       "2 2025-01-07             11.816204\n",
       "3 2025-01-08              0.000000\n",
       "4 2025-01-09              0.000000"
      ]
     },
     "execution_count": 251,
     "metadata": {},
     "output_type": "execute_result"
    }
   ],
   "source": [
    "sentiment_evolution = data.groupby(data.index)['reinforced_sentiment'].mean().reset_index()\n",
    "sentiment_evolution.head()"
   ]
  },
  {
   "cell_type": "code",
   "execution_count": null,
   "id": "595c31f9",
   "metadata": {},
   "outputs": [],
   "source": []
  },
  {
   "cell_type": "code",
   "execution_count": 252,
   "id": "0cbb2868",
   "metadata": {},
   "outputs": [],
   "source": [
    "df['date'] = df.index"
   ]
  },
  {
   "cell_type": "code",
   "execution_count": 253,
   "id": "2f53583f",
   "metadata": {},
   "outputs": [],
   "source": [
    "df_1 = pd.merge(sentiment_evolution,df[['Close','date']],on='date',how='left')"
   ]
  },
  {
   "cell_type": "code",
   "execution_count": 254,
   "id": "bbb70ba8",
   "metadata": {},
   "outputs": [
    {
     "data": {
      "text/plain": [
       "date                     0\n",
       "reinforced_sentiment     0\n",
       "Close                   20\n",
       "dtype: int64"
      ]
     },
     "execution_count": 254,
     "metadata": {},
     "output_type": "execute_result"
    }
   ],
   "source": [
    "df_1.isna().sum()"
   ]
  },
  {
   "cell_type": "code",
   "execution_count": 273,
   "id": "319a8d9f",
   "metadata": {},
   "outputs": [],
   "source": [
    "def sentiment(reinforced_sentiment):\n",
    "    if reinforced_sentiment > 0 :\n",
    "        return \"positive\"\n",
    "    elif reinforced_sentiment == 0 :\n",
    "        return   \"neutral\"\n",
    "    elif  reinforced_sentiment < 0 :\n",
    "        return \"negative\"\n",
    "\n",
    "df_1['sentiment'] = df_1['reinforced_sentiment'].map(sentiment)"
   ]
  },
  {
   "cell_type": "code",
   "execution_count": 274,
   "id": "b639482f",
   "metadata": {},
   "outputs": [
    {
     "data": {
      "text/html": [
       "<div>\n",
       "<style scoped>\n",
       "    .dataframe tbody tr th:only-of-type {\n",
       "        vertical-align: middle;\n",
       "    }\n",
       "\n",
       "    .dataframe tbody tr th {\n",
       "        vertical-align: top;\n",
       "    }\n",
       "\n",
       "    .dataframe thead th {\n",
       "        text-align: right;\n",
       "    }\n",
       "</style>\n",
       "<table border=\"1\" class=\"dataframe\">\n",
       "  <thead>\n",
       "    <tr style=\"text-align: right;\">\n",
       "      <th></th>\n",
       "      <th>date</th>\n",
       "      <th>reinforced_sentiment</th>\n",
       "      <th>Close</th>\n",
       "      <th>sentiment</th>\n",
       "      <th>color</th>\n",
       "    </tr>\n",
       "  </thead>\n",
       "  <tbody>\n",
       "    <tr>\n",
       "      <th>1</th>\n",
       "      <td>2025-01-06</td>\n",
       "      <td>2.425419</td>\n",
       "      <td>149.416245</td>\n",
       "      <td>positive</td>\n",
       "      <td>blue</td>\n",
       "    </tr>\n",
       "    <tr>\n",
       "      <th>2</th>\n",
       "      <td>2025-01-07</td>\n",
       "      <td>11.816204</td>\n",
       "      <td>140.127106</td>\n",
       "      <td>positive</td>\n",
       "      <td>blue</td>\n",
       "    </tr>\n",
       "    <tr>\n",
       "      <th>3</th>\n",
       "      <td>2025-01-08</td>\n",
       "      <td>0.000000</td>\n",
       "      <td>140.097122</td>\n",
       "      <td>neutral</td>\n",
       "      <td>gray</td>\n",
       "    </tr>\n",
       "    <tr>\n",
       "      <th>5</th>\n",
       "      <td>2025-01-10</td>\n",
       "      <td>0.000000</td>\n",
       "      <td>135.897507</td>\n",
       "      <td>neutral</td>\n",
       "      <td>gray</td>\n",
       "    </tr>\n",
       "    <tr>\n",
       "      <th>7</th>\n",
       "      <td>2025-01-13</td>\n",
       "      <td>-80.840910</td>\n",
       "      <td>133.217743</td>\n",
       "      <td>negative</td>\n",
       "      <td>NaN</td>\n",
       "    </tr>\n",
       "  </tbody>\n",
       "</table>\n",
       "</div>"
      ],
      "text/plain": [
       "        date  reinforced_sentiment       Close sentiment color\n",
       "1 2025-01-06              2.425419  149.416245  positive  blue\n",
       "2 2025-01-07             11.816204  140.127106  positive  blue\n",
       "3 2025-01-08              0.000000  140.097122   neutral  gray\n",
       "5 2025-01-10              0.000000  135.897507   neutral  gray\n",
       "7 2025-01-13            -80.840910  133.217743  negative   NaN"
      ]
     },
     "execution_count": 274,
     "metadata": {},
     "output_type": "execute_result"
    }
   ],
   "source": [
    "df_1.head()"
   ]
  },
  {
   "cell_type": "code",
   "execution_count": 255,
   "id": "666c62d1",
   "metadata": {},
   "outputs": [],
   "source": [
    "df_1.dropna(axis=0,inplace=True)"
   ]
  },
  {
   "cell_type": "code",
   "execution_count": 282,
   "id": "22c9d041",
   "metadata": {},
   "outputs": [],
   "source": [
    "color_map = {\n",
    "    'positive': 'green',\n",
    "    'neutral': 'gray',\n",
    "    'negative': 'red'\n",
    "}\n",
    "# Map the colors\n",
    "df_1['color'] = df_1['sentiment'].map(color_map)"
   ]
  },
  {
   "cell_type": "code",
   "execution_count": 283,
   "id": "8278c81c",
   "metadata": {},
   "outputs": [
    {
     "data": {
      "application/vnd.plotly.v1+json": {
       "config": {
        "plotlyServerURL": "https://plot.ly"
       },
       "data": [
        {
         "line": {
          "color": "green"
         },
         "mode": "lines+markers",
         "name": "Closing price on the NVDA stocks",
         "type": "scatter",
         "x": [
          "2025-01-06T00:00:00.000000000",
          "2025-01-07T00:00:00.000000000",
          "2025-01-08T00:00:00.000000000",
          "2025-01-10T00:00:00.000000000",
          "2025-01-13T00:00:00.000000000",
          "2025-01-15T00:00:00.000000000",
          "2025-01-17T00:00:00.000000000",
          "2025-01-21T00:00:00.000000000",
          "2025-01-22T00:00:00.000000000",
          "2025-01-24T00:00:00.000000000",
          "2025-01-27T00:00:00.000000000",
          "2025-01-28T00:00:00.000000000",
          "2025-01-29T00:00:00.000000000",
          "2025-01-30T00:00:00.000000000",
          "2025-01-31T00:00:00.000000000",
          "2025-02-03T00:00:00.000000000",
          "2025-02-10T00:00:00.000000000",
          "2025-02-11T00:00:00.000000000",
          "2025-02-12T00:00:00.000000000",
          "2025-02-14T00:00:00.000000000",
          "2025-02-25T00:00:00.000000000",
          "2025-02-26T00:00:00.000000000",
          "2025-02-27T00:00:00.000000000",
          "2025-02-28T00:00:00.000000000",
          "2025-03-03T00:00:00.000000000",
          "2025-03-04T00:00:00.000000000",
          "2025-03-06T00:00:00.000000000",
          "2025-03-10T00:00:00.000000000",
          "2025-03-12T00:00:00.000000000",
          "2025-03-13T00:00:00.000000000",
          "2025-03-18T00:00:00.000000000",
          "2025-03-20T00:00:00.000000000",
          "2025-03-21T00:00:00.000000000",
          "2025-03-24T00:00:00.000000000",
          "2025-03-28T00:00:00.000000000",
          "2025-03-31T00:00:00.000000000",
          "2025-04-03T00:00:00.000000000",
          "2025-04-08T00:00:00.000000000",
          "2025-04-09T00:00:00.000000000",
          "2025-04-14T00:00:00.000000000",
          "2025-04-15T00:00:00.000000000",
          "2025-04-16T00:00:00.000000000",
          "2025-04-17T00:00:00.000000000",
          "2025-04-28T00:00:00.000000000",
          "2025-05-01T00:00:00.000000000",
          "2025-05-02T00:00:00.000000000",
          "2025-05-05T00:00:00.000000000",
          "2025-05-06T00:00:00.000000000",
          "2025-05-07T00:00:00.000000000",
          "2025-05-12T00:00:00.000000000",
          "2025-05-13T00:00:00.000000000",
          "2025-05-14T00:00:00.000000000",
          "2025-05-20T00:00:00.000000000",
          "2025-05-21T00:00:00.000000000",
          "2025-05-22T00:00:00.000000000",
          "2025-05-23T00:00:00.000000000",
          "2025-05-28T00:00:00.000000000",
          "2025-05-29T00:00:00.000000000"
         ],
         "y": {
          "bdata": "AAAA4FGtYkAAAABAEYRhQAAAAKAbg2FAAAAAYLj8YEAAAADA96ZgQAAAAIBHB2FAAAAAoFA2YUAAAABAJZphQAAAAMDOYWJAAAAAgGvTYUAAAADALppdQAAAAABNH2BAAAAAYBLsXkAAAADA3ShfQAAAAADGA15AAAAAwI0pXUAAAADg2LFgQAAAAKA1mWBAAAAAIBhkYEAAAACgylphQAAAACCTp19AAAAA4JJoYEAAAACg5AheQAAAAAAlOl9AAAAAICuDXEAAAABgrf5cQAAAAEDUo1tAAAAAIBe+WkAAAAAgXO9cQAAAAMAe5VxAAAAAIIXbXEAAAACA66FdQAAAAMDMbF1AAAAAgD1aXkAAAABA4WpbQAAAAOBRGFtAAAAAQDNzWUAAAABAMxNYQAAAAMAelVxAAAAAoHCtW0AAAADAzAxcQAAAACBcH1pAAAAAIFxfWUAAAABguC5bQAAAAEAK51tAAAAAAACgXEAAAADgenRcQAAAAGCPYlxAAAAAANdDXUAAAAAAAMBeQAAAAIDCPWBAAAAAQOHqYEAAAAAAKcxgQAAAAKCZeWBAAAAAYI+aYEAAAACgR2lgQAAAAIDr2WBAAAAAgBRmYUA=",
          "dtype": "f8"
         },
         "yaxis": "y2"
        },
        {
         "line": {
          "color": "blue"
         },
         "marker": {
          "color": [
           "green",
           "green",
           "gray",
           "gray",
           "red",
           "gray",
           "gray",
           "gray",
           "gray",
           "gray",
           "red",
           "red",
           "red",
           "green",
           "gray",
           "gray",
           "gray",
           "red",
           "red",
           "gray",
           "red",
           "red",
           "green",
           "red",
           "gray",
           "red",
           "red",
           "gray",
           "red",
           "gray",
           "gray",
           "gray",
           "red",
           "gray",
           "gray",
           "gray",
           "red",
           "red",
           "gray",
           "green",
           "red",
           "red",
           "gray",
           "red",
           "gray",
           "green",
           "gray",
           "red",
           "gray",
           "green",
           "gray",
           "gray",
           "gray",
           "gray",
           "gray",
           "gray",
           "gray",
           "gray"
          ]
         },
         "mode": "lines+markers",
         "name": "Sentiment",
         "type": "scatter",
         "x": [
          "2025-01-06T00:00:00.000000000",
          "2025-01-07T00:00:00.000000000",
          "2025-01-08T00:00:00.000000000",
          "2025-01-10T00:00:00.000000000",
          "2025-01-13T00:00:00.000000000",
          "2025-01-15T00:00:00.000000000",
          "2025-01-17T00:00:00.000000000",
          "2025-01-21T00:00:00.000000000",
          "2025-01-22T00:00:00.000000000",
          "2025-01-24T00:00:00.000000000",
          "2025-01-27T00:00:00.000000000",
          "2025-01-28T00:00:00.000000000",
          "2025-01-29T00:00:00.000000000",
          "2025-01-30T00:00:00.000000000",
          "2025-01-31T00:00:00.000000000",
          "2025-02-03T00:00:00.000000000",
          "2025-02-10T00:00:00.000000000",
          "2025-02-11T00:00:00.000000000",
          "2025-02-12T00:00:00.000000000",
          "2025-02-14T00:00:00.000000000",
          "2025-02-25T00:00:00.000000000",
          "2025-02-26T00:00:00.000000000",
          "2025-02-27T00:00:00.000000000",
          "2025-02-28T00:00:00.000000000",
          "2025-03-03T00:00:00.000000000",
          "2025-03-04T00:00:00.000000000",
          "2025-03-06T00:00:00.000000000",
          "2025-03-10T00:00:00.000000000",
          "2025-03-12T00:00:00.000000000",
          "2025-03-13T00:00:00.000000000",
          "2025-03-18T00:00:00.000000000",
          "2025-03-20T00:00:00.000000000",
          "2025-03-21T00:00:00.000000000",
          "2025-03-24T00:00:00.000000000",
          "2025-03-28T00:00:00.000000000",
          "2025-03-31T00:00:00.000000000",
          "2025-04-03T00:00:00.000000000",
          "2025-04-08T00:00:00.000000000",
          "2025-04-09T00:00:00.000000000",
          "2025-04-14T00:00:00.000000000",
          "2025-04-15T00:00:00.000000000",
          "2025-04-16T00:00:00.000000000",
          "2025-04-17T00:00:00.000000000",
          "2025-04-28T00:00:00.000000000",
          "2025-05-01T00:00:00.000000000",
          "2025-05-02T00:00:00.000000000",
          "2025-05-05T00:00:00.000000000",
          "2025-05-06T00:00:00.000000000",
          "2025-05-07T00:00:00.000000000",
          "2025-05-12T00:00:00.000000000",
          "2025-05-13T00:00:00.000000000",
          "2025-05-14T00:00:00.000000000",
          "2025-05-20T00:00:00.000000000",
          "2025-05-21T00:00:00.000000000",
          "2025-05-22T00:00:00.000000000",
          "2025-05-23T00:00:00.000000000",
          "2025-05-28T00:00:00.000000000",
          "2025-05-29T00:00:00.000000000"
         ],
         "y": {
          "bdata": "AAAA1EFnA0AAAACI5aEnQAAAAAAAAAAAAAAAAAAAAAAAAMB40TVUwAAAAAAAAAAAAAAAAAAAAAAAAAAAAAAAAAAAAAAAAAAAAAAAAAAAAADNzJHE4E6XwNu2jXZ8kmvAAAAAFHFVRsAAAIAcq8t6QAAAAAAAAAAAAAAAAAAAAAAAAAAAAAAAAAAAICm5g5bAAADw9rSnc8AAAAAAAAAAAAAAAH75EFDAmpm5wKUzXMAzM3PIVIRCQAAAkL4OtY3AAAAAAAAAAAAAAMA6RA50wKuqekli+WPAAAAAAAAAAAAAANiN4JaDwAAAAAAAAAAAAAAAAAAAAAAAAAAAAAAAAAAAoG5MuXDAAAAAAAAAAAAAAAAAAAAAAAAAAAAAAAAAq6pqXTxYV8AAAMgWTCaIwAAAAAAAAAAAVVUVqEP/WkAAAABS8UhhwAAAzDdYtY/AAAAAAAAAAAAAAAAAq7zxvwAAAAAAAAAAAACA3RpXKkAAAAAAAAAAAAAAgNimN1DAAAAAAAAAAAAAAADU1IZLQAAAAAAAAAAAAAAAAAAAAAAAAAAAAAAAAAAAAAAAAAAAAAAAAAAAAAAAAAAAAAAAAAAAAAAAAAAAAAAAAAAAAAA=",
          "dtype": "f8"
         },
         "yaxis": "y"
        }
       ],
       "layout": {
        "legend": {
         "orientation": "h",
         "x": 0.1,
         "y": 1.1
        },
        "margin": {
         "l": 60,
         "r": 120,
         "t": 80
        },
        "template": {
         "data": {
          "bar": [
           {
            "error_x": {
             "color": "#2a3f5f"
            },
            "error_y": {
             "color": "#2a3f5f"
            },
            "marker": {
             "line": {
              "color": "#E5ECF6",
              "width": 0.5
             },
             "pattern": {
              "fillmode": "overlay",
              "size": 10,
              "solidity": 0.2
             }
            },
            "type": "bar"
           }
          ],
          "barpolar": [
           {
            "marker": {
             "line": {
              "color": "#E5ECF6",
              "width": 0.5
             },
             "pattern": {
              "fillmode": "overlay",
              "size": 10,
              "solidity": 0.2
             }
            },
            "type": "barpolar"
           }
          ],
          "carpet": [
           {
            "aaxis": {
             "endlinecolor": "#2a3f5f",
             "gridcolor": "white",
             "linecolor": "white",
             "minorgridcolor": "white",
             "startlinecolor": "#2a3f5f"
            },
            "baxis": {
             "endlinecolor": "#2a3f5f",
             "gridcolor": "white",
             "linecolor": "white",
             "minorgridcolor": "white",
             "startlinecolor": "#2a3f5f"
            },
            "type": "carpet"
           }
          ],
          "choropleth": [
           {
            "colorbar": {
             "outlinewidth": 0,
             "ticks": ""
            },
            "type": "choropleth"
           }
          ],
          "contour": [
           {
            "colorbar": {
             "outlinewidth": 0,
             "ticks": ""
            },
            "colorscale": [
             [
              0,
              "#0d0887"
             ],
             [
              0.1111111111111111,
              "#46039f"
             ],
             [
              0.2222222222222222,
              "#7201a8"
             ],
             [
              0.3333333333333333,
              "#9c179e"
             ],
             [
              0.4444444444444444,
              "#bd3786"
             ],
             [
              0.5555555555555556,
              "#d8576b"
             ],
             [
              0.6666666666666666,
              "#ed7953"
             ],
             [
              0.7777777777777778,
              "#fb9f3a"
             ],
             [
              0.8888888888888888,
              "#fdca26"
             ],
             [
              1,
              "#f0f921"
             ]
            ],
            "type": "contour"
           }
          ],
          "contourcarpet": [
           {
            "colorbar": {
             "outlinewidth": 0,
             "ticks": ""
            },
            "type": "contourcarpet"
           }
          ],
          "heatmap": [
           {
            "colorbar": {
             "outlinewidth": 0,
             "ticks": ""
            },
            "colorscale": [
             [
              0,
              "#0d0887"
             ],
             [
              0.1111111111111111,
              "#46039f"
             ],
             [
              0.2222222222222222,
              "#7201a8"
             ],
             [
              0.3333333333333333,
              "#9c179e"
             ],
             [
              0.4444444444444444,
              "#bd3786"
             ],
             [
              0.5555555555555556,
              "#d8576b"
             ],
             [
              0.6666666666666666,
              "#ed7953"
             ],
             [
              0.7777777777777778,
              "#fb9f3a"
             ],
             [
              0.8888888888888888,
              "#fdca26"
             ],
             [
              1,
              "#f0f921"
             ]
            ],
            "type": "heatmap"
           }
          ],
          "histogram": [
           {
            "marker": {
             "pattern": {
              "fillmode": "overlay",
              "size": 10,
              "solidity": 0.2
             }
            },
            "type": "histogram"
           }
          ],
          "histogram2d": [
           {
            "colorbar": {
             "outlinewidth": 0,
             "ticks": ""
            },
            "colorscale": [
             [
              0,
              "#0d0887"
             ],
             [
              0.1111111111111111,
              "#46039f"
             ],
             [
              0.2222222222222222,
              "#7201a8"
             ],
             [
              0.3333333333333333,
              "#9c179e"
             ],
             [
              0.4444444444444444,
              "#bd3786"
             ],
             [
              0.5555555555555556,
              "#d8576b"
             ],
             [
              0.6666666666666666,
              "#ed7953"
             ],
             [
              0.7777777777777778,
              "#fb9f3a"
             ],
             [
              0.8888888888888888,
              "#fdca26"
             ],
             [
              1,
              "#f0f921"
             ]
            ],
            "type": "histogram2d"
           }
          ],
          "histogram2dcontour": [
           {
            "colorbar": {
             "outlinewidth": 0,
             "ticks": ""
            },
            "colorscale": [
             [
              0,
              "#0d0887"
             ],
             [
              0.1111111111111111,
              "#46039f"
             ],
             [
              0.2222222222222222,
              "#7201a8"
             ],
             [
              0.3333333333333333,
              "#9c179e"
             ],
             [
              0.4444444444444444,
              "#bd3786"
             ],
             [
              0.5555555555555556,
              "#d8576b"
             ],
             [
              0.6666666666666666,
              "#ed7953"
             ],
             [
              0.7777777777777778,
              "#fb9f3a"
             ],
             [
              0.8888888888888888,
              "#fdca26"
             ],
             [
              1,
              "#f0f921"
             ]
            ],
            "type": "histogram2dcontour"
           }
          ],
          "mesh3d": [
           {
            "colorbar": {
             "outlinewidth": 0,
             "ticks": ""
            },
            "type": "mesh3d"
           }
          ],
          "parcoords": [
           {
            "line": {
             "colorbar": {
              "outlinewidth": 0,
              "ticks": ""
             }
            },
            "type": "parcoords"
           }
          ],
          "pie": [
           {
            "automargin": true,
            "type": "pie"
           }
          ],
          "scatter": [
           {
            "fillpattern": {
             "fillmode": "overlay",
             "size": 10,
             "solidity": 0.2
            },
            "type": "scatter"
           }
          ],
          "scatter3d": [
           {
            "line": {
             "colorbar": {
              "outlinewidth": 0,
              "ticks": ""
             }
            },
            "marker": {
             "colorbar": {
              "outlinewidth": 0,
              "ticks": ""
             }
            },
            "type": "scatter3d"
           }
          ],
          "scattercarpet": [
           {
            "marker": {
             "colorbar": {
              "outlinewidth": 0,
              "ticks": ""
             }
            },
            "type": "scattercarpet"
           }
          ],
          "scattergeo": [
           {
            "marker": {
             "colorbar": {
              "outlinewidth": 0,
              "ticks": ""
             }
            },
            "type": "scattergeo"
           }
          ],
          "scattergl": [
           {
            "marker": {
             "colorbar": {
              "outlinewidth": 0,
              "ticks": ""
             }
            },
            "type": "scattergl"
           }
          ],
          "scattermap": [
           {
            "marker": {
             "colorbar": {
              "outlinewidth": 0,
              "ticks": ""
             }
            },
            "type": "scattermap"
           }
          ],
          "scattermapbox": [
           {
            "marker": {
             "colorbar": {
              "outlinewidth": 0,
              "ticks": ""
             }
            },
            "type": "scattermapbox"
           }
          ],
          "scatterpolar": [
           {
            "marker": {
             "colorbar": {
              "outlinewidth": 0,
              "ticks": ""
             }
            },
            "type": "scatterpolar"
           }
          ],
          "scatterpolargl": [
           {
            "marker": {
             "colorbar": {
              "outlinewidth": 0,
              "ticks": ""
             }
            },
            "type": "scatterpolargl"
           }
          ],
          "scatterternary": [
           {
            "marker": {
             "colorbar": {
              "outlinewidth": 0,
              "ticks": ""
             }
            },
            "type": "scatterternary"
           }
          ],
          "surface": [
           {
            "colorbar": {
             "outlinewidth": 0,
             "ticks": ""
            },
            "colorscale": [
             [
              0,
              "#0d0887"
             ],
             [
              0.1111111111111111,
              "#46039f"
             ],
             [
              0.2222222222222222,
              "#7201a8"
             ],
             [
              0.3333333333333333,
              "#9c179e"
             ],
             [
              0.4444444444444444,
              "#bd3786"
             ],
             [
              0.5555555555555556,
              "#d8576b"
             ],
             [
              0.6666666666666666,
              "#ed7953"
             ],
             [
              0.7777777777777778,
              "#fb9f3a"
             ],
             [
              0.8888888888888888,
              "#fdca26"
             ],
             [
              1,
              "#f0f921"
             ]
            ],
            "type": "surface"
           }
          ],
          "table": [
           {
            "cells": {
             "fill": {
              "color": "#EBF0F8"
             },
             "line": {
              "color": "white"
             }
            },
            "header": {
             "fill": {
              "color": "#C8D4E3"
             },
             "line": {
              "color": "white"
             }
            },
            "type": "table"
           }
          ]
         },
         "layout": {
          "annotationdefaults": {
           "arrowcolor": "#2a3f5f",
           "arrowhead": 0,
           "arrowwidth": 1
          },
          "autotypenumbers": "strict",
          "coloraxis": {
           "colorbar": {
            "outlinewidth": 0,
            "ticks": ""
           }
          },
          "colorscale": {
           "diverging": [
            [
             0,
             "#8e0152"
            ],
            [
             0.1,
             "#c51b7d"
            ],
            [
             0.2,
             "#de77ae"
            ],
            [
             0.3,
             "#f1b6da"
            ],
            [
             0.4,
             "#fde0ef"
            ],
            [
             0.5,
             "#f7f7f7"
            ],
            [
             0.6,
             "#e6f5d0"
            ],
            [
             0.7,
             "#b8e186"
            ],
            [
             0.8,
             "#7fbc41"
            ],
            [
             0.9,
             "#4d9221"
            ],
            [
             1,
             "#276419"
            ]
           ],
           "sequential": [
            [
             0,
             "#0d0887"
            ],
            [
             0.1111111111111111,
             "#46039f"
            ],
            [
             0.2222222222222222,
             "#7201a8"
            ],
            [
             0.3333333333333333,
             "#9c179e"
            ],
            [
             0.4444444444444444,
             "#bd3786"
            ],
            [
             0.5555555555555556,
             "#d8576b"
            ],
            [
             0.6666666666666666,
             "#ed7953"
            ],
            [
             0.7777777777777778,
             "#fb9f3a"
            ],
            [
             0.8888888888888888,
             "#fdca26"
            ],
            [
             1,
             "#f0f921"
            ]
           ],
           "sequentialminus": [
            [
             0,
             "#0d0887"
            ],
            [
             0.1111111111111111,
             "#46039f"
            ],
            [
             0.2222222222222222,
             "#7201a8"
            ],
            [
             0.3333333333333333,
             "#9c179e"
            ],
            [
             0.4444444444444444,
             "#bd3786"
            ],
            [
             0.5555555555555556,
             "#d8576b"
            ],
            [
             0.6666666666666666,
             "#ed7953"
            ],
            [
             0.7777777777777778,
             "#fb9f3a"
            ],
            [
             0.8888888888888888,
             "#fdca26"
            ],
            [
             1,
             "#f0f921"
            ]
           ]
          },
          "colorway": [
           "#636efa",
           "#EF553B",
           "#00cc96",
           "#ab63fa",
           "#FFA15A",
           "#19d3f3",
           "#FF6692",
           "#B6E880",
           "#FF97FF",
           "#FECB52"
          ],
          "font": {
           "color": "#2a3f5f"
          },
          "geo": {
           "bgcolor": "white",
           "lakecolor": "white",
           "landcolor": "#E5ECF6",
           "showlakes": true,
           "showland": true,
           "subunitcolor": "white"
          },
          "hoverlabel": {
           "align": "left"
          },
          "hovermode": "closest",
          "mapbox": {
           "style": "light"
          },
          "paper_bgcolor": "white",
          "plot_bgcolor": "#E5ECF6",
          "polar": {
           "angularaxis": {
            "gridcolor": "white",
            "linecolor": "white",
            "ticks": ""
           },
           "bgcolor": "#E5ECF6",
           "radialaxis": {
            "gridcolor": "white",
            "linecolor": "white",
            "ticks": ""
           }
          },
          "scene": {
           "xaxis": {
            "backgroundcolor": "#E5ECF6",
            "gridcolor": "white",
            "gridwidth": 2,
            "linecolor": "white",
            "showbackground": true,
            "ticks": "",
            "zerolinecolor": "white"
           },
           "yaxis": {
            "backgroundcolor": "#E5ECF6",
            "gridcolor": "white",
            "gridwidth": 2,
            "linecolor": "white",
            "showbackground": true,
            "ticks": "",
            "zerolinecolor": "white"
           },
           "zaxis": {
            "backgroundcolor": "#E5ECF6",
            "gridcolor": "white",
            "gridwidth": 2,
            "linecolor": "white",
            "showbackground": true,
            "ticks": "",
            "zerolinecolor": "white"
           }
          },
          "shapedefaults": {
           "line": {
            "color": "#2a3f5f"
           }
          },
          "ternary": {
           "aaxis": {
            "gridcolor": "white",
            "linecolor": "white",
            "ticks": ""
           },
           "baxis": {
            "gridcolor": "white",
            "linecolor": "white",
            "ticks": ""
           },
           "bgcolor": "#E5ECF6",
           "caxis": {
            "gridcolor": "white",
            "linecolor": "white",
            "ticks": ""
           }
          },
          "title": {
           "x": 0.05
          },
          "xaxis": {
           "automargin": true,
           "gridcolor": "white",
           "linecolor": "white",
           "ticks": "",
           "title": {
            "standoff": 15
           },
           "zerolinecolor": "white",
           "zerolinewidth": 2
          },
          "yaxis": {
           "automargin": true,
           "gridcolor": "white",
           "linecolor": "white",
           "ticks": "",
           "title": {
            "standoff": 15
           },
           "zerolinecolor": "white",
           "zerolinewidth": 2
          }
         }
        },
        "title": {
         "text": "Reinforced Sentiment and Closing Price evolution"
        },
        "yaxis": {
         "side": "left",
         "title": {
          "text": "Reinforced Sentiment"
         }
        },
        "yaxis2": {
         "anchor": "x",
         "overlaying": "y",
         "position": 0.85,
         "side": "right",
         "title": {
          "text": "Closing Price"
         }
        }
       }
      }
     },
     "metadata": {},
     "output_type": "display_data"
    }
   ],
   "source": [
    "fig = go.Figure()\n",
    "\n",
    "# Closing Price (right y-axis #1)\n",
    "fig.add_trace(go.Scatter(\n",
    "    x=df_1['date'],\n",
    "    y=df_1['Close'],\n",
    "    mode='lines+markers',\n",
    "    yaxis='y2',\n",
    "    name='Closing price on the NVDA stocks',\n",
    "    line=dict(color='green')\n",
    "))\n",
    "\n",
    "# Reinforced Sentiment (left y-axis)\n",
    "fig.add_trace(go.Scatter(\n",
    "    x=df_1['date'],\n",
    "    y=df_1['reinforced_sentiment'],\n",
    "    mode='lines+markers',\n",
    "    yaxis='y1',\n",
    "    name='Sentiment',\n",
    "    marker=dict(color=df_1['color']),\n",
    "    line=dict(color='blue')\n",
    "))\n",
    "\n",
    "\n",
    "\n",
    "fig.update_layout(\n",
    "    title='Reinforced Sentiment and Closing Price evolution',\n",
    "    yaxis=dict(\n",
    "        title='Reinforced Sentiment',\n",
    "        side='left'  \n",
    "    ),\n",
    "    \n",
    "    yaxis2=dict(\n",
    "        title='Closing Price',\n",
    "\n",
    "        anchor='x',\n",
    "        overlaying='y',\n",
    "        side='right',\n",
    "        position=0.85\n",
    "    ),\n",
    "    \n",
    "    legend=dict(x=0.1, y=1.1, orientation='h'),\n",
    "    margin=dict(l=60, r=120, t=80)\n",
    ")\n",
    "\n",
    "fig.show()\n"
   ]
  },
  {
   "cell_type": "code",
   "execution_count": 257,
   "id": "743d71fe",
   "metadata": {},
   "outputs": [],
   "source": [
    "corr = df_1[['reinforced_sentiment','Close']].corr()"
   ]
  },
  {
   "cell_type": "code",
   "execution_count": 281,
   "id": "8c32fce8",
   "metadata": {},
   "outputs": [
    {
     "data": {
      "application/vnd.plotly.v1+json": {
       "config": {
        "plotlyServerURL": "https://plot.ly"
       },
       "data": [
        {
         "colorscale": [
          [
           0,
           "rgb(0, 155, 158)"
          ],
          [
           0.16666666666666666,
           "rgb(66, 183, 185)"
          ],
          [
           0.3333333333333333,
           "rgb(167, 211, 212)"
          ],
          [
           0.5,
           "rgb(241, 241, 241)"
          ],
          [
           0.6666666666666666,
           "rgb(228, 193, 217)"
          ],
          [
           0.8333333333333334,
           "rgb(214, 145, 193)"
          ],
          [
           1,
           "rgb(199, 93, 171)"
          ]
         ],
         "type": "heatmap",
         "x": [
          "reinforced_sentiment",
          "Close"
         ],
         "y": [
          "reinforced_sentiment",
          "Close"
         ],
         "z": {
          "bdata": "AAAAAAAA8D8XaeRpb0vFPxdp5GlvS8U/AAAAAAAA8D8=",
          "dtype": "f8",
          "shape": "2, 2"
         }
        }
       ],
       "layout": {
        "template": {
         "data": {
          "bar": [
           {
            "error_x": {
             "color": "#2a3f5f"
            },
            "error_y": {
             "color": "#2a3f5f"
            },
            "marker": {
             "line": {
              "color": "#E5ECF6",
              "width": 0.5
             },
             "pattern": {
              "fillmode": "overlay",
              "size": 10,
              "solidity": 0.2
             }
            },
            "type": "bar"
           }
          ],
          "barpolar": [
           {
            "marker": {
             "line": {
              "color": "#E5ECF6",
              "width": 0.5
             },
             "pattern": {
              "fillmode": "overlay",
              "size": 10,
              "solidity": 0.2
             }
            },
            "type": "barpolar"
           }
          ],
          "carpet": [
           {
            "aaxis": {
             "endlinecolor": "#2a3f5f",
             "gridcolor": "white",
             "linecolor": "white",
             "minorgridcolor": "white",
             "startlinecolor": "#2a3f5f"
            },
            "baxis": {
             "endlinecolor": "#2a3f5f",
             "gridcolor": "white",
             "linecolor": "white",
             "minorgridcolor": "white",
             "startlinecolor": "#2a3f5f"
            },
            "type": "carpet"
           }
          ],
          "choropleth": [
           {
            "colorbar": {
             "outlinewidth": 0,
             "ticks": ""
            },
            "type": "choropleth"
           }
          ],
          "contour": [
           {
            "colorbar": {
             "outlinewidth": 0,
             "ticks": ""
            },
            "colorscale": [
             [
              0,
              "#0d0887"
             ],
             [
              0.1111111111111111,
              "#46039f"
             ],
             [
              0.2222222222222222,
              "#7201a8"
             ],
             [
              0.3333333333333333,
              "#9c179e"
             ],
             [
              0.4444444444444444,
              "#bd3786"
             ],
             [
              0.5555555555555556,
              "#d8576b"
             ],
             [
              0.6666666666666666,
              "#ed7953"
             ],
             [
              0.7777777777777778,
              "#fb9f3a"
             ],
             [
              0.8888888888888888,
              "#fdca26"
             ],
             [
              1,
              "#f0f921"
             ]
            ],
            "type": "contour"
           }
          ],
          "contourcarpet": [
           {
            "colorbar": {
             "outlinewidth": 0,
             "ticks": ""
            },
            "type": "contourcarpet"
           }
          ],
          "heatmap": [
           {
            "colorbar": {
             "outlinewidth": 0,
             "ticks": ""
            },
            "colorscale": [
             [
              0,
              "#0d0887"
             ],
             [
              0.1111111111111111,
              "#46039f"
             ],
             [
              0.2222222222222222,
              "#7201a8"
             ],
             [
              0.3333333333333333,
              "#9c179e"
             ],
             [
              0.4444444444444444,
              "#bd3786"
             ],
             [
              0.5555555555555556,
              "#d8576b"
             ],
             [
              0.6666666666666666,
              "#ed7953"
             ],
             [
              0.7777777777777778,
              "#fb9f3a"
             ],
             [
              0.8888888888888888,
              "#fdca26"
             ],
             [
              1,
              "#f0f921"
             ]
            ],
            "type": "heatmap"
           }
          ],
          "histogram": [
           {
            "marker": {
             "pattern": {
              "fillmode": "overlay",
              "size": 10,
              "solidity": 0.2
             }
            },
            "type": "histogram"
           }
          ],
          "histogram2d": [
           {
            "colorbar": {
             "outlinewidth": 0,
             "ticks": ""
            },
            "colorscale": [
             [
              0,
              "#0d0887"
             ],
             [
              0.1111111111111111,
              "#46039f"
             ],
             [
              0.2222222222222222,
              "#7201a8"
             ],
             [
              0.3333333333333333,
              "#9c179e"
             ],
             [
              0.4444444444444444,
              "#bd3786"
             ],
             [
              0.5555555555555556,
              "#d8576b"
             ],
             [
              0.6666666666666666,
              "#ed7953"
             ],
             [
              0.7777777777777778,
              "#fb9f3a"
             ],
             [
              0.8888888888888888,
              "#fdca26"
             ],
             [
              1,
              "#f0f921"
             ]
            ],
            "type": "histogram2d"
           }
          ],
          "histogram2dcontour": [
           {
            "colorbar": {
             "outlinewidth": 0,
             "ticks": ""
            },
            "colorscale": [
             [
              0,
              "#0d0887"
             ],
             [
              0.1111111111111111,
              "#46039f"
             ],
             [
              0.2222222222222222,
              "#7201a8"
             ],
             [
              0.3333333333333333,
              "#9c179e"
             ],
             [
              0.4444444444444444,
              "#bd3786"
             ],
             [
              0.5555555555555556,
              "#d8576b"
             ],
             [
              0.6666666666666666,
              "#ed7953"
             ],
             [
              0.7777777777777778,
              "#fb9f3a"
             ],
             [
              0.8888888888888888,
              "#fdca26"
             ],
             [
              1,
              "#f0f921"
             ]
            ],
            "type": "histogram2dcontour"
           }
          ],
          "mesh3d": [
           {
            "colorbar": {
             "outlinewidth": 0,
             "ticks": ""
            },
            "type": "mesh3d"
           }
          ],
          "parcoords": [
           {
            "line": {
             "colorbar": {
              "outlinewidth": 0,
              "ticks": ""
             }
            },
            "type": "parcoords"
           }
          ],
          "pie": [
           {
            "automargin": true,
            "type": "pie"
           }
          ],
          "scatter": [
           {
            "fillpattern": {
             "fillmode": "overlay",
             "size": 10,
             "solidity": 0.2
            },
            "type": "scatter"
           }
          ],
          "scatter3d": [
           {
            "line": {
             "colorbar": {
              "outlinewidth": 0,
              "ticks": ""
             }
            },
            "marker": {
             "colorbar": {
              "outlinewidth": 0,
              "ticks": ""
             }
            },
            "type": "scatter3d"
           }
          ],
          "scattercarpet": [
           {
            "marker": {
             "colorbar": {
              "outlinewidth": 0,
              "ticks": ""
             }
            },
            "type": "scattercarpet"
           }
          ],
          "scattergeo": [
           {
            "marker": {
             "colorbar": {
              "outlinewidth": 0,
              "ticks": ""
             }
            },
            "type": "scattergeo"
           }
          ],
          "scattergl": [
           {
            "marker": {
             "colorbar": {
              "outlinewidth": 0,
              "ticks": ""
             }
            },
            "type": "scattergl"
           }
          ],
          "scattermap": [
           {
            "marker": {
             "colorbar": {
              "outlinewidth": 0,
              "ticks": ""
             }
            },
            "type": "scattermap"
           }
          ],
          "scattermapbox": [
           {
            "marker": {
             "colorbar": {
              "outlinewidth": 0,
              "ticks": ""
             }
            },
            "type": "scattermapbox"
           }
          ],
          "scatterpolar": [
           {
            "marker": {
             "colorbar": {
              "outlinewidth": 0,
              "ticks": ""
             }
            },
            "type": "scatterpolar"
           }
          ],
          "scatterpolargl": [
           {
            "marker": {
             "colorbar": {
              "outlinewidth": 0,
              "ticks": ""
             }
            },
            "type": "scatterpolargl"
           }
          ],
          "scatterternary": [
           {
            "marker": {
             "colorbar": {
              "outlinewidth": 0,
              "ticks": ""
             }
            },
            "type": "scatterternary"
           }
          ],
          "surface": [
           {
            "colorbar": {
             "outlinewidth": 0,
             "ticks": ""
            },
            "colorscale": [
             [
              0,
              "#0d0887"
             ],
             [
              0.1111111111111111,
              "#46039f"
             ],
             [
              0.2222222222222222,
              "#7201a8"
             ],
             [
              0.3333333333333333,
              "#9c179e"
             ],
             [
              0.4444444444444444,
              "#bd3786"
             ],
             [
              0.5555555555555556,
              "#d8576b"
             ],
             [
              0.6666666666666666,
              "#ed7953"
             ],
             [
              0.7777777777777778,
              "#fb9f3a"
             ],
             [
              0.8888888888888888,
              "#fdca26"
             ],
             [
              1,
              "#f0f921"
             ]
            ],
            "type": "surface"
           }
          ],
          "table": [
           {
            "cells": {
             "fill": {
              "color": "#EBF0F8"
             },
             "line": {
              "color": "white"
             }
            },
            "header": {
             "fill": {
              "color": "#C8D4E3"
             },
             "line": {
              "color": "white"
             }
            },
            "type": "table"
           }
          ]
         },
         "layout": {
          "annotationdefaults": {
           "arrowcolor": "#2a3f5f",
           "arrowhead": 0,
           "arrowwidth": 1
          },
          "autotypenumbers": "strict",
          "coloraxis": {
           "colorbar": {
            "outlinewidth": 0,
            "ticks": ""
           }
          },
          "colorscale": {
           "diverging": [
            [
             0,
             "#8e0152"
            ],
            [
             0.1,
             "#c51b7d"
            ],
            [
             0.2,
             "#de77ae"
            ],
            [
             0.3,
             "#f1b6da"
            ],
            [
             0.4,
             "#fde0ef"
            ],
            [
             0.5,
             "#f7f7f7"
            ],
            [
             0.6,
             "#e6f5d0"
            ],
            [
             0.7,
             "#b8e186"
            ],
            [
             0.8,
             "#7fbc41"
            ],
            [
             0.9,
             "#4d9221"
            ],
            [
             1,
             "#276419"
            ]
           ],
           "sequential": [
            [
             0,
             "#0d0887"
            ],
            [
             0.1111111111111111,
             "#46039f"
            ],
            [
             0.2222222222222222,
             "#7201a8"
            ],
            [
             0.3333333333333333,
             "#9c179e"
            ],
            [
             0.4444444444444444,
             "#bd3786"
            ],
            [
             0.5555555555555556,
             "#d8576b"
            ],
            [
             0.6666666666666666,
             "#ed7953"
            ],
            [
             0.7777777777777778,
             "#fb9f3a"
            ],
            [
             0.8888888888888888,
             "#fdca26"
            ],
            [
             1,
             "#f0f921"
            ]
           ],
           "sequentialminus": [
            [
             0,
             "#0d0887"
            ],
            [
             0.1111111111111111,
             "#46039f"
            ],
            [
             0.2222222222222222,
             "#7201a8"
            ],
            [
             0.3333333333333333,
             "#9c179e"
            ],
            [
             0.4444444444444444,
             "#bd3786"
            ],
            [
             0.5555555555555556,
             "#d8576b"
            ],
            [
             0.6666666666666666,
             "#ed7953"
            ],
            [
             0.7777777777777778,
             "#fb9f3a"
            ],
            [
             0.8888888888888888,
             "#fdca26"
            ],
            [
             1,
             "#f0f921"
            ]
           ]
          },
          "colorway": [
           "#636efa",
           "#EF553B",
           "#00cc96",
           "#ab63fa",
           "#FFA15A",
           "#19d3f3",
           "#FF6692",
           "#B6E880",
           "#FF97FF",
           "#FECB52"
          ],
          "font": {
           "color": "#2a3f5f"
          },
          "geo": {
           "bgcolor": "white",
           "lakecolor": "white",
           "landcolor": "#E5ECF6",
           "showlakes": true,
           "showland": true,
           "subunitcolor": "white"
          },
          "hoverlabel": {
           "align": "left"
          },
          "hovermode": "closest",
          "mapbox": {
           "style": "light"
          },
          "paper_bgcolor": "white",
          "plot_bgcolor": "#E5ECF6",
          "polar": {
           "angularaxis": {
            "gridcolor": "white",
            "linecolor": "white",
            "ticks": ""
           },
           "bgcolor": "#E5ECF6",
           "radialaxis": {
            "gridcolor": "white",
            "linecolor": "white",
            "ticks": ""
           }
          },
          "scene": {
           "xaxis": {
            "backgroundcolor": "#E5ECF6",
            "gridcolor": "white",
            "gridwidth": 2,
            "linecolor": "white",
            "showbackground": true,
            "ticks": "",
            "zerolinecolor": "white"
           },
           "yaxis": {
            "backgroundcolor": "#E5ECF6",
            "gridcolor": "white",
            "gridwidth": 2,
            "linecolor": "white",
            "showbackground": true,
            "ticks": "",
            "zerolinecolor": "white"
           },
           "zaxis": {
            "backgroundcolor": "#E5ECF6",
            "gridcolor": "white",
            "gridwidth": 2,
            "linecolor": "white",
            "showbackground": true,
            "ticks": "",
            "zerolinecolor": "white"
           }
          },
          "shapedefaults": {
           "line": {
            "color": "#2a3f5f"
           }
          },
          "ternary": {
           "aaxis": {
            "gridcolor": "white",
            "linecolor": "white",
            "ticks": ""
           },
           "baxis": {
            "gridcolor": "white",
            "linecolor": "white",
            "ticks": ""
           },
           "bgcolor": "#E5ECF6",
           "caxis": {
            "gridcolor": "white",
            "linecolor": "white",
            "ticks": ""
           }
          },
          "title": {
           "x": 0.05
          },
          "xaxis": {
           "automargin": true,
           "gridcolor": "white",
           "linecolor": "white",
           "ticks": "",
           "title": {
            "standoff": 15
           },
           "zerolinecolor": "white",
           "zerolinewidth": 2
          },
          "yaxis": {
           "automargin": true,
           "gridcolor": "white",
           "linecolor": "white",
           "ticks": "",
           "title": {
            "standoff": 15
           },
           "zerolinecolor": "white",
           "zerolinewidth": 2
          }
         }
        }
       }
      }
     },
     "metadata": {},
     "output_type": "display_data"
    }
   ],
   "source": [
    "fig = go.Figure(data=go.Heatmap(\n",
    "                z=corr.values,\n",
    "                x = corr.columns,\n",
    "                y= corr.index,\n",
    "                colorscale='tropic',\n",
    "))\n",
    "fig.show()"
   ]
  }
 ],
 "metadata": {
  "kernelspec": {
   "display_name": "transformers_env",
   "language": "python",
   "name": "python3"
  },
  "language_info": {
   "codemirror_mode": {
    "name": "ipython",
    "version": 3
   },
   "file_extension": ".py",
   "mimetype": "text/x-python",
   "name": "python",
   "nbconvert_exporter": "python",
   "pygments_lexer": "ipython3",
   "version": "3.8.20"
  }
 },
 "nbformat": 4,
 "nbformat_minor": 5
}
