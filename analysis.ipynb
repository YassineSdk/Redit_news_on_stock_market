{
 "cells": [
  {
   "cell_type": "code",
   "execution_count": 154,
   "id": "e76fd626",
   "metadata": {},
   "outputs": [],
   "source": [
    "import praw\n",
    "import datetime as dt\n",
    "import warnings\n",
    "warnings.filterwarnings(\"ignore\")\n",
    "from datetime import datetime,timezone\n",
    "from tqdm import  tqdm\n",
    "import pandas as pd \n",
    "import seaborn as sns \n",
    "import matplotlib.pyplot as plt"
   ]
  },
  {
   "cell_type": "markdown",
   "id": "5892947c",
   "metadata": {},
   "source": [
    "### **Loading the data using the reddit API**"
   ]
  },
  {
   "cell_type": "code",
   "execution_count": 156,
   "id": "b6cb8478",
   "metadata": {},
   "outputs": [],
   "source": [
    "# time range \n",
    "start = datetime(2025,3,1,tzinfo=timezone.utc)\n",
    "end = datetime(2025,5,31,23,59,59,tzinfo=timezone.utc)"
   ]
  },
  {
   "cell_type": "code",
   "execution_count": 157,
   "id": "77f127ca",
   "metadata": {},
   "outputs": [
    {
     "name": "stderr",
     "output_type": "stream",
     "text": [
      "searcing for data about wallstreetbets: 240it [00:04, 58.31it/s]\n",
      "searcing for data about stocks: 226it [00:04, 54.28it/s]\n",
      "searcing for data about investing: 234it [00:03, 61.55it/s]\n",
      "searcing for data about options: 242it [00:04, 57.76it/s]\n",
      "searcing for data about ValueInvesting: 237it [00:03, 75.18it/s]\n",
      "searcing for data about Finance: 3it [00:00, 11.26it/s]\n",
      "searcing for data about pennystocks: 167it [00:03, 46.81it/s]\n"
     ]
    },
    {
     "data": {
      "text/html": [
       "<div>\n",
       "<style scoped>\n",
       "    .dataframe tbody tr th:only-of-type {\n",
       "        vertical-align: middle;\n",
       "    }\n",
       "\n",
       "    .dataframe tbody tr th {\n",
       "        vertical-align: top;\n",
       "    }\n",
       "\n",
       "    .dataframe thead th {\n",
       "        text-align: right;\n",
       "    }\n",
       "</style>\n",
       "<table border=\"1\" class=\"dataframe\">\n",
       "  <thead>\n",
       "    <tr style=\"text-align: right;\">\n",
       "      <th></th>\n",
       "      <th>id</th>\n",
       "      <th>title</th>\n",
       "      <th>self_text</th>\n",
       "      <th>date</th>\n",
       "      <th>score</th>\n",
       "      <th>num_comment</th>\n",
       "      <th>author</th>\n",
       "      <th>subreddit</th>\n",
       "      <th>url</th>\n",
       "    </tr>\n",
       "  </thead>\n",
       "  <tbody>\n",
       "    <tr>\n",
       "      <th>0</th>\n",
       "      <td>1kxrhap</td>\n",
       "      <td>Nvidia earnings are out – here are the numbers</td>\n",
       "      <td></td>\n",
       "      <td>2025-05-28</td>\n",
       "      <td>1303</td>\n",
       "      <td>318</td>\n",
       "      <td>Force_Hammer</td>\n",
       "      <td>wallstreetbets</td>\n",
       "      <td>https://www.cnbc.com/2025/05/28/nvidia-nvda-ea...</td>\n",
       "    </tr>\n",
       "    <tr>\n",
       "      <th>1</th>\n",
       "      <td>1jhaxzj</td>\n",
       "      <td>Took my Nvidia gains after 3 years of holding ...</td>\n",
       "      <td>https://preview.redd.it/iemihvrce9qe1.png?widt...</td>\n",
       "      <td>2025-03-22</td>\n",
       "      <td>2536</td>\n",
       "      <td>203</td>\n",
       "      <td>thecheetahexpress</td>\n",
       "      <td>wallstreetbets</td>\n",
       "      <td>https://www.reddit.com/r/wallstreetbets/commen...</td>\n",
       "    </tr>\n",
       "    <tr>\n",
       "      <th>2</th>\n",
       "      <td>1kvuqnj</td>\n",
       "      <td>NVIDIA Artificial Intelligence</td>\n",
       "      <td>Nvidia ([NVDA](https://finance.yahoo.com/quote...</td>\n",
       "      <td>2025-05-26</td>\n",
       "      <td>256</td>\n",
       "      <td>86</td>\n",
       "      <td>wilbo75771</td>\n",
       "      <td>wallstreetbets</td>\n",
       "      <td>https://www.reddit.com/gallery/1kvuqnj</td>\n",
       "    </tr>\n",
       "    <tr>\n",
       "      <th>3</th>\n",
       "      <td>1kx0udl</td>\n",
       "      <td>50k on NVDA</td>\n",
       "      <td>What covered call strikes should I sell? 🤔</td>\n",
       "      <td>2025-05-27</td>\n",
       "      <td>42</td>\n",
       "      <td>23</td>\n",
       "      <td>BokuwaKami</td>\n",
       "      <td>wallstreetbets</td>\n",
       "      <td>https://i.redd.it/eyiut7vvhe3f1.jpeg</td>\n",
       "    </tr>\n",
       "    <tr>\n",
       "      <th>4</th>\n",
       "      <td>1k03vah</td>\n",
       "      <td>Nvidia tanking after hours due to China export...</td>\n",
       "      <td></td>\n",
       "      <td>2025-04-15</td>\n",
       "      <td>12474</td>\n",
       "      <td>974</td>\n",
       "      <td>mayorolivia</td>\n",
       "      <td>wallstreetbets</td>\n",
       "      <td>https://i.redd.it/v5ngumawi2ve1.jpeg</td>\n",
       "    </tr>\n",
       "  </tbody>\n",
       "</table>\n",
       "</div>"
      ],
      "text/plain": [
       "        id                                              title  \\\n",
       "0  1kxrhap     Nvidia earnings are out – here are the numbers   \n",
       "1  1jhaxzj  Took my Nvidia gains after 3 years of holding ...   \n",
       "2  1kvuqnj                     NVIDIA Artificial Intelligence   \n",
       "3  1kx0udl                                        50k on NVDA   \n",
       "4  1k03vah  Nvidia tanking after hours due to China export...   \n",
       "\n",
       "                                           self_text        date  score  \\\n",
       "0                                                     2025-05-28   1303   \n",
       "1  https://preview.redd.it/iemihvrce9qe1.png?widt...  2025-03-22   2536   \n",
       "2  Nvidia ([NVDA](https://finance.yahoo.com/quote...  2025-05-26    256   \n",
       "3         What covered call strikes should I sell? 🤔  2025-05-27     42   \n",
       "4                                                     2025-04-15  12474   \n",
       "\n",
       "   num_comment             author       subreddit  \\\n",
       "0          318       Force_Hammer  wallstreetbets   \n",
       "1          203  thecheetahexpress  wallstreetbets   \n",
       "2           86         wilbo75771  wallstreetbets   \n",
       "3           23         BokuwaKami  wallstreetbets   \n",
       "4          974        mayorolivia  wallstreetbets   \n",
       "\n",
       "                                                 url  \n",
       "0  https://www.cnbc.com/2025/05/28/nvidia-nvda-ea...  \n",
       "1  https://www.reddit.com/r/wallstreetbets/commen...  \n",
       "2             https://www.reddit.com/gallery/1kvuqnj  \n",
       "3               https://i.redd.it/eyiut7vvhe3f1.jpeg  \n",
       "4               https://i.redd.it/v5ngumawi2ve1.jpeg  "
      ]
     },
     "execution_count": 157,
     "metadata": {},
     "output_type": "execute_result"
    }
   ],
   "source": [
    "# connection \n",
    "\n",
    "reddit = praw.Reddit(\n",
    "    client_id=\"eK7Gid3MOrvEWkCkXqHpVw\",\n",
    "    client_secret=\"vRj93NZQIDXpR43cX07CeESEcNsg7w\",\n",
    "    user_agent=\"SentimentBot\"\n",
    ")\n",
    "subreddits = [\"wallstreetbets\",\"stocks\",\"investing\",\"options\",\"ValueInvesting\",\"Finance\",\"pennystocks\"]\n",
    "redit_post = []\n",
    "\n",
    "for subreddit in subreddits :\n",
    "    for submission in tqdm(reddit.subreddit(subreddit).search('NVIDIA',limit=1000),desc = f'searcing for data about {subreddit}'):\n",
    "        post_time = datetime.fromtimestamp(submission.created_utc,tz=timezone.utc)\n",
    "        \n",
    "        if start <= post_time <= end :\n",
    "            redit_post.append({\n",
    "                'id':submission.id,\n",
    "            'title' : submission.title,\n",
    "            'self_text' : submission.selftext,\n",
    "            'date' : post_time.strftime('%Y-%m-%d'),\n",
    "            'score' : submission.score,\n",
    "            'num_comment' : submission.num_comments,\n",
    "            'author' : str(submission.author),\n",
    "            'subreddit' : str(submission.subreddit),\n",
    "            'url' : submission.url})\n",
    "data = pd.DataFrame(redit_post)\n",
    "data.head()\n"
   ]
  },
  {
   "cell_type": "markdown",
   "id": "e503e848",
   "metadata": {},
   "source": [
    "### **Data cleaning** "
   ]
  },
  {
   "cell_type": "markdown",
   "id": "54a7564b",
   "metadata": {},
   "source": [
    "##### after getting the data we need to clean the self_text from any links , markdown ...... for the analysis purpose"
   ]
  },
  {
   "cell_type": "code",
   "execution_count": null,
   "id": "e0b25c4d",
   "metadata": {},
   "outputs": [
    {
     "data": {
      "text/plain": [
       "<bound method NDFrame.head of           id                                              title  \\\n",
       "0    1kxrhap     Nvidia earnings are out – here are the numbers   \n",
       "1    1jhaxzj  Took my Nvidia gains after 3 years of holding ...   \n",
       "2    1kvuqnj                     NVIDIA Artificial Intelligence   \n",
       "3    1kx0udl                                        50k on NVDA   \n",
       "4    1k03vah  Nvidia tanking after hours due to China export...   \n",
       "..       ...                                                ...   \n",
       "206  1jfs1v3  $RR: Richtech Robotics and Ghost Kitchens Anno...   \n",
       "207  1jlgglm                          The Glimpse Group ($VRAR)   \n",
       "208  1j8n51q  $IB.V (IBC Advanced Alloys) – Undervalued Penn...   \n",
       "209  1jiqegn  $VCIG: VCI Global Expands AI Footprint with US...   \n",
       "210  1j23obw                                 $FCCN on the rise!   \n",
       "\n",
       "                                             self_text        date  score  \\\n",
       "0                                                       2025-05-28   1303   \n",
       "1    https://preview.redd.it/iemihvrce9qe1.png?widt...  2025-03-22   2536   \n",
       "2    Nvidia ([NVDA](https://finance.yahoo.com/quote...  2025-05-26    256   \n",
       "3           What covered call strikes should I sell? 🤔  2025-05-27     42   \n",
       "4                                                       2025-04-15  12474   \n",
       "..                                                 ...         ...    ...   \n",
       "206  $RR: News:\\n\\nRichtech Robotics (Nasdaq: RR) h...  2025-03-20     11   \n",
       "207  $VRAR \\n\\nTop tier customers. $NVDA $WMT $MSFT...  2025-03-27      5   \n",
       "208  Hey r/pennystocks, a first post about IBC Adva...  2025-03-11      1   \n",
       "209  $VCIG : News: \\n\\nVCI Global (NASDAQ: VCIG) ha...  2025-03-24      5   \n",
       "210  Good afternoon, my fellow penny-stock aficiona...  2025-03-02      7   \n",
       "\n",
       "     num_comment                author       subreddit  \\\n",
       "0            318          Force_Hammer  wallstreetbets   \n",
       "1            203     thecheetahexpress  wallstreetbets   \n",
       "2             86            wilbo75771  wallstreetbets   \n",
       "3             23            BokuwaKami  wallstreetbets   \n",
       "4            974           mayorolivia  wallstreetbets   \n",
       "..           ...                   ...             ...   \n",
       "206            5   Impossible-Hair1343     pennystocks   \n",
       "207            4  Wild_Satisfaction687     pennystocks   \n",
       "208            6               Geldvos     pennystocks   \n",
       "209            1   Impossible-Hair1343     pennystocks   \n",
       "210            2        wispy_dreams22     pennystocks   \n",
       "\n",
       "                                                   url  \n",
       "0    https://www.cnbc.com/2025/05/28/nvidia-nvda-ea...  \n",
       "1    https://www.reddit.com/r/wallstreetbets/commen...  \n",
       "2               https://www.reddit.com/gallery/1kvuqnj  \n",
       "3                 https://i.redd.it/eyiut7vvhe3f1.jpeg  \n",
       "4                 https://i.redd.it/v5ngumawi2ve1.jpeg  \n",
       "..                                                 ...  \n",
       "206             https://www.reddit.com/gallery/1jfs1v3  \n",
       "207             https://www.reddit.com/gallery/1jlgglm  \n",
       "208  https://www.reddit.com/r/pennystocks/comments/...  \n",
       "209  https://www.reddit.com/r/pennystocks/comments/...  \n",
       "210  https://www.reddit.com/r/pennystocks/comments/...  \n",
       "\n",
       "[211 rows x 9 columns]>"
      ]
     },
     "execution_count": 158,
     "metadata": {},
     "output_type": "execute_result"
    }
   ],
   "source": [
    "data.head(5)"
   ]
  },
  {
   "cell_type": "code",
   "execution_count": 159,
   "id": "648ec7f9",
   "metadata": {},
   "outputs": [
    {
     "data": {
      "text/plain": [
       "(211, 9)"
      ]
     },
     "execution_count": 159,
     "metadata": {},
     "output_type": "execute_result"
    }
   ],
   "source": [
    "data.shape"
   ]
  },
  {
   "cell_type": "code",
   "execution_count": 160,
   "id": "a1b050f0",
   "metadata": {},
   "outputs": [
    {
     "data": {
      "text/plain": [
       "id             object\n",
       "title          object\n",
       "self_text      object\n",
       "date           object\n",
       "score           int64\n",
       "num_comment     int64\n",
       "author         object\n",
       "subreddit      object\n",
       "url            object\n",
       "dtype: object"
      ]
     },
     "execution_count": 160,
     "metadata": {},
     "output_type": "execute_result"
    }
   ],
   "source": [
    "data.dtypes"
   ]
  },
  {
   "cell_type": "markdown",
   "id": "59294243",
   "metadata": {},
   "source": [
    "##### first we sort the data by the dates in order to keep the sync of the dates "
   ]
  },
  {
   "cell_type": "code",
   "execution_count": 161,
   "id": "123593eb",
   "metadata": {},
   "outputs": [],
   "source": [
    "data['date'] = pd.to_datetime(data['date'])"
   ]
  },
  {
   "cell_type": "code",
   "execution_count": 162,
   "id": "8dec5cf4",
   "metadata": {},
   "outputs": [],
   "source": [
    "data.sort_values(by='date',ascending=True,inplace=True)\n",
    "data.sort_index(inplace=True)"
   ]
  },
  {
   "cell_type": "code",
   "execution_count": 163,
   "id": "7eadcdef",
   "metadata": {},
   "outputs": [
    {
     "data": {
      "text/html": [
       "<div>\n",
       "<style scoped>\n",
       "    .dataframe tbody tr th:only-of-type {\n",
       "        vertical-align: middle;\n",
       "    }\n",
       "\n",
       "    .dataframe tbody tr th {\n",
       "        vertical-align: top;\n",
       "    }\n",
       "\n",
       "    .dataframe thead th {\n",
       "        text-align: right;\n",
       "    }\n",
       "</style>\n",
       "<table border=\"1\" class=\"dataframe\">\n",
       "  <thead>\n",
       "    <tr style=\"text-align: right;\">\n",
       "      <th></th>\n",
       "      <th>id</th>\n",
       "      <th>title</th>\n",
       "      <th>self_text</th>\n",
       "      <th>date</th>\n",
       "      <th>score</th>\n",
       "      <th>num_comment</th>\n",
       "      <th>author</th>\n",
       "      <th>subreddit</th>\n",
       "      <th>url</th>\n",
       "    </tr>\n",
       "  </thead>\n",
       "  <tbody>\n",
       "    <tr>\n",
       "      <th>0</th>\n",
       "      <td>1kxrhap</td>\n",
       "      <td>Nvidia earnings are out – here are the numbers</td>\n",
       "      <td></td>\n",
       "      <td>2025-05-28</td>\n",
       "      <td>1303</td>\n",
       "      <td>318</td>\n",
       "      <td>Force_Hammer</td>\n",
       "      <td>wallstreetbets</td>\n",
       "      <td>https://www.cnbc.com/2025/05/28/nvidia-nvda-ea...</td>\n",
       "    </tr>\n",
       "    <tr>\n",
       "      <th>1</th>\n",
       "      <td>1jhaxzj</td>\n",
       "      <td>Took my Nvidia gains after 3 years of holding ...</td>\n",
       "      <td>https://preview.redd.it/iemihvrce9qe1.png?widt...</td>\n",
       "      <td>2025-03-22</td>\n",
       "      <td>2536</td>\n",
       "      <td>203</td>\n",
       "      <td>thecheetahexpress</td>\n",
       "      <td>wallstreetbets</td>\n",
       "      <td>https://www.reddit.com/r/wallstreetbets/commen...</td>\n",
       "    </tr>\n",
       "    <tr>\n",
       "      <th>2</th>\n",
       "      <td>1kvuqnj</td>\n",
       "      <td>NVIDIA Artificial Intelligence</td>\n",
       "      <td>Nvidia ([NVDA](https://finance.yahoo.com/quote...</td>\n",
       "      <td>2025-05-26</td>\n",
       "      <td>256</td>\n",
       "      <td>86</td>\n",
       "      <td>wilbo75771</td>\n",
       "      <td>wallstreetbets</td>\n",
       "      <td>https://www.reddit.com/gallery/1kvuqnj</td>\n",
       "    </tr>\n",
       "    <tr>\n",
       "      <th>3</th>\n",
       "      <td>1kx0udl</td>\n",
       "      <td>50k on NVDA</td>\n",
       "      <td>What covered call strikes should I sell? 🤔</td>\n",
       "      <td>2025-05-27</td>\n",
       "      <td>42</td>\n",
       "      <td>23</td>\n",
       "      <td>BokuwaKami</td>\n",
       "      <td>wallstreetbets</td>\n",
       "      <td>https://i.redd.it/eyiut7vvhe3f1.jpeg</td>\n",
       "    </tr>\n",
       "    <tr>\n",
       "      <th>4</th>\n",
       "      <td>1k03vah</td>\n",
       "      <td>Nvidia tanking after hours due to China export...</td>\n",
       "      <td></td>\n",
       "      <td>2025-04-15</td>\n",
       "      <td>12474</td>\n",
       "      <td>974</td>\n",
       "      <td>mayorolivia</td>\n",
       "      <td>wallstreetbets</td>\n",
       "      <td>https://i.redd.it/v5ngumawi2ve1.jpeg</td>\n",
       "    </tr>\n",
       "  </tbody>\n",
       "</table>\n",
       "</div>"
      ],
      "text/plain": [
       "        id                                              title  \\\n",
       "0  1kxrhap     Nvidia earnings are out – here are the numbers   \n",
       "1  1jhaxzj  Took my Nvidia gains after 3 years of holding ...   \n",
       "2  1kvuqnj                     NVIDIA Artificial Intelligence   \n",
       "3  1kx0udl                                        50k on NVDA   \n",
       "4  1k03vah  Nvidia tanking after hours due to China export...   \n",
       "\n",
       "                                           self_text       date  score  \\\n",
       "0                                                    2025-05-28   1303   \n",
       "1  https://preview.redd.it/iemihvrce9qe1.png?widt... 2025-03-22   2536   \n",
       "2  Nvidia ([NVDA](https://finance.yahoo.com/quote... 2025-05-26    256   \n",
       "3         What covered call strikes should I sell? 🤔 2025-05-27     42   \n",
       "4                                                    2025-04-15  12474   \n",
       "\n",
       "   num_comment             author       subreddit  \\\n",
       "0          318       Force_Hammer  wallstreetbets   \n",
       "1          203  thecheetahexpress  wallstreetbets   \n",
       "2           86         wilbo75771  wallstreetbets   \n",
       "3           23         BokuwaKami  wallstreetbets   \n",
       "4          974        mayorolivia  wallstreetbets   \n",
       "\n",
       "                                                 url  \n",
       "0  https://www.cnbc.com/2025/05/28/nvidia-nvda-ea...  \n",
       "1  https://www.reddit.com/r/wallstreetbets/commen...  \n",
       "2             https://www.reddit.com/gallery/1kvuqnj  \n",
       "3               https://i.redd.it/eyiut7vvhe3f1.jpeg  \n",
       "4               https://i.redd.it/v5ngumawi2ve1.jpeg  "
      ]
     },
     "execution_count": 163,
     "metadata": {},
     "output_type": "execute_result"
    }
   ],
   "source": [
    "data.head()"
   ]
  },
  {
   "cell_type": "code",
   "execution_count": 164,
   "id": "79e49b02",
   "metadata": {},
   "outputs": [
    {
     "name": "stdout",
     "output_type": "stream",
     "text": [
      "('Nvidia ([NVDA](https://finance.yahoo.com/quote/NVDA)) has outperformed every '\n",
      " 'stock in the S&P 500 ([\\\\^GSPC](https://finance.yahoo.com/quote/%5EGSPC)) '\n",
      " 'since\\xa0[the launch of ChatGPT\\xa0'\n",
      " '](https://finance.yahoo.com/news/how-chatgpt-changed-the-world-of-tech-in-just-one-year-180957543.html)in '\n",
      " 'late November 2022 Shares in the chipmaker have risen nearly 700% since '\n",
      " 'ChatGPT brought the power of artificial intelligence to the masses, far '\n",
      " \"outpacing the S&P 500's roughly 45% over the same time period. The next \"\n",
      " 'closest gain for an S&P 500 company in that time period is a 540% pop for '\n",
      " 'Vistra Corp ([VST](https://finance.yahoo.com/quote/VST)).Nvidia has '\n",
      " 'established itself as the key provider of chips needed to operate AI '\n",
      " 'systems. Now at the epicenter of an AI arms race, Nvidia has established '\n",
      " 'itself as[\\xa0a cornerstone of the recent bull '\n",
      " 'market](https://finance.yahoo.com/news/live/stock-market-today-tech-leads-stocks-higher-as-nvidia-surges-to-record-high-175727614.html)\\xa0'\n",
      " \"in stocks as the company's sales and profits have skyrocketed over the past \"\n",
      " 'several years.\\n'\n",
      " '\\n'\n",
      " \"Ahead of the\\xa0[company's next quarterly earnings release on May \"\n",
      " '28](https://finance.yahoo.com/news/nvidia-to-report-q1-earnings-as-middle-east-deals-export-control-reprieve-boost-stock-122728218.html), '\n",
      " 'we broke down some of the most eye-popping charts that show how Nvidia '\n",
      " \"became one of the most-followed stocks in the market.There's perhaps no \"\n",
      " 'clearer way to see how Nvidia ran away from the competition in the AI boom '\n",
      " \"than looking at the company's market capitalization against its peers. Back \"\n",
      " 'when ChatGPT launched, Nvidia had a market cap of just over $400 billion. '\n",
      " \"It's now over $3.3 trillion. Over that same time period, chip competitor \"\n",
      " \"Intel's ([INTC](https://finance.yahoo.com/quote/INTC)) market cap has \"\n",
      " \"actually decreased, while Advanced Micro Devices' \"\n",
      " '([AMD](https://finance.yahoo.com/quote/AMD)) market cap has increased '\n",
      " \"incrementally from $125 billion to $177 billion.Nvidia's rise proved to be \"\n",
      " 'at the center of a new technological boom. Combined with Nvidia, the rise in '\n",
      " 'dominance of six other companies — Apple '\n",
      " '([AAPL](https://finance.yahoo.com/quote/AAPL)), Alphabet '\n",
      " '([GOOGL](https://finance.yahoo.com/quote/GOOGL),\\xa0'\n",
      " '[GOOG](https://finance.yahoo.com/quote/GOOG)), Microsoft '\n",
      " '([MSFT](https://finance.yahoo.com/quote/MSFT)), Amazon '\n",
      " '([AMZN](https://finance.yahoo.com/quote/AMZN)), Meta '\n",
      " '([META](https://finance.yahoo.com/quote/META)), and Tesla '\n",
      " '([TSLA](https://finance.yahoo.com/quote/TSLA)) — formed what would come to '\n",
      " 'be known as the\\xa0[\"Magnificent '\n",
      " 'Seven.\"](https://finance.yahoo.com/news/one-chart-shows-how-the-magnificent-7-have-dominated-the-stock-market-in-2023-203250125.html)\\n'\n",
      " '\\n'\n",
      " 'The group began the AI boom with a combined market cap just shy of $7 '\n",
      " \"billion. Now, two and a half years later, the Big Tech group's market cap is \"\n",
      " 'worth over $16.8 trillion. The seven companies have grown from about 22% of '\n",
      " \"the S&P 500's market cap in November 2022 to 32% of the index's market cap \"\n",
      " 'today.Given the outsized weighting in the S&P 500, large swings in shares of '\n",
      " 'Nvidia have become a feature of how even broad market investors are thinking '\n",
      " 'about the direction of stocks. In June 2024,[\\xa0three Wall Street '\n",
      " 'strategists boosted their year-end S&P 500 '\n",
      " 'targets](https://finance.yahoo.com/news/ai-enthusiasm-prompts-3-wall-street-banks-to-raise-stock-market-forecasts-100027154.html), '\n",
      " 'citing better-than-expected consistent performance among key AI players.\\n'\n",
      " '\\n'\n",
      " 'As of May 19, the Magnificent Seven have accounted for about 52% of the S&P '\n",
      " \"500's gain since Nov. 30, 2022. Nvidia alone has contributed 17.21%, by far \"\n",
      " 'the most among the group, with the next closest stock, Microsoft, which has '\n",
      " \"added about 8.8%.Nvidia's stock hasn't been rising from just hype. The \"\n",
      " \"company's quarterly financial metrics have soared. In the quarter ChatGPT \"\n",
      " 'launched, Nvidia posted revenue of $6.3 billion. Two years later, it would '\n",
      " \"post revenue of $35.3 billion. That's a 460% increase in sales in two years. \"\n",
      " 'As seen in the chart below, the main source of growth for Nvidia has been '\n",
      " 'its data center revenue segment, which includes the sales of its AI chips.\\n'\n",
      " '\\n'\n",
      " \"From the company's fourth quarter of 2023 to its final quarter of its 2025 \"\n",
      " 'reporting period, data center revenue grew almost 900%.\\n'\n",
      " '\\n'\n",
      " \"Nvidia's data center revenue particularly stands out when considering its \"\n",
      " 'rise against peers in the industry. In the final quarter of 2024, Nvidia '\n",
      " 'notched a record $35.58 billion in just data center revenue, up from $3.62 '\n",
      " 'billion in the final quarter of 2022.\\n'\n",
      " '\\n'\n",
      " \"In comparison, Alphabet's data center revenue increased to $11.96 billion, \"\n",
      " 'ending 2024 up from $7.32 billion in the final quarter of 2022.\\n'\n",
      " '\\n'\n",
      " '\\n'\n",
      " '\\n')\n"
     ]
    }
   ],
   "source": [
    "from pprint import pprint\n",
    "text = data['self_text'][2]\n",
    "pprint(text)"
   ]
  },
  {
   "cell_type": "code",
   "execution_count": 165,
   "id": "9792f7a6",
   "metadata": {},
   "outputs": [],
   "source": [
    "import re \n",
    "def clean_text(text):\n",
    "    # Remove markdown links \n",
    "    text = re.sub(r'http\\S+|www\\S+|https\\S+', '', text, flags=re.MULTILINE)\n",
    "    text = re.sub(r'\\[.*?\\]\\(.*?\\)', '', text)\n",
    "    \n",
    "    # Remove stray markdown artifacts \n",
    "    text = re.sub(r'\\[\\]|\\(\\)', '', text)\n",
    "    \n",
    "    # Replace \\xa0 (non-breaking space) and \\n (newlines) with space\n",
    "    text = text.replace('\\xa0', ' ').replace('\\n', ' ')\n",
    "    \n",
    "    # Remove multiple spaces\n",
    "    text = re.sub(r'\\s+', ' ', text)\n",
    "\n",
    "    text = re.sub(r'[^a-zA-Z0-9\\s]', '', text)\n",
    "    \n",
    "    # strip leading/trailing whitespace\n",
    "    return text.strip()\n"
   ]
  },
  {
   "cell_type": "code",
   "execution_count": 166,
   "id": "63a4c41d",
   "metadata": {},
   "outputs": [],
   "source": [
    "data['self_text'] =  data['self_text'].apply(lambda x : clean_text(x))"
   ]
  },
  {
   "cell_type": "code",
   "execution_count": 167,
   "id": "ffa832cb",
   "metadata": {},
   "outputs": [
    {
     "data": {
      "text/html": [
       "<div>\n",
       "<style scoped>\n",
       "    .dataframe tbody tr th:only-of-type {\n",
       "        vertical-align: middle;\n",
       "    }\n",
       "\n",
       "    .dataframe tbody tr th {\n",
       "        vertical-align: top;\n",
       "    }\n",
       "\n",
       "    .dataframe thead th {\n",
       "        text-align: right;\n",
       "    }\n",
       "</style>\n",
       "<table border=\"1\" class=\"dataframe\">\n",
       "  <thead>\n",
       "    <tr style=\"text-align: right;\">\n",
       "      <th></th>\n",
       "      <th>id</th>\n",
       "      <th>title</th>\n",
       "      <th>self_text</th>\n",
       "      <th>date</th>\n",
       "      <th>score</th>\n",
       "      <th>num_comment</th>\n",
       "      <th>author</th>\n",
       "      <th>subreddit</th>\n",
       "      <th>url</th>\n",
       "    </tr>\n",
       "  </thead>\n",
       "  <tbody>\n",
       "    <tr>\n",
       "      <th>0</th>\n",
       "      <td>1kxrhap</td>\n",
       "      <td>Nvidia earnings are out – here are the numbers</td>\n",
       "      <td></td>\n",
       "      <td>2025-05-28</td>\n",
       "      <td>1303</td>\n",
       "      <td>318</td>\n",
       "      <td>Force_Hammer</td>\n",
       "      <td>wallstreetbets</td>\n",
       "      <td>https://www.cnbc.com/2025/05/28/nvidia-nvda-ea...</td>\n",
       "    </tr>\n",
       "    <tr>\n",
       "      <th>1</th>\n",
       "      <td>1jhaxzj</td>\n",
       "      <td>Took my Nvidia gains after 3 years of holding ...</td>\n",
       "      <td>Life happened Needed the funds The shares were...</td>\n",
       "      <td>2025-03-22</td>\n",
       "      <td>2536</td>\n",
       "      <td>203</td>\n",
       "      <td>thecheetahexpress</td>\n",
       "      <td>wallstreetbets</td>\n",
       "      <td>https://www.reddit.com/r/wallstreetbets/commen...</td>\n",
       "    </tr>\n",
       "    <tr>\n",
       "      <th>2</th>\n",
       "      <td>1kvuqnj</td>\n",
       "      <td>NVIDIA Artificial Intelligence</td>\n",
       "      <td>Nvidia NVDA has outperformed every stock in th...</td>\n",
       "      <td>2025-05-26</td>\n",
       "      <td>256</td>\n",
       "      <td>86</td>\n",
       "      <td>wilbo75771</td>\n",
       "      <td>wallstreetbets</td>\n",
       "      <td>https://www.reddit.com/gallery/1kvuqnj</td>\n",
       "    </tr>\n",
       "    <tr>\n",
       "      <th>3</th>\n",
       "      <td>1kx0udl</td>\n",
       "      <td>50k on NVDA</td>\n",
       "      <td>What covered call strikes should I sell</td>\n",
       "      <td>2025-05-27</td>\n",
       "      <td>42</td>\n",
       "      <td>23</td>\n",
       "      <td>BokuwaKami</td>\n",
       "      <td>wallstreetbets</td>\n",
       "      <td>https://i.redd.it/eyiut7vvhe3f1.jpeg</td>\n",
       "    </tr>\n",
       "    <tr>\n",
       "      <th>4</th>\n",
       "      <td>1k03vah</td>\n",
       "      <td>Nvidia tanking after hours due to China export...</td>\n",
       "      <td></td>\n",
       "      <td>2025-04-15</td>\n",
       "      <td>12474</td>\n",
       "      <td>974</td>\n",
       "      <td>mayorolivia</td>\n",
       "      <td>wallstreetbets</td>\n",
       "      <td>https://i.redd.it/v5ngumawi2ve1.jpeg</td>\n",
       "    </tr>\n",
       "  </tbody>\n",
       "</table>\n",
       "</div>"
      ],
      "text/plain": [
       "        id                                              title  \\\n",
       "0  1kxrhap     Nvidia earnings are out – here are the numbers   \n",
       "1  1jhaxzj  Took my Nvidia gains after 3 years of holding ...   \n",
       "2  1kvuqnj                     NVIDIA Artificial Intelligence   \n",
       "3  1kx0udl                                        50k on NVDA   \n",
       "4  1k03vah  Nvidia tanking after hours due to China export...   \n",
       "\n",
       "                                           self_text       date  score  \\\n",
       "0                                                    2025-05-28   1303   \n",
       "1  Life happened Needed the funds The shares were... 2025-03-22   2536   \n",
       "2  Nvidia NVDA has outperformed every stock in th... 2025-05-26    256   \n",
       "3            What covered call strikes should I sell 2025-05-27     42   \n",
       "4                                                    2025-04-15  12474   \n",
       "\n",
       "   num_comment             author       subreddit  \\\n",
       "0          318       Force_Hammer  wallstreetbets   \n",
       "1          203  thecheetahexpress  wallstreetbets   \n",
       "2           86         wilbo75771  wallstreetbets   \n",
       "3           23         BokuwaKami  wallstreetbets   \n",
       "4          974        mayorolivia  wallstreetbets   \n",
       "\n",
       "                                                 url  \n",
       "0  https://www.cnbc.com/2025/05/28/nvidia-nvda-ea...  \n",
       "1  https://www.reddit.com/r/wallstreetbets/commen...  \n",
       "2             https://www.reddit.com/gallery/1kvuqnj  \n",
       "3               https://i.redd.it/eyiut7vvhe3f1.jpeg  \n",
       "4               https://i.redd.it/v5ngumawi2ve1.jpeg  "
      ]
     },
     "execution_count": 167,
     "metadata": {},
     "output_type": "execute_result"
    }
   ],
   "source": [
    "data.head()"
   ]
  },
  {
   "cell_type": "code",
   "execution_count": 168,
   "id": "cba5b8ee",
   "metadata": {},
   "outputs": [
    {
     "data": {
      "text/plain": [
       "''"
      ]
     },
     "execution_count": 168,
     "metadata": {},
     "output_type": "execute_result"
    }
   ],
   "source": [
    "data['self_text'][0]"
   ]
  },
  {
   "cell_type": "code",
   "execution_count": 169,
   "id": "e11639b6",
   "metadata": {},
   "outputs": [
    {
     "data": {
      "text/plain": [
       "0       True\n",
       "1      False\n",
       "2      False\n",
       "3      False\n",
       "4       True\n",
       "       ...  \n",
       "206    False\n",
       "207    False\n",
       "208    False\n",
       "209    False\n",
       "210    False\n",
       "Name: self_text, Length: 211, dtype: bool"
      ]
     },
     "execution_count": 169,
     "metadata": {},
     "output_type": "execute_result"
    }
   ],
   "source": [
    "data['self_text'].apply(lambda x: pd.isna(x) or x.strip() == '')"
   ]
  },
  {
   "cell_type": "code",
   "execution_count": 170,
   "id": "3fca7421",
   "metadata": {},
   "outputs": [],
   "source": [
    "import numpy as np"
   ]
  },
  {
   "cell_type": "code",
   "execution_count": 171,
   "id": "6d0c3556",
   "metadata": {},
   "outputs": [
    {
     "data": {
      "text/plain": [
       "0                                                    NaN\n",
       "1      Life happened Needed the funds The shares were...\n",
       "2      Nvidia NVDA has outperformed every stock in th...\n",
       "3                What covered call strikes should I sell\n",
       "4                                                    NaN\n",
       "                             ...                        \n",
       "206    RR News Richtech Robotics Nasdaq RR has announ...\n",
       "207    VRAR Top tier customers NVDA WMT MSFT the US N...\n",
       "208    Hey rpennystocks a first post about IBC Advanc...\n",
       "209    VCIG  News VCI Global NASDAQ VCIG has secured ...\n",
       "210    Good afternoon my fellow pennystock aficionado...\n",
       "Name: self_text, Length: 211, dtype: object"
      ]
     },
     "execution_count": 171,
     "metadata": {},
     "output_type": "execute_result"
    }
   ],
   "source": [
    "data['self_text'].apply(lambda x:  np.nan if x.strip() == '' else x)"
   ]
  },
  {
   "cell_type": "code",
   "execution_count": 172,
   "id": "b35e2ea4",
   "metadata": {},
   "outputs": [],
   "source": [
    "data.dropna(axis=1,inplace=True)"
   ]
  },
  {
   "cell_type": "code",
   "execution_count": 173,
   "id": "0d77edb4",
   "metadata": {},
   "outputs": [
    {
     "data": {
      "text/html": [
       "<div>\n",
       "<style scoped>\n",
       "    .dataframe tbody tr th:only-of-type {\n",
       "        vertical-align: middle;\n",
       "    }\n",
       "\n",
       "    .dataframe tbody tr th {\n",
       "        vertical-align: top;\n",
       "    }\n",
       "\n",
       "    .dataframe thead th {\n",
       "        text-align: right;\n",
       "    }\n",
       "</style>\n",
       "<table border=\"1\" class=\"dataframe\">\n",
       "  <thead>\n",
       "    <tr style=\"text-align: right;\">\n",
       "      <th></th>\n",
       "      <th>id</th>\n",
       "      <th>title</th>\n",
       "      <th>self_text</th>\n",
       "      <th>date</th>\n",
       "      <th>score</th>\n",
       "      <th>num_comment</th>\n",
       "      <th>author</th>\n",
       "      <th>subreddit</th>\n",
       "      <th>url</th>\n",
       "    </tr>\n",
       "  </thead>\n",
       "  <tbody>\n",
       "    <tr>\n",
       "      <th>0</th>\n",
       "      <td>1kxrhap</td>\n",
       "      <td>Nvidia earnings are out – here are the numbers</td>\n",
       "      <td></td>\n",
       "      <td>2025-05-28</td>\n",
       "      <td>1303</td>\n",
       "      <td>318</td>\n",
       "      <td>Force_Hammer</td>\n",
       "      <td>wallstreetbets</td>\n",
       "      <td>https://www.cnbc.com/2025/05/28/nvidia-nvda-ea...</td>\n",
       "    </tr>\n",
       "    <tr>\n",
       "      <th>1</th>\n",
       "      <td>1jhaxzj</td>\n",
       "      <td>Took my Nvidia gains after 3 years of holding ...</td>\n",
       "      <td>Life happened Needed the funds The shares were...</td>\n",
       "      <td>2025-03-22</td>\n",
       "      <td>2536</td>\n",
       "      <td>203</td>\n",
       "      <td>thecheetahexpress</td>\n",
       "      <td>wallstreetbets</td>\n",
       "      <td>https://www.reddit.com/r/wallstreetbets/commen...</td>\n",
       "    </tr>\n",
       "    <tr>\n",
       "      <th>2</th>\n",
       "      <td>1kvuqnj</td>\n",
       "      <td>NVIDIA Artificial Intelligence</td>\n",
       "      <td>Nvidia NVDA has outperformed every stock in th...</td>\n",
       "      <td>2025-05-26</td>\n",
       "      <td>256</td>\n",
       "      <td>86</td>\n",
       "      <td>wilbo75771</td>\n",
       "      <td>wallstreetbets</td>\n",
       "      <td>https://www.reddit.com/gallery/1kvuqnj</td>\n",
       "    </tr>\n",
       "    <tr>\n",
       "      <th>3</th>\n",
       "      <td>1kx0udl</td>\n",
       "      <td>50k on NVDA</td>\n",
       "      <td>What covered call strikes should I sell</td>\n",
       "      <td>2025-05-27</td>\n",
       "      <td>42</td>\n",
       "      <td>23</td>\n",
       "      <td>BokuwaKami</td>\n",
       "      <td>wallstreetbets</td>\n",
       "      <td>https://i.redd.it/eyiut7vvhe3f1.jpeg</td>\n",
       "    </tr>\n",
       "    <tr>\n",
       "      <th>4</th>\n",
       "      <td>1k03vah</td>\n",
       "      <td>Nvidia tanking after hours due to China export...</td>\n",
       "      <td></td>\n",
       "      <td>2025-04-15</td>\n",
       "      <td>12474</td>\n",
       "      <td>974</td>\n",
       "      <td>mayorolivia</td>\n",
       "      <td>wallstreetbets</td>\n",
       "      <td>https://i.redd.it/v5ngumawi2ve1.jpeg</td>\n",
       "    </tr>\n",
       "  </tbody>\n",
       "</table>\n",
       "</div>"
      ],
      "text/plain": [
       "        id                                              title  \\\n",
       "0  1kxrhap     Nvidia earnings are out – here are the numbers   \n",
       "1  1jhaxzj  Took my Nvidia gains after 3 years of holding ...   \n",
       "2  1kvuqnj                     NVIDIA Artificial Intelligence   \n",
       "3  1kx0udl                                        50k on NVDA   \n",
       "4  1k03vah  Nvidia tanking after hours due to China export...   \n",
       "\n",
       "                                           self_text       date  score  \\\n",
       "0                                                    2025-05-28   1303   \n",
       "1  Life happened Needed the funds The shares were... 2025-03-22   2536   \n",
       "2  Nvidia NVDA has outperformed every stock in th... 2025-05-26    256   \n",
       "3            What covered call strikes should I sell 2025-05-27     42   \n",
       "4                                                    2025-04-15  12474   \n",
       "\n",
       "   num_comment             author       subreddit  \\\n",
       "0          318       Force_Hammer  wallstreetbets   \n",
       "1          203  thecheetahexpress  wallstreetbets   \n",
       "2           86         wilbo75771  wallstreetbets   \n",
       "3           23         BokuwaKami  wallstreetbets   \n",
       "4          974        mayorolivia  wallstreetbets   \n",
       "\n",
       "                                                 url  \n",
       "0  https://www.cnbc.com/2025/05/28/nvidia-nvda-ea...  \n",
       "1  https://www.reddit.com/r/wallstreetbets/commen...  \n",
       "2             https://www.reddit.com/gallery/1kvuqnj  \n",
       "3               https://i.redd.it/eyiut7vvhe3f1.jpeg  \n",
       "4               https://i.redd.it/v5ngumawi2ve1.jpeg  "
      ]
     },
     "execution_count": 173,
     "metadata": {},
     "output_type": "execute_result"
    }
   ],
   "source": [
    "data.head()"
   ]
  },
  {
   "cell_type": "markdown",
   "id": "e193e539",
   "metadata": {},
   "source": [
    "#####  Now after cleaning the data we need to access the score of the posts bc we assume that a higher score means hight unfluence so wz will set the threshold to 100 "
   ]
  },
  {
   "cell_type": "code",
   "execution_count": 174,
   "id": "644aae3f",
   "metadata": {},
   "outputs": [],
   "source": [
    "for col in ['score','num_comment']:\n",
    "    data[col] = data[col].astype(int)"
   ]
  },
  {
   "cell_type": "code",
   "execution_count": 175,
   "id": "ad1909a2",
   "metadata": {},
   "outputs": [
    {
     "data": {
      "text/plain": [
       "id                     object\n",
       "title                  object\n",
       "self_text              object\n",
       "date           datetime64[ns]\n",
       "score                   int32\n",
       "num_comment             int32\n",
       "author                 object\n",
       "subreddit              object\n",
       "url                    object\n",
       "dtype: object"
      ]
     },
     "execution_count": 175,
     "metadata": {},
     "output_type": "execute_result"
    }
   ],
   "source": [
    "data.dtypes"
   ]
  },
  {
   "cell_type": "code",
   "execution_count": 176,
   "id": "0721eec8",
   "metadata": {},
   "outputs": [
    {
     "data": {
      "image/png": "[encoded data removed]",
      "text/plain": [
       "<Figure size 1000x400 with 2 Axes>"
      ]
     },
     "metadata": {},
     "output_type": "display_data"
    }
   ],
   "source": [
    "fig , ax = plt.subplots(1,2,figsize=(10,4))\n",
    "ax = ax.flatten()\n",
    "for i , col in  enumerate(['score','num_comment']):\n",
    "    sns.histplot(data, x = col , ax=ax[i],bins=10)\n",
    "    ax[i].set_title(f'distibution of {col}')"
   ]
  },
  {
   "cell_type": "code",
   "execution_count": 177,
   "id": "e9c503df",
   "metadata": {},
   "outputs": [
    {
     "data": {
      "text/plain": [
       "-69"
      ]
     },
     "execution_count": 177,
     "metadata": {},
     "output_type": "execute_result"
    }
   ],
   "source": [
    "# posts with low score\n",
    "len(data.loc[data[\"score\"] < 100]) - len(data)"
   ]
  },
  {
   "cell_type": "code",
   "execution_count": 178,
   "id": "50aeddbb",
   "metadata": {},
   "outputs": [],
   "source": [
    "data = data[data[\"score\"] > 100 ]"
   ]
  },
  {
   "cell_type": "code",
   "execution_count": 179,
   "id": "285b1a72",
   "metadata": {},
   "outputs": [
    {
     "data": {
      "text/plain": [
       "104"
      ]
     },
     "execution_count": 179,
     "metadata": {},
     "output_type": "execute_result"
    }
   ],
   "source": [
    "data.score.min()"
   ]
  },
  {
   "cell_type": "markdown",
   "id": "73b1109a",
   "metadata": {},
   "source": [
    "### **applying the sentiment analysis model finberta** "
   ]
  },
  {
   "cell_type": "markdown",
   "id": "0078c4f9",
   "metadata": {},
   "source": [
    "-**FinRoBERTa (based on RoBERTa)**\n",
    "\n",
    "* 1-Better performance and deeper context understanding in some use cases.\n",
    "\n",
    "* 2-From: yiyanghkust/finbert-tone or you can look into models like mrm8488/bert-tiny-finetuned-financial-news-sentiment."
   ]
  },
  {
   "cell_type": "code",
   "execution_count": 180,
   "id": "bdd3c9da",
   "metadata": {},
   "outputs": [],
   "source": [
    "from transformers import  AutoTokenizer , AutoModelForSequenceClassification,pipeline\n",
    "\n",
    "\n",
    "model_name = \"ProsusAI/finbert\"\n",
    "\n",
    "# we load the tokenizer and the model \n",
    "tokenizer = AutoTokenizer.from_pretrained(model_name)\n",
    "model = AutoModelForSequenceClassification.from_pretrained(model_name)\n",
    "\n",
    "# creating a pipeline that merges all the the process\n",
    "\n",
    "nlp = pipeline('sentiment-analysis',model=model,tokenizer=tokenizer,truncation=True)"
   ]
  },
  {
   "cell_type": "markdown",
   "id": "6e9c5a84",
   "metadata": {},
   "source": [
    "##### testing the pipeline "
   ]
  },
  {
   "cell_type": "code",
   "execution_count": 181,
   "id": "bc9050a0",
   "metadata": {},
   "outputs": [],
   "source": [
    "text = \"the CEO is passaway  and the  board is looking a new chairman to replace it this will cause some instabilities on the stock market\"\n",
    "sentiment = nlp(text)[0]"
   ]
  },
  {
   "cell_type": "code",
   "execution_count": 182,
   "id": "06a7e5d2",
   "metadata": {},
   "outputs": [],
   "source": [
    "def get_sentiment(text):\n",
    "    result = nlp(text)[0]\n",
    "    return result['label'],result['score']\n",
    "\n",
    "data[['sentiment','sentiment_score']] = data['self_text'].apply(lambda x : get_sentiment(x)).apply(pd.Series)"
   ]
  },
  {
   "cell_type": "code",
   "execution_count": 183,
   "id": "87b1e14e",
   "metadata": {},
   "outputs": [
    {
     "data": {
      "text/plain": [
       "sentiment\n",
       "neutral     47\n",
       "negative    17\n",
       "positive     5\n",
       "Name: count, dtype: int64"
      ]
     },
     "execution_count": 183,
     "metadata": {},
     "output_type": "execute_result"
    }
   ],
   "source": [
    "data['sentiment'].value_counts()"
   ]
  },
  {
   "cell_type": "code",
   "execution_count": 184,
   "id": "2bbffa35",
   "metadata": {},
   "outputs": [
    {
     "name": "stderr",
     "output_type": "stream",
     "text": [
      "[*********************100%***********************]  1 of 1 completed\n"
     ]
    },
    {
     "data": {
      "text/html": [
       "<div>\n",
       "<style scoped>\n",
       "    .dataframe tbody tr th:only-of-type {\n",
       "        vertical-align: middle;\n",
       "    }\n",
       "\n",
       "    .dataframe tbody tr th {\n",
       "        vertical-align: top;\n",
       "    }\n",
       "\n",
       "    .dataframe thead th {\n",
       "        text-align: right;\n",
       "    }\n",
       "</style>\n",
       "<table border=\"1\" class=\"dataframe\">\n",
       "  <thead>\n",
       "    <tr style=\"text-align: right;\">\n",
       "      <th></th>\n",
       "      <th>id</th>\n",
       "      <th>title</th>\n",
       "      <th>self_text</th>\n",
       "      <th>date</th>\n",
       "      <th>score</th>\n",
       "      <th>num_comment</th>\n",
       "      <th>author</th>\n",
       "      <th>subreddit</th>\n",
       "      <th>url</th>\n",
       "      <th>sentiment</th>\n",
       "      <th>sentiment_score</th>\n",
       "    </tr>\n",
       "  </thead>\n",
       "  <tbody>\n",
       "    <tr>\n",
       "      <th>0</th>\n",
       "      <td>1kxrhap</td>\n",
       "      <td>Nvidia earnings are out – here are the numbers</td>\n",
       "      <td></td>\n",
       "      <td>2025-05-28</td>\n",
       "      <td>1303</td>\n",
       "      <td>318</td>\n",
       "      <td>Force_Hammer</td>\n",
       "      <td>wallstreetbets</td>\n",
       "      <td>https://www.cnbc.com/2025/05/28/nvidia-nvda-ea...</td>\n",
       "      <td>neutral</td>\n",
       "      <td>0.424185</td>\n",
       "    </tr>\n",
       "    <tr>\n",
       "      <th>1</th>\n",
       "      <td>1jhaxzj</td>\n",
       "      <td>Took my Nvidia gains after 3 years of holding ...</td>\n",
       "      <td>Life happened Needed the funds The shares were...</td>\n",
       "      <td>2025-03-22</td>\n",
       "      <td>2536</td>\n",
       "      <td>203</td>\n",
       "      <td>thecheetahexpress</td>\n",
       "      <td>wallstreetbets</td>\n",
       "      <td>https://www.reddit.com/r/wallstreetbets/commen...</td>\n",
       "      <td>neutral</td>\n",
       "      <td>0.863899</td>\n",
       "    </tr>\n",
       "    <tr>\n",
       "      <th>2</th>\n",
       "      <td>1kvuqnj</td>\n",
       "      <td>NVIDIA Artificial Intelligence</td>\n",
       "      <td>Nvidia NVDA has outperformed every stock in th...</td>\n",
       "      <td>2025-05-26</td>\n",
       "      <td>256</td>\n",
       "      <td>86</td>\n",
       "      <td>wilbo75771</td>\n",
       "      <td>wallstreetbets</td>\n",
       "      <td>https://www.reddit.com/gallery/1kvuqnj</td>\n",
       "      <td>neutral</td>\n",
       "      <td>0.581886</td>\n",
       "    </tr>\n",
       "    <tr>\n",
       "      <th>4</th>\n",
       "      <td>1k03vah</td>\n",
       "      <td>Nvidia tanking after hours due to China export...</td>\n",
       "      <td></td>\n",
       "      <td>2025-04-15</td>\n",
       "      <td>12474</td>\n",
       "      <td>974</td>\n",
       "      <td>mayorolivia</td>\n",
       "      <td>wallstreetbets</td>\n",
       "      <td>https://i.redd.it/v5ngumawi2ve1.jpeg</td>\n",
       "      <td>neutral</td>\n",
       "      <td>0.424185</td>\n",
       "    </tr>\n",
       "    <tr>\n",
       "      <th>5</th>\n",
       "      <td>1jz0o1p</td>\n",
       "      <td>Nvidia commits $500 billion to AI infrastructu...</td>\n",
       "      <td></td>\n",
       "      <td>2025-04-14</td>\n",
       "      <td>4205</td>\n",
       "      <td>512</td>\n",
       "      <td>PregnancyTestsByShaq</td>\n",
       "      <td>wallstreetbets</td>\n",
       "      <td>https://finance.yahoo.com/news/nvidia-commits-...</td>\n",
       "      <td>neutral</td>\n",
       "      <td>0.424185</td>\n",
       "    </tr>\n",
       "    <tr>\n",
       "      <th>...</th>\n",
       "      <td>...</td>\n",
       "      <td>...</td>\n",
       "      <td>...</td>\n",
       "      <td>...</td>\n",
       "      <td>...</td>\n",
       "      <td>...</td>\n",
       "      <td>...</td>\n",
       "      <td>...</td>\n",
       "      <td>...</td>\n",
       "      <td>...</td>\n",
       "      <td>...</td>\n",
       "    </tr>\n",
       "    <tr>\n",
       "      <th>149</th>\n",
       "      <td>1kez2cr</td>\n",
       "      <td>PLTR: The Most Overvalued Stock in History</td>\n",
       "      <td>While everyones focused on Nvidia as the most ...</td>\n",
       "      <td>2025-05-05</td>\n",
       "      <td>260</td>\n",
       "      <td>91</td>\n",
       "      <td>theycallmeryan</td>\n",
       "      <td>ValueInvesting</td>\n",
       "      <td>https://www.reddit.com/r/ValueInvesting/commen...</td>\n",
       "      <td>neutral</td>\n",
       "      <td>0.885238</td>\n",
       "    </tr>\n",
       "    <tr>\n",
       "      <th>151</th>\n",
       "      <td>1j521ug</td>\n",
       "      <td>AAPL is the second most expensive Mag 7 behind...</td>\n",
       "      <td>Not one to ever care about the MAG 7 or the us...</td>\n",
       "      <td>2025-03-06</td>\n",
       "      <td>104</td>\n",
       "      <td>153</td>\n",
       "      <td>DylanIE_</td>\n",
       "      <td>ValueInvesting</td>\n",
       "      <td>https://www.reddit.com/r/ValueInvesting/commen...</td>\n",
       "      <td>neutral</td>\n",
       "      <td>0.825782</td>\n",
       "    </tr>\n",
       "    <tr>\n",
       "      <th>153</th>\n",
       "      <td>1jisozt</td>\n",
       "      <td>Microsoft (MSFT) Will be my favorite single st...</td>\n",
       "      <td>I absolutely love the outlook of microsoft and...</td>\n",
       "      <td>2025-03-24</td>\n",
       "      <td>195</td>\n",
       "      <td>81</td>\n",
       "      <td>ecarroll1851</td>\n",
       "      <td>ValueInvesting</td>\n",
       "      <td>https://www.reddit.com/r/ValueInvesting/commen...</td>\n",
       "      <td>neutral</td>\n",
       "      <td>0.925750</td>\n",
       "    </tr>\n",
       "    <tr>\n",
       "      <th>155</th>\n",
       "      <td>1kuy9f2</td>\n",
       "      <td>To the user claiming \"Gemini has inflated numb...</td>\n",
       "      <td>Another user wrote a post about why they were ...</td>\n",
       "      <td>2025-05-25</td>\n",
       "      <td>260</td>\n",
       "      <td>46</td>\n",
       "      <td>fatasspenguino</td>\n",
       "      <td>ValueInvesting</td>\n",
       "      <td>https://www.reddit.com/r/ValueInvesting/commen...</td>\n",
       "      <td>neutral</td>\n",
       "      <td>0.872645</td>\n",
       "    </tr>\n",
       "    <tr>\n",
       "      <th>191</th>\n",
       "      <td>1ksyoo2</td>\n",
       "      <td>NVTS, Nvidia, and the WOLF at the door.</td>\n",
       "      <td>Just today Nvidia announced they are going to ...</td>\n",
       "      <td>2025-05-22</td>\n",
       "      <td>119</td>\n",
       "      <td>54</td>\n",
       "      <td>narayan77</td>\n",
       "      <td>pennystocks</td>\n",
       "      <td>https://www.reddit.com/r/pennystocks/comments/...</td>\n",
       "      <td>neutral</td>\n",
       "      <td>0.513783</td>\n",
       "    </tr>\n",
       "  </tbody>\n",
       "</table>\n",
       "<p>69 rows × 11 columns</p>\n",
       "</div>"
      ],
      "text/plain": [
       "          id                                              title  \\\n",
       "0    1kxrhap     Nvidia earnings are out – here are the numbers   \n",
       "1    1jhaxzj  Took my Nvidia gains after 3 years of holding ...   \n",
       "2    1kvuqnj                     NVIDIA Artificial Intelligence   \n",
       "4    1k03vah  Nvidia tanking after hours due to China export...   \n",
       "5    1jz0o1p  Nvidia commits $500 billion to AI infrastructu...   \n",
       "..       ...                                                ...   \n",
       "149  1kez2cr         PLTR: The Most Overvalued Stock in History   \n",
       "151  1j521ug  AAPL is the second most expensive Mag 7 behind...   \n",
       "153  1jisozt  Microsoft (MSFT) Will be my favorite single st...   \n",
       "155  1kuy9f2  To the user claiming \"Gemini has inflated numb...   \n",
       "191  1ksyoo2            NVTS, Nvidia, and the WOLF at the door.   \n",
       "\n",
       "                                             self_text       date  score  \\\n",
       "0                                                      2025-05-28   1303   \n",
       "1    Life happened Needed the funds The shares were... 2025-03-22   2536   \n",
       "2    Nvidia NVDA has outperformed every stock in th... 2025-05-26    256   \n",
       "4                                                      2025-04-15  12474   \n",
       "5                                                      2025-04-14   4205   \n",
       "..                                                 ...        ...    ...   \n",
       "149  While everyones focused on Nvidia as the most ... 2025-05-05    260   \n",
       "151  Not one to ever care about the MAG 7 or the us... 2025-03-06    104   \n",
       "153  I absolutely love the outlook of microsoft and... 2025-03-24    195   \n",
       "155  Another user wrote a post about why they were ... 2025-05-25    260   \n",
       "191  Just today Nvidia announced they are going to ... 2025-05-22    119   \n",
       "\n",
       "     num_comment                author       subreddit  \\\n",
       "0            318          Force_Hammer  wallstreetbets   \n",
       "1            203     thecheetahexpress  wallstreetbets   \n",
       "2             86            wilbo75771  wallstreetbets   \n",
       "4            974           mayorolivia  wallstreetbets   \n",
       "5            512  PregnancyTestsByShaq  wallstreetbets   \n",
       "..           ...                   ...             ...   \n",
       "149           91        theycallmeryan  ValueInvesting   \n",
       "151          153              DylanIE_  ValueInvesting   \n",
       "153           81          ecarroll1851  ValueInvesting   \n",
       "155           46        fatasspenguino  ValueInvesting   \n",
       "191           54             narayan77     pennystocks   \n",
       "\n",
       "                                                   url sentiment  \\\n",
       "0    https://www.cnbc.com/2025/05/28/nvidia-nvda-ea...   neutral   \n",
       "1    https://www.reddit.com/r/wallstreetbets/commen...   neutral   \n",
       "2               https://www.reddit.com/gallery/1kvuqnj   neutral   \n",
       "4                 https://i.redd.it/v5ngumawi2ve1.jpeg   neutral   \n",
       "5    https://finance.yahoo.com/news/nvidia-commits-...   neutral   \n",
       "..                                                 ...       ...   \n",
       "149  https://www.reddit.com/r/ValueInvesting/commen...   neutral   \n",
       "151  https://www.reddit.com/r/ValueInvesting/commen...   neutral   \n",
       "153  https://www.reddit.com/r/ValueInvesting/commen...   neutral   \n",
       "155  https://www.reddit.com/r/ValueInvesting/commen...   neutral   \n",
       "191  https://www.reddit.com/r/pennystocks/comments/...   neutral   \n",
       "\n",
       "     sentiment_score  \n",
       "0           0.424185  \n",
       "1           0.863899  \n",
       "2           0.581886  \n",
       "4           0.424185  \n",
       "5           0.424185  \n",
       "..               ...  \n",
       "149         0.885238  \n",
       "151         0.825782  \n",
       "153         0.925750  \n",
       "155         0.872645  \n",
       "191         0.513783  \n",
       "\n",
       "[69 rows x 11 columns]"
      ]
     },
     "execution_count": 184,
     "metadata": {},
     "output_type": "execute_result"
    }
   ],
   "source": [
    "import yfinance as yf\n",
    "\n",
    "df = yf.download('NVDA',start=\"2025-3-1\",end=\"2025-5-31\" )\n",
    "data"
   ]
  },
  {
   "cell_type": "code",
   "execution_count": 185,
   "id": "d9741514",
   "metadata": {},
   "outputs": [],
   "source": [
    "df.columns =df.columns.droplevel(1)"
   ]
  },
  {
   "cell_type": "code",
   "execution_count": 186,
   "id": "9526162d",
   "metadata": {},
   "outputs": [],
   "source": [
    "import plotly.graph_objects as go"
   ]
  },
  {
   "cell_type": "code",
   "execution_count": 187,
   "id": "7023fcd0",
   "metadata": {},
   "outputs": [],
   "source": [
    "data.set_index('date',inplace=True)"
   ]
  },
  {
   "cell_type": "code",
   "execution_count": 188,
   "id": "7ec84952",
   "metadata": {},
   "outputs": [],
   "source": [
    "data.sort_index(inplace=True)"
   ]
  },
  {
   "cell_type": "code",
   "execution_count": 189,
   "id": "7d2abd01",
   "metadata": {},
   "outputs": [
    {
     "data": {
      "text/html": [
       "<div>\n",
       "<style scoped>\n",
       "    .dataframe tbody tr th:only-of-type {\n",
       "        vertical-align: middle;\n",
       "    }\n",
       "\n",
       "    .dataframe tbody tr th {\n",
       "        vertical-align: top;\n",
       "    }\n",
       "\n",
       "    .dataframe thead th {\n",
       "        text-align: right;\n",
       "    }\n",
       "</style>\n",
       "<table border=\"1\" class=\"dataframe\">\n",
       "  <thead>\n",
       "    <tr style=\"text-align: right;\">\n",
       "      <th></th>\n",
       "      <th>id</th>\n",
       "      <th>title</th>\n",
       "      <th>self_text</th>\n",
       "      <th>score</th>\n",
       "      <th>num_comment</th>\n",
       "      <th>author</th>\n",
       "      <th>subreddit</th>\n",
       "      <th>url</th>\n",
       "      <th>sentiment</th>\n",
       "      <th>sentiment_score</th>\n",
       "    </tr>\n",
       "    <tr>\n",
       "      <th>date</th>\n",
       "      <th></th>\n",
       "      <th></th>\n",
       "      <th></th>\n",
       "      <th></th>\n",
       "      <th></th>\n",
       "      <th></th>\n",
       "      <th></th>\n",
       "      <th></th>\n",
       "      <th></th>\n",
       "      <th></th>\n",
       "    </tr>\n",
       "  </thead>\n",
       "  <tbody>\n",
       "    <tr>\n",
       "      <th>2025-03-03</th>\n",
       "      <td>1j2gkxl</td>\n",
       "      <td>Exclusive-Nvidia and Broadcom testing chips on...</td>\n",
       "      <td></td>\n",
       "      <td>422</td>\n",
       "      <td>86</td>\n",
       "      <td>uznemirex</td>\n",
       "      <td>wallstreetbets</td>\n",
       "      <td>https://www.reuters.com/technology/nvidia-broa...</td>\n",
       "      <td>neutral</td>\n",
       "      <td>0.424185</td>\n",
       "    </tr>\n",
       "    <tr>\n",
       "      <th>2025-03-03</th>\n",
       "      <td>1j2cvns</td>\n",
       "      <td>If a market crash like 2022 happens again and ...</td>\n",
       "      <td>We cant be sure whether were at the beginning ...</td>\n",
       "      <td>229</td>\n",
       "      <td>283</td>\n",
       "      <td>Andy_parker</td>\n",
       "      <td>investing</td>\n",
       "      <td>https://www.reddit.com/r/investing/comments/1j...</td>\n",
       "      <td>neutral</td>\n",
       "      <td>0.767903</td>\n",
       "    </tr>\n",
       "    <tr>\n",
       "      <th>2025-03-03</th>\n",
       "      <td>1j2sr89</td>\n",
       "      <td>Nvidia reached dropped below it’s 13w low today</td>\n",
       "      <td></td>\n",
       "      <td>257</td>\n",
       "      <td>177</td>\n",
       "      <td>HxrrySZN</td>\n",
       "      <td>wallstreetbets</td>\n",
       "      <td>https://i.redd.it/8560uvdpcjme1.jpeg</td>\n",
       "      <td>neutral</td>\n",
       "      <td>0.424185</td>\n",
       "    </tr>\n",
       "    <tr>\n",
       "      <th>2025-03-03</th>\n",
       "      <td>1j2pw97</td>\n",
       "      <td>Nvidia warns of growing competition from China...</td>\n",
       "      <td></td>\n",
       "      <td>107</td>\n",
       "      <td>22</td>\n",
       "      <td>Whole-Albatross-6155</td>\n",
       "      <td>ValueInvesting</td>\n",
       "      <td>https://www.cnbc.com/2025/02/27/nvidia-warns-o...</td>\n",
       "      <td>neutral</td>\n",
       "      <td>0.424185</td>\n",
       "    </tr>\n",
       "    <tr>\n",
       "      <th>2025-03-04</th>\n",
       "      <td>1j3az7v</td>\n",
       "      <td>If you can't stomach a 4% market drop then you...</td>\n",
       "      <td>It seems that everyone has become so accustome...</td>\n",
       "      <td>3095</td>\n",
       "      <td>630</td>\n",
       "      <td>leafs2121</td>\n",
       "      <td>investing</td>\n",
       "      <td>https://www.reddit.com/r/investing/comments/1j...</td>\n",
       "      <td>negative</td>\n",
       "      <td>0.582050</td>\n",
       "    </tr>\n",
       "    <tr>\n",
       "      <th>...</th>\n",
       "      <td>...</td>\n",
       "      <td>...</td>\n",
       "      <td>...</td>\n",
       "      <td>...</td>\n",
       "      <td>...</td>\n",
       "      <td>...</td>\n",
       "      <td>...</td>\n",
       "      <td>...</td>\n",
       "      <td>...</td>\n",
       "      <td>...</td>\n",
       "    </tr>\n",
       "    <tr>\n",
       "      <th>2025-05-25</th>\n",
       "      <td>1kuy9f2</td>\n",
       "      <td>To the user claiming \"Gemini has inflated numb...</td>\n",
       "      <td>Another user wrote a post about why they were ...</td>\n",
       "      <td>260</td>\n",
       "      <td>46</td>\n",
       "      <td>fatasspenguino</td>\n",
       "      <td>ValueInvesting</td>\n",
       "      <td>https://www.reddit.com/r/ValueInvesting/commen...</td>\n",
       "      <td>neutral</td>\n",
       "      <td>0.872645</td>\n",
       "    </tr>\n",
       "    <tr>\n",
       "      <th>2025-05-26</th>\n",
       "      <td>1kvuqnj</td>\n",
       "      <td>NVIDIA Artificial Intelligence</td>\n",
       "      <td>Nvidia NVDA has outperformed every stock in th...</td>\n",
       "      <td>256</td>\n",
       "      <td>86</td>\n",
       "      <td>wilbo75771</td>\n",
       "      <td>wallstreetbets</td>\n",
       "      <td>https://www.reddit.com/gallery/1kvuqnj</td>\n",
       "      <td>neutral</td>\n",
       "      <td>0.581886</td>\n",
       "    </tr>\n",
       "    <tr>\n",
       "      <th>2025-05-28</th>\n",
       "      <td>1kxb4mg</td>\n",
       "      <td>Why isn’t AMD getting any love for AI stocks w...</td>\n",
       "      <td>Hey yall Lets be realwhen it comes to AIready ...</td>\n",
       "      <td>236</td>\n",
       "      <td>216</td>\n",
       "      <td>Red-candy5577</td>\n",
       "      <td>ValueInvesting</td>\n",
       "      <td>https://www.reddit.com/r/ValueInvesting/commen...</td>\n",
       "      <td>neutral</td>\n",
       "      <td>0.887099</td>\n",
       "    </tr>\n",
       "    <tr>\n",
       "      <th>2025-05-28</th>\n",
       "      <td>1kxrhap</td>\n",
       "      <td>Nvidia earnings are out – here are the numbers</td>\n",
       "      <td></td>\n",
       "      <td>1303</td>\n",
       "      <td>318</td>\n",
       "      <td>Force_Hammer</td>\n",
       "      <td>wallstreetbets</td>\n",
       "      <td>https://www.cnbc.com/2025/05/28/nvidia-nvda-ea...</td>\n",
       "      <td>neutral</td>\n",
       "      <td>0.424185</td>\n",
       "    </tr>\n",
       "    <tr>\n",
       "      <th>2025-05-29</th>\n",
       "      <td>1kyfupl</td>\n",
       "      <td>CEO Jensen Huang to Sell $800 Million of Nvidi...</td>\n",
       "      <td>CEO Jensen Huang to Sell 800 Million of Nvidia...</td>\n",
       "      <td>2616</td>\n",
       "      <td>277</td>\n",
       "      <td>NeitherCarpenter4234</td>\n",
       "      <td>wallstreetbets</td>\n",
       "      <td>https://www.reddit.com/r/wallstreetbets/commen...</td>\n",
       "      <td>neutral</td>\n",
       "      <td>0.942737</td>\n",
       "    </tr>\n",
       "  </tbody>\n",
       "</table>\n",
       "<p>69 rows × 10 columns</p>\n",
       "</div>"
      ],
      "text/plain": [
       "                 id                                              title  \\\n",
       "date                                                                     \n",
       "2025-03-03  1j2gkxl  Exclusive-Nvidia and Broadcom testing chips on...   \n",
       "2025-03-03  1j2cvns  If a market crash like 2022 happens again and ...   \n",
       "2025-03-03  1j2sr89    Nvidia reached dropped below it’s 13w low today   \n",
       "2025-03-03  1j2pw97  Nvidia warns of growing competition from China...   \n",
       "2025-03-04  1j3az7v  If you can't stomach a 4% market drop then you...   \n",
       "...             ...                                                ...   \n",
       "2025-05-25  1kuy9f2  To the user claiming \"Gemini has inflated numb...   \n",
       "2025-05-26  1kvuqnj                     NVIDIA Artificial Intelligence   \n",
       "2025-05-28  1kxb4mg  Why isn’t AMD getting any love for AI stocks w...   \n",
       "2025-05-28  1kxrhap     Nvidia earnings are out – here are the numbers   \n",
       "2025-05-29  1kyfupl  CEO Jensen Huang to Sell $800 Million of Nvidi...   \n",
       "\n",
       "                                                    self_text  score  \\\n",
       "date                                                                   \n",
       "2025-03-03                                                       422   \n",
       "2025-03-03  We cant be sure whether were at the beginning ...    229   \n",
       "2025-03-03                                                       257   \n",
       "2025-03-03                                                       107   \n",
       "2025-03-04  It seems that everyone has become so accustome...   3095   \n",
       "...                                                       ...    ...   \n",
       "2025-05-25  Another user wrote a post about why they were ...    260   \n",
       "2025-05-26  Nvidia NVDA has outperformed every stock in th...    256   \n",
       "2025-05-28  Hey yall Lets be realwhen it comes to AIready ...    236   \n",
       "2025-05-28                                                      1303   \n",
       "2025-05-29  CEO Jensen Huang to Sell 800 Million of Nvidia...   2616   \n",
       "\n",
       "            num_comment                author       subreddit  \\\n",
       "date                                                            \n",
       "2025-03-03           86             uznemirex  wallstreetbets   \n",
       "2025-03-03          283           Andy_parker       investing   \n",
       "2025-03-03          177              HxrrySZN  wallstreetbets   \n",
       "2025-03-03           22  Whole-Albatross-6155  ValueInvesting   \n",
       "2025-03-04          630             leafs2121       investing   \n",
       "...                 ...                   ...             ...   \n",
       "2025-05-25           46        fatasspenguino  ValueInvesting   \n",
       "2025-05-26           86            wilbo75771  wallstreetbets   \n",
       "2025-05-28          216         Red-candy5577  ValueInvesting   \n",
       "2025-05-28          318          Force_Hammer  wallstreetbets   \n",
       "2025-05-29          277  NeitherCarpenter4234  wallstreetbets   \n",
       "\n",
       "                                                          url sentiment  \\\n",
       "date                                                                      \n",
       "2025-03-03  https://www.reuters.com/technology/nvidia-broa...   neutral   \n",
       "2025-03-03  https://www.reddit.com/r/investing/comments/1j...   neutral   \n",
       "2025-03-03               https://i.redd.it/8560uvdpcjme1.jpeg   neutral   \n",
       "2025-03-03  https://www.cnbc.com/2025/02/27/nvidia-warns-o...   neutral   \n",
       "2025-03-04  https://www.reddit.com/r/investing/comments/1j...  negative   \n",
       "...                                                       ...       ...   \n",
       "2025-05-25  https://www.reddit.com/r/ValueInvesting/commen...   neutral   \n",
       "2025-05-26             https://www.reddit.com/gallery/1kvuqnj   neutral   \n",
       "2025-05-28  https://www.reddit.com/r/ValueInvesting/commen...   neutral   \n",
       "2025-05-28  https://www.cnbc.com/2025/05/28/nvidia-nvda-ea...   neutral   \n",
       "2025-05-29  https://www.reddit.com/r/wallstreetbets/commen...   neutral   \n",
       "\n",
       "            sentiment_score  \n",
       "date                         \n",
       "2025-03-03         0.424185  \n",
       "2025-03-03         0.767903  \n",
       "2025-03-03         0.424185  \n",
       "2025-03-03         0.424185  \n",
       "2025-03-04         0.582050  \n",
       "...                     ...  \n",
       "2025-05-25         0.872645  \n",
       "2025-05-26         0.581886  \n",
       "2025-05-28         0.887099  \n",
       "2025-05-28         0.424185  \n",
       "2025-05-29         0.942737  \n",
       "\n",
       "[69 rows x 10 columns]"
      ]
     },
     "execution_count": 189,
     "metadata": {},
     "output_type": "execute_result"
    }
   ],
   "source": [
    "data"
   ]
  },
  {
   "cell_type": "code",
   "execution_count": 190,
   "id": "ef8dcfd3",
   "metadata": {},
   "outputs": [],
   "source": [
    "data.loc[data['sentiment']=='negative','sentiment_score'] = data.loc[data['sentiment']=='negative','sentiment_score'] * -1"
   ]
  },
  {
   "cell_type": "code",
   "execution_count": 191,
   "id": "60340d2b",
   "metadata": {},
   "outputs": [],
   "source": [
    "data['reinforced_sentiment'] = data['sentiment_score'] * data['score']"
   ]
  },
  {
   "cell_type": "code",
   "execution_count": 192,
   "id": "9c7d71c2",
   "metadata": {},
   "outputs": [],
   "source": [
    "sentiment_evolution = data.groupby(data.index)['reinforced_sentiment'].mean().reset_index()"
   ]
  },
  {
   "cell_type": "code",
   "execution_count": 193,
   "id": "b69514ee",
   "metadata": {},
   "outputs": [
    {
     "data": {
      "text/html": [
       "<div>\n",
       "<style scoped>\n",
       "    .dataframe tbody tr th:only-of-type {\n",
       "        vertical-align: middle;\n",
       "    }\n",
       "\n",
       "    .dataframe tbody tr th {\n",
       "        vertical-align: top;\n",
       "    }\n",
       "\n",
       "    .dataframe thead th {\n",
       "        text-align: right;\n",
       "    }\n",
       "</style>\n",
       "<table border=\"1\" class=\"dataframe\">\n",
       "  <thead>\n",
       "    <tr style=\"text-align: right;\">\n",
       "      <th></th>\n",
       "      <th>date</th>\n",
       "      <th>reinforced_sentiment</th>\n",
       "    </tr>\n",
       "  </thead>\n",
       "  <tbody>\n",
       "    <tr>\n",
       "      <th>0</th>\n",
       "      <td>2025-03-03</td>\n",
       "      <td>127.314802</td>\n",
       "    </tr>\n",
       "    <tr>\n",
       "      <th>1</th>\n",
       "      <td>2025-03-04</td>\n",
       "      <td>-466.416040</td>\n",
       "    </tr>\n",
       "    <tr>\n",
       "      <th>2</th>\n",
       "      <td>2025-03-06</td>\n",
       "      <td>-178.839853</td>\n",
       "    </tr>\n",
       "    <tr>\n",
       "      <th>3</th>\n",
       "      <td>2025-03-09</td>\n",
       "      <td>103.625580</td>\n",
       "    </tr>\n",
       "    <tr>\n",
       "      <th>4</th>\n",
       "      <td>2025-03-10</td>\n",
       "      <td>5051.444347</td>\n",
       "    </tr>\n",
       "    <tr>\n",
       "      <th>5</th>\n",
       "      <td>2025-03-12</td>\n",
       "      <td>-1254.232060</td>\n",
       "    </tr>\n",
       "    <tr>\n",
       "      <th>6</th>\n",
       "      <td>2025-03-13</td>\n",
       "      <td>1834.870637</td>\n",
       "    </tr>\n",
       "    <tr>\n",
       "      <th>7</th>\n",
       "      <td>2025-03-18</td>\n",
       "      <td>171.371229</td>\n",
       "    </tr>\n",
       "    <tr>\n",
       "      <th>8</th>\n",
       "      <td>2025-03-20</td>\n",
       "      <td>1097.940526</td>\n",
       "    </tr>\n",
       "    <tr>\n",
       "      <th>9</th>\n",
       "      <td>2025-03-21</td>\n",
       "      <td>-533.271287</td>\n",
       "    </tr>\n",
       "    <tr>\n",
       "      <th>10</th>\n",
       "      <td>2025-03-22</td>\n",
       "      <td>2190.848299</td>\n",
       "    </tr>\n",
       "    <tr>\n",
       "      <th>11</th>\n",
       "      <td>2025-03-24</td>\n",
       "      <td>152.491919</td>\n",
       "    </tr>\n",
       "    <tr>\n",
       "      <th>12</th>\n",
       "      <td>2025-03-26</td>\n",
       "      <td>352.481433</td>\n",
       "    </tr>\n",
       "    <tr>\n",
       "      <th>13</th>\n",
       "      <td>2025-03-28</td>\n",
       "      <td>206.578055</td>\n",
       "    </tr>\n",
       "    <tr>\n",
       "      <th>14</th>\n",
       "      <td>2025-03-29</td>\n",
       "      <td>813.586673</td>\n",
       "    </tr>\n",
       "    <tr>\n",
       "      <th>15</th>\n",
       "      <td>2025-03-31</td>\n",
       "      <td>633.548172</td>\n",
       "    </tr>\n",
       "    <tr>\n",
       "      <th>16</th>\n",
       "      <td>2025-04-03</td>\n",
       "      <td>31.170841</td>\n",
       "    </tr>\n",
       "    <tr>\n",
       "      <th>17</th>\n",
       "      <td>2025-04-08</td>\n",
       "      <td>-1546.976187</td>\n",
       "    </tr>\n",
       "    <tr>\n",
       "      <th>18</th>\n",
       "      <td>2025-04-09</td>\n",
       "      <td>406.735115</td>\n",
       "    </tr>\n",
       "    <tr>\n",
       "      <th>19</th>\n",
       "      <td>2025-04-12</td>\n",
       "      <td>3001.542075</td>\n",
       "    </tr>\n",
       "    <tr>\n",
       "      <th>20</th>\n",
       "      <td>2025-04-14</td>\n",
       "      <td>811.900536</td>\n",
       "    </tr>\n",
       "    <tr>\n",
       "      <th>21</th>\n",
       "      <td>2025-04-15</td>\n",
       "      <td>1528.768011</td>\n",
       "    </tr>\n",
       "    <tr>\n",
       "      <th>22</th>\n",
       "      <td>2025-04-16</td>\n",
       "      <td>-2030.606667</td>\n",
       "    </tr>\n",
       "    <tr>\n",
       "      <th>23</th>\n",
       "      <td>2025-04-17</td>\n",
       "      <td>305.184328</td>\n",
       "    </tr>\n",
       "    <tr>\n",
       "      <th>24</th>\n",
       "      <td>2025-04-19</td>\n",
       "      <td>-3948.588562</td>\n",
       "    </tr>\n",
       "    <tr>\n",
       "      <th>25</th>\n",
       "      <td>2025-04-28</td>\n",
       "      <td>-0.525326</td>\n",
       "    </tr>\n",
       "    <tr>\n",
       "      <th>26</th>\n",
       "      <td>2025-05-01</td>\n",
       "      <td>123.577298</td>\n",
       "    </tr>\n",
       "    <tr>\n",
       "      <th>27</th>\n",
       "      <td>2025-05-02</td>\n",
       "      <td>28.778440</td>\n",
       "    </tr>\n",
       "    <tr>\n",
       "      <th>28</th>\n",
       "      <td>2025-05-05</td>\n",
       "      <td>230.161971</td>\n",
       "    </tr>\n",
       "    <tr>\n",
       "      <th>29</th>\n",
       "      <td>2025-05-06</td>\n",
       "      <td>-128.912753</td>\n",
       "    </tr>\n",
       "    <tr>\n",
       "      <th>30</th>\n",
       "      <td>2025-05-07</td>\n",
       "      <td>821.352273</td>\n",
       "    </tr>\n",
       "    <tr>\n",
       "      <th>31</th>\n",
       "      <td>2025-05-12</td>\n",
       "      <td>113.443308</td>\n",
       "    </tr>\n",
       "    <tr>\n",
       "      <th>32</th>\n",
       "      <td>2025-05-13</td>\n",
       "      <td>270.629978</td>\n",
       "    </tr>\n",
       "    <tr>\n",
       "      <th>33</th>\n",
       "      <td>2025-05-14</td>\n",
       "      <td>327.878800</td>\n",
       "    </tr>\n",
       "    <tr>\n",
       "      <th>34</th>\n",
       "      <td>2025-05-18</td>\n",
       "      <td>274.596460</td>\n",
       "    </tr>\n",
       "    <tr>\n",
       "      <th>35</th>\n",
       "      <td>2025-05-20</td>\n",
       "      <td>109.863894</td>\n",
       "    </tr>\n",
       "    <tr>\n",
       "      <th>36</th>\n",
       "      <td>2025-05-21</td>\n",
       "      <td>137.028497</td>\n",
       "    </tr>\n",
       "    <tr>\n",
       "      <th>37</th>\n",
       "      <td>2025-05-22</td>\n",
       "      <td>61.140146</td>\n",
       "    </tr>\n",
       "    <tr>\n",
       "      <th>38</th>\n",
       "      <td>2025-05-23</td>\n",
       "      <td>293.275893</td>\n",
       "    </tr>\n",
       "    <tr>\n",
       "      <th>39</th>\n",
       "      <td>2025-05-24</td>\n",
       "      <td>294.108728</td>\n",
       "    </tr>\n",
       "    <tr>\n",
       "      <th>40</th>\n",
       "      <td>2025-05-25</td>\n",
       "      <td>226.887597</td>\n",
       "    </tr>\n",
       "    <tr>\n",
       "      <th>41</th>\n",
       "      <td>2025-05-26</td>\n",
       "      <td>148.962708</td>\n",
       "    </tr>\n",
       "    <tr>\n",
       "      <th>42</th>\n",
       "      <td>2025-05-28</td>\n",
       "      <td>381.034139</td>\n",
       "    </tr>\n",
       "    <tr>\n",
       "      <th>43</th>\n",
       "      <td>2025-05-29</td>\n",
       "      <td>2466.199013</td>\n",
       "    </tr>\n",
       "  </tbody>\n",
       "</table>\n",
       "</div>"
      ],
      "text/plain": [
       "         date  reinforced_sentiment\n",
       "0  2025-03-03            127.314802\n",
       "1  2025-03-04           -466.416040\n",
       "2  2025-03-06           -178.839853\n",
       "3  2025-03-09            103.625580\n",
       "4  2025-03-10           5051.444347\n",
       "5  2025-03-12          -1254.232060\n",
       "6  2025-03-13           1834.870637\n",
       "7  2025-03-18            171.371229\n",
       "8  2025-03-20           1097.940526\n",
       "9  2025-03-21           -533.271287\n",
       "10 2025-03-22           2190.848299\n",
       "11 2025-03-24            152.491919\n",
       "12 2025-03-26            352.481433\n",
       "13 2025-03-28            206.578055\n",
       "14 2025-03-29            813.586673\n",
       "15 2025-03-31            633.548172\n",
       "16 2025-04-03             31.170841\n",
       "17 2025-04-08          -1546.976187\n",
       "18 2025-04-09            406.735115\n",
       "19 2025-04-12           3001.542075\n",
       "20 2025-04-14            811.900536\n",
       "21 2025-04-15           1528.768011\n",
       "22 2025-04-16          -2030.606667\n",
       "23 2025-04-17            305.184328\n",
       "24 2025-04-19          -3948.588562\n",
       "25 2025-04-28             -0.525326\n",
       "26 2025-05-01            123.577298\n",
       "27 2025-05-02             28.778440\n",
       "28 2025-05-05            230.161971\n",
       "29 2025-05-06           -128.912753\n",
       "30 2025-05-07            821.352273\n",
       "31 2025-05-12            113.443308\n",
       "32 2025-05-13            270.629978\n",
       "33 2025-05-14            327.878800\n",
       "34 2025-05-18            274.596460\n",
       "35 2025-05-20            109.863894\n",
       "36 2025-05-21            137.028497\n",
       "37 2025-05-22             61.140146\n",
       "38 2025-05-23            293.275893\n",
       "39 2025-05-24            294.108728\n",
       "40 2025-05-25            226.887597\n",
       "41 2025-05-26            148.962708\n",
       "42 2025-05-28            381.034139\n",
       "43 2025-05-29           2466.199013"
      ]
     },
     "execution_count": 193,
     "metadata": {},
     "output_type": "execute_result"
    }
   ],
   "source": [
    "sentiment_evolution"
   ]
  },
  {
   "cell_type": "code",
   "execution_count": 195,
   "id": "0cbb2868",
   "metadata": {},
   "outputs": [],
   "source": [
    "df['date'] = df.index"
   ]
  },
  {
   "cell_type": "code",
   "execution_count": 196,
   "id": "2f53583f",
   "metadata": {},
   "outputs": [],
   "source": [
    "df_1 = pd.merge(sentiment_evolution,df[['Close','date']],on='date',how='left')"
   ]
  },
  {
   "cell_type": "code",
   "execution_count": 197,
   "id": "bbb70ba8",
   "metadata": {},
   "outputs": [
    {
     "data": {
      "text/plain": [
       "date                    0\n",
       "reinforced_sentiment    0\n",
       "Close                   9\n",
       "dtype: int64"
      ]
     },
     "execution_count": 197,
     "metadata": {},
     "output_type": "execute_result"
    }
   ],
   "source": [
    "df_1.isna().sum()"
   ]
  },
  {
   "cell_type": "code",
   "execution_count": 198,
   "id": "666c62d1",
   "metadata": {},
   "outputs": [],
   "source": [
    "df_1.dropna(axis=0,inplace=True)"
   ]
  },
  {
   "cell_type": "code",
   "execution_count": null,
   "id": "8278c81c",
   "metadata": {},
   "outputs": [
    {
     "data": {
      "application/vnd.plotly.v1+json": {
       "config": {
        "plotlyServerURL": "https://plot.ly"
       },
       "data": [
        {
         "line": {
          "color": "green"
         },
         "mode": "lines+markers",
         "name": "Closing price on the NVDA stocks",
         "type": "scatter",
         "x": [
          "2025-03-03T00:00:00.000000000",
          "2025-03-04T00:00:00.000000000",
          "2025-03-06T00:00:00.000000000",
          "2025-03-10T00:00:00.000000000",
          "2025-03-12T00:00:00.000000000",
          "2025-03-13T00:00:00.000000000",
          "2025-03-18T00:00:00.000000000",
          "2025-03-20T00:00:00.000000000",
          "2025-03-21T00:00:00.000000000",
          "2025-03-24T00:00:00.000000000",
          "2025-03-26T00:00:00.000000000",
          "2025-03-28T00:00:00.000000000",
          "2025-03-31T00:00:00.000000000",
          "2025-04-03T00:00:00.000000000",
          "2025-04-08T00:00:00.000000000",
          "2025-04-09T00:00:00.000000000",
          "2025-04-14T00:00:00.000000000",
          "2025-04-15T00:00:00.000000000",
          "2025-04-16T00:00:00.000000000",
          "2025-04-17T00:00:00.000000000",
          "2025-04-28T00:00:00.000000000",
          "2025-05-01T00:00:00.000000000",
          "2025-05-02T00:00:00.000000000",
          "2025-05-05T00:00:00.000000000",
          "2025-05-06T00:00:00.000000000",
          "2025-05-07T00:00:00.000000000",
          "2025-05-12T00:00:00.000000000",
          "2025-05-13T00:00:00.000000000",
          "2025-05-14T00:00:00.000000000",
          "2025-05-20T00:00:00.000000000",
          "2025-05-21T00:00:00.000000000",
          "2025-05-22T00:00:00.000000000",
          "2025-05-23T00:00:00.000000000",
          "2025-05-28T00:00:00.000000000",
          "2025-05-29T00:00:00.000000000"
         ],
         "y": {
          "bdata": "AAAAICuDXEAAAABgrf5cQAAAAEDUo1tAAAAAIBe+WkAAAAAgXO9cQAAAAMAe5VxAAAAAIIXbXEAAAACA66FdQAAAAMDMbF1AAAAAgD1aXkAAAADgo3BcQAAAAEDhaltAAAAA4FEYW0AAAABAM3NZQAAAAEAzE1hAAAAAwB6VXEAAAACgcK1bQAAAAMDMDFxAAAAAIFwfWkAAAAAgXF9ZQAAAAGC4LltAAAAAQArnW0AAAAAAAKBcQAAAAOB6dFxAAAAAYI9iXEAAAAAA10NdQAAAAAAAwF5AAAAAgMI9YEAAAABA4epgQAAAAAApzGBAAAAAoJl5YEAAAABgj5pgQAAAAKBHaWBAAAAAgOvZYEAAAACAFGZhQA==",
          "dtype": "f8"
         },
         "yaxis": "y2"
        },
        {
         "line": {
          "color": "blue"
         },
         "mode": "lines+markers",
         "name": "Sentiment",
         "type": "scatter",
         "x": [
          "2025-03-03T00:00:00.000000000",
          "2025-03-04T00:00:00.000000000",
          "2025-03-06T00:00:00.000000000",
          "2025-03-10T00:00:00.000000000",
          "2025-03-12T00:00:00.000000000",
          "2025-03-13T00:00:00.000000000",
          "2025-03-18T00:00:00.000000000",
          "2025-03-20T00:00:00.000000000",
          "2025-03-21T00:00:00.000000000",
          "2025-03-24T00:00:00.000000000",
          "2025-03-26T00:00:00.000000000",
          "2025-03-28T00:00:00.000000000",
          "2025-03-31T00:00:00.000000000",
          "2025-04-03T00:00:00.000000000",
          "2025-04-08T00:00:00.000000000",
          "2025-04-09T00:00:00.000000000",
          "2025-04-14T00:00:00.000000000",
          "2025-04-15T00:00:00.000000000",
          "2025-04-16T00:00:00.000000000",
          "2025-04-17T00:00:00.000000000",
          "2025-04-28T00:00:00.000000000",
          "2025-05-01T00:00:00.000000000",
          "2025-05-02T00:00:00.000000000",
          "2025-05-05T00:00:00.000000000",
          "2025-05-06T00:00:00.000000000",
          "2025-05-07T00:00:00.000000000",
          "2025-05-12T00:00:00.000000000",
          "2025-05-13T00:00:00.000000000",
          "2025-05-14T00:00:00.000000000",
          "2025-05-20T00:00:00.000000000",
          "2025-05-21T00:00:00.000000000",
          "2025-05-22T00:00:00.000000000",
          "2025-05-23T00:00:00.000000000",
          "2025-05-28T00:00:00.000000000",
          "2025-05-29T00:00:00.000000000"
         ],
         "y": {
          "bdata": "AABAtyXUX0BVVQUaqCZ9wFVVlRLgWmbAAAC2wHG7s0AAABCh7ZiTwAAAQIh7q5xAAACwHOFrZUAAAEAZwyeRQAAAwJgrqoDAAACAzL0PY0AAAKDyswd2QAAAwG1/0mlAAADYp2LMg0Crqqo0vCs/QAAAmJ3nK5jAVVWlB8NreUBVVUVMNF+JQKuqcnES45dAq6oCOm26n8AAAGAC8xJzQAAAAMB3z+C/AAAAc/LkXkAAAIDYR8c8QAAAgN0uxWxAAAAARjUdYMAAALx00aqJQAAAAChfXFxAAADAYxTqcEAAAACRD350QAAAgAlKd1tAAAAAcukgYUAAAABO8JFOQAAAYA5qVHJAAADQ1IvQd0AAAADlZUSjQA==",
          "dtype": "f8"
         },
         "yaxis": "y"
        }
       ],
       "layout": {
        "legend": {
         "orientation": "h",
         "x": 0.1,
         "y": 1.1
        },
        "margin": {
         "l": 60,
         "r": 120,
         "t": 80
        },
        "template": {
         "data": {
          "bar": [
           {
            "error_x": {
             "color": "#2a3f5f"
            },
            "error_y": {
             "color": "#2a3f5f"
            },
            "marker": {
             "line": {
              "color": "#E5ECF6",
              "width": 0.5
             },
             "pattern": {
              "fillmode": "overlay",
              "size": 10,
              "solidity": 0.2
             }
            },
            "type": "bar"
           }
          ],
          "barpolar": [
           {
            "marker": {
             "line": {
              "color": "#E5ECF6",
              "width": 0.5
             },
             "pattern": {
              "fillmode": "overlay",
              "size": 10,
              "solidity": 0.2
             }
            },
            "type": "barpolar"
           }
          ],
          "carpet": [
           {
            "aaxis": {
             "endlinecolor": "#2a3f5f",
             "gridcolor": "white",
             "linecolor": "white",
             "minorgridcolor": "white",
             "startlinecolor": "#2a3f5f"
            },
            "baxis": {
             "endlinecolor": "#2a3f5f",
             "gridcolor": "white",
             "linecolor": "white",
             "minorgridcolor": "white",
             "startlinecolor": "#2a3f5f"
            },
            "type": "carpet"
           }
          ],
          "choropleth": [
           {
            "colorbar": {
             "outlinewidth": 0,
             "ticks": ""
            },
            "type": "choropleth"
           }
          ],
          "contour": [
           {
            "colorbar": {
             "outlinewidth": 0,
             "ticks": ""
            },
            "colorscale": [
             [
              0,
              "#0d0887"
             ],
             [
              0.1111111111111111,
              "#46039f"
             ],
             [
              0.2222222222222222,
              "#7201a8"
             ],
             [
              0.3333333333333333,
              "#9c179e"
             ],
             [
              0.4444444444444444,
              "#bd3786"
             ],
             [
              0.5555555555555556,
              "#d8576b"
             ],
             [
              0.6666666666666666,
              "#ed7953"
             ],
             [
              0.7777777777777778,
              "#fb9f3a"
             ],
             [
              0.8888888888888888,
              "#fdca26"
             ],
             [
              1,
              "#f0f921"
             ]
            ],
            "type": "contour"
           }
          ],
          "contourcarpet": [
           {
            "colorbar": {
             "outlinewidth": 0,
             "ticks": ""
            },
            "type": "contourcarpet"
           }
          ],
          "heatmap": [
           {
            "colorbar": {
             "outlinewidth": 0,
             "ticks": ""
            },
            "colorscale": [
             [
              0,
              "#0d0887"
             ],
             [
              0.1111111111111111,
              "#46039f"
             ],
             [
              0.2222222222222222,
              "#7201a8"
             ],
             [
              0.3333333333333333,
              "#9c179e"
             ],
             [
              0.4444444444444444,
              "#bd3786"
             ],
             [
              0.5555555555555556,
              "#d8576b"
             ],
             [
              0.6666666666666666,
              "#ed7953"
             ],
             [
              0.7777777777777778,
              "#fb9f3a"
             ],
             [
              0.8888888888888888,
              "#fdca26"
             ],
             [
              1,
              "#f0f921"
             ]
            ],
            "type": "heatmap"
           }
          ],
          "histogram": [
           {
            "marker": {
             "pattern": {
              "fillmode": "overlay",
              "size": 10,
              "solidity": 0.2
             }
            },
            "type": "histogram"
           }
          ],
          "histogram2d": [
           {
            "colorbar": {
             "outlinewidth": 0,
             "ticks": ""
            },
            "colorscale": [
             [
              0,
              "#0d0887"
             ],
             [
              0.1111111111111111,
              "#46039f"
             ],
             [
              0.2222222222222222,
              "#7201a8"
             ],
             [
              0.3333333333333333,
              "#9c179e"
             ],
             [
              0.4444444444444444,
              "#bd3786"
             ],
             [
              0.5555555555555556,
              "#d8576b"
             ],
             [
              0.6666666666666666,
              "#ed7953"
             ],
             [
              0.7777777777777778,
              "#fb9f3a"
             ],
             [
              0.8888888888888888,
              "#fdca26"
             ],
             [
              1,
              "#f0f921"
             ]
            ],
            "type": "histogram2d"
           }
          ],
          "histogram2dcontour": [
           {
            "colorbar": {
             "outlinewidth": 0,
             "ticks": ""
            },
            "colorscale": [
             [
              0,
              "#0d0887"
             ],
             [
              0.1111111111111111,
              "#46039f"
             ],
             [
              0.2222222222222222,
              "#7201a8"
             ],
             [
              0.3333333333333333,
              "#9c179e"
             ],
             [
              0.4444444444444444,
              "#bd3786"
             ],
             [
              0.5555555555555556,
              "#d8576b"
             ],
             [
              0.6666666666666666,
              "#ed7953"
             ],
             [
              0.7777777777777778,
              "#fb9f3a"
             ],
             [
              0.8888888888888888,
              "#fdca26"
             ],
             [
              1,
              "#f0f921"
             ]
            ],
            "type": "histogram2dcontour"
           }
          ],
          "mesh3d": [
           {
            "colorbar": {
             "outlinewidth": 0,
             "ticks": ""
            },
            "type": "mesh3d"
           }
          ],
          "parcoords": [
           {
            "line": {
             "colorbar": {
              "outlinewidth": 0,
              "ticks": ""
             }
            },
            "type": "parcoords"
           }
          ],
          "pie": [
           {
            "automargin": true,
            "type": "pie"
           }
          ],
          "scatter": [
           {
            "fillpattern": {
             "fillmode": "overlay",
             "size": 10,
             "solidity": 0.2
            },
            "type": "scatter"
           }
          ],
          "scatter3d": [
           {
            "line": {
             "colorbar": {
              "outlinewidth": 0,
              "ticks": ""
             }
            },
            "marker": {
             "colorbar": {
              "outlinewidth": 0,
              "ticks": ""
             }
            },
            "type": "scatter3d"
           }
          ],
          "scattercarpet": [
           {
            "marker": {
             "colorbar": {
              "outlinewidth": 0,
              "ticks": ""
             }
            },
            "type": "scattercarpet"
           }
          ],
          "scattergeo": [
           {
            "marker": {
             "colorbar": {
              "outlinewidth": 0,
              "ticks": ""
             }
            },
            "type": "scattergeo"
           }
          ],
          "scattergl": [
           {
            "marker": {
             "colorbar": {
              "outlinewidth": 0,
              "ticks": ""
             }
            },
            "type": "scattergl"
           }
          ],
          "scattermap": [
           {
            "marker": {
             "colorbar": {
              "outlinewidth": 0,
              "ticks": ""
             }
            },
            "type": "scattermap"
           }
          ],
          "scattermapbox": [
           {
            "marker": {
             "colorbar": {
              "outlinewidth": 0,
              "ticks": ""
             }
            },
            "type": "scattermapbox"
           }
          ],
          "scatterpolar": [
           {
            "marker": {
             "colorbar": {
              "outlinewidth": 0,
              "ticks": ""
             }
            },
            "type": "scatterpolar"
           }
          ],
          "scatterpolargl": [
           {
            "marker": {
             "colorbar": {
              "outlinewidth": 0,
              "ticks": ""
             }
            },
            "type": "scatterpolargl"
           }
          ],
          "scatterternary": [
           {
            "marker": {
             "colorbar": {
              "outlinewidth": 0,
              "ticks": ""
             }
            },
            "type": "scatterternary"
           }
          ],
          "surface": [
           {
            "colorbar": {
             "outlinewidth": 0,
             "ticks": ""
            },
            "colorscale": [
             [
              0,
              "#0d0887"
             ],
             [
              0.1111111111111111,
              "#46039f"
             ],
             [
              0.2222222222222222,
              "#7201a8"
             ],
             [
              0.3333333333333333,
              "#9c179e"
             ],
             [
              0.4444444444444444,
              "#bd3786"
             ],
             [
              0.5555555555555556,
              "#d8576b"
             ],
             [
              0.6666666666666666,
              "#ed7953"
             ],
             [
              0.7777777777777778,
              "#fb9f3a"
             ],
             [
              0.8888888888888888,
              "#fdca26"
             ],
             [
              1,
              "#f0f921"
             ]
            ],
            "type": "surface"
           }
          ],
          "table": [
           {
            "cells": {
             "fill": {
              "color": "#EBF0F8"
             },
             "line": {
              "color": "white"
             }
            },
            "header": {
             "fill": {
              "color": "#C8D4E3"
             },
             "line": {
              "color": "white"
             }
            },
            "type": "table"
           }
          ]
         },
         "layout": {
          "annotationdefaults": {
           "arrowcolor": "#2a3f5f",
           "arrowhead": 0,
           "arrowwidth": 1
          },
          "autotypenumbers": "strict",
          "coloraxis": {
           "colorbar": {
            "outlinewidth": 0,
            "ticks": ""
           }
          },
          "colorscale": {
           "diverging": [
            [
             0,
             "#8e0152"
            ],
            [
             0.1,
             "#c51b7d"
            ],
            [
             0.2,
             "#de77ae"
            ],
            [
             0.3,
             "#f1b6da"
            ],
            [
             0.4,
             "#fde0ef"
            ],
            [
             0.5,
             "#f7f7f7"
            ],
            [
             0.6,
             "#e6f5d0"
            ],
            [
             0.7,
             "#b8e186"
            ],
            [
             0.8,
             "#7fbc41"
            ],
            [
             0.9,
             "#4d9221"
            ],
            [
             1,
             "#276419"
            ]
           ],
           "sequential": [
            [
             0,
             "#0d0887"
            ],
            [
             0.1111111111111111,
             "#46039f"
            ],
            [
             0.2222222222222222,
             "#7201a8"
            ],
            [
             0.3333333333333333,
             "#9c179e"
            ],
            [
             0.4444444444444444,
             "#bd3786"
            ],
            [
             0.5555555555555556,
             "#d8576b"
            ],
            [
             0.6666666666666666,
             "#ed7953"
            ],
            [
             0.7777777777777778,
             "#fb9f3a"
            ],
            [
             0.8888888888888888,
             "#fdca26"
            ],
            [
             1,
             "#f0f921"
            ]
           ],
           "sequentialminus": [
            [
             0,
             "#0d0887"
            ],
            [
             0.1111111111111111,
             "#46039f"
            ],
            [
             0.2222222222222222,
             "#7201a8"
            ],
            [
             0.3333333333333333,
             "#9c179e"
            ],
            [
             0.4444444444444444,
             "#bd3786"
            ],
            [
             0.5555555555555556,
             "#d8576b"
            ],
            [
             0.6666666666666666,
             "#ed7953"
            ],
            [
             0.7777777777777778,
             "#fb9f3a"
            ],
            [
             0.8888888888888888,
             "#fdca26"
            ],
            [
             1,
             "#f0f921"
            ]
           ]
          },
          "colorway": [
           "#636efa",
           "#EF553B",
           "#00cc96",
           "#ab63fa",
           "#FFA15A",
           "#19d3f3",
           "#FF6692",
           "#B6E880",
           "#FF97FF",
           "#FECB52"
          ],
          "font": {
           "color": "#2a3f5f"
          },
          "geo": {
           "bgcolor": "white",
           "lakecolor": "white",
           "landcolor": "#E5ECF6",
           "showlakes": true,
           "showland": true,
           "subunitcolor": "white"
          },
          "hoverlabel": {
           "align": "left"
          },
          "hovermode": "closest",
          "mapbox": {
           "style": "light"
          },
          "paper_bgcolor": "white",
          "plot_bgcolor": "#E5ECF6",
          "polar": {
           "angularaxis": {
            "gridcolor": "white",
            "linecolor": "white",
            "ticks": ""
           },
           "bgcolor": "#E5ECF6",
           "radialaxis": {
            "gridcolor": "white",
            "linecolor": "white",
            "ticks": ""
           }
          },
          "scene": {
           "xaxis": {
            "backgroundcolor": "#E5ECF6",
            "gridcolor": "white",
            "gridwidth": 2,
            "linecolor": "white",
            "showbackground": true,
            "ticks": "",
            "zerolinecolor": "white"
           },
           "yaxis": {
            "backgroundcolor": "#E5ECF6",
            "gridcolor": "white",
            "gridwidth": 2,
            "linecolor": "white",
            "showbackground": true,
            "ticks": "",
            "zerolinecolor": "white"
           },
           "zaxis": {
            "backgroundcolor": "#E5ECF6",
            "gridcolor": "white",
            "gridwidth": 2,
            "linecolor": "white",
            "showbackground": true,
            "ticks": "",
            "zerolinecolor": "white"
           }
          },
          "shapedefaults": {
           "line": {
            "color": "#2a3f5f"
           }
          },
          "ternary": {
           "aaxis": {
            "gridcolor": "white",
            "linecolor": "white",
            "ticks": ""
           },
           "baxis": {
            "gridcolor": "white",
            "linecolor": "white",
            "ticks": ""
           },
           "bgcolor": "#E5ECF6",
           "caxis": {
            "gridcolor": "white",
            "linecolor": "white",
            "ticks": ""
           }
          },
          "title": {
           "x": 0.05
          },
          "xaxis": {
           "automargin": true,
           "gridcolor": "white",
           "linecolor": "white",
           "ticks": "",
           "title": {
            "standoff": 15
           },
           "zerolinecolor": "white",
           "zerolinewidth": 2
          },
          "yaxis": {
           "automargin": true,
           "gridcolor": "white",
           "linecolor": "white",
           "ticks": "",
           "title": {
            "standoff": 15
           },
           "zerolinecolor": "white",
           "zerolinewidth": 2
          }
         }
        },
        "title": {
         "text": "Reinforced Sentiment and Closing Price with Double Right Y Axes (Plotly)"
        },
        "yaxis": {
         "side": "left",
         "title": {
          "text": "Reinforced Sentiment"
         }
        },
        "yaxis2": {
         "anchor": "x",
         "overlaying": "y",
         "position": 0.85,
         "side": "right",
         "title": {
          "text": "Closing Price"
         }
        }
       }
      }
     },
     "metadata": {},
     "output_type": "display_data"
    }
   ],
   "source": [
    "fig = go.Figure()\n",
    "\n",
    "# Closing Price (right y-axis #1)\n",
    "fig.add_trace(go.Scatter(\n",
    "    x=df_1['date'],\n",
    "    y=df_1['Close'],\n",
    "    mode='lines+markers',\n",
    "    yaxis='y2',\n",
    "    name='Closing price on the NVDA stocks',\n",
    "    line=dict(color='green')\n",
    "))\n",
    "\n",
    "# Reinforced Sentiment (left y-axis)\n",
    "fig.add_trace(go.Scatter(\n",
    "    x=df_1['date'],\n",
    "    y=df_1['reinforced_sentiment'],\n",
    "    mode='lines+markers',\n",
    "    yaxis='y1',\n",
    "    name='Sentiment',\n",
    "    line=dict(color='blue')\n",
    "))\n",
    "\n",
    "\n",
    "\n",
    "fig.update_layout(\n",
    "    title='Reinforced Sentiment and Closing Price evolution',\n",
    "    yaxis=dict(\n",
    "        title='Reinforced Sentiment',\n",
    "        side='left'  \n",
    "    ),\n",
    "    \n",
    "    yaxis2=dict(\n",
    "        title='Closing Price',\n",
    "\n",
    "        anchor='x',\n",
    "        overlaying='y',\n",
    "        side='right',\n",
    "        position=0.85\n",
    "    ),\n",
    "    \n",
    "    legend=dict(x=0.1, y=1.1, orientation='h'),\n",
    "    margin=dict(l=60, r=120, t=80)\n",
    ")\n",
    "\n",
    "fig.show()\n"
   ]
  },
  {
   "cell_type": "code",
   "execution_count": 200,
   "id": "743d71fe",
   "metadata": {},
   "outputs": [],
   "source": [
    "corr = df_1[['reinforced_sentiment','Close']].corr()"
   ]
  },
  {
   "cell_type": "code",
   "execution_count": 201,
   "id": "8c32fce8",
   "metadata": {},
   "outputs": [
    {
     "data": {
      "application/vnd.plotly.v1+json": {
       "config": {
        "plotlyServerURL": "https://plot.ly"
       },
       "data": [
        {
         "colorscale": [
          [
           0,
           "rgb(247,251,255)"
          ],
          [
           0.125,
           "rgb(222,235,247)"
          ],
          [
           0.25,
           "rgb(198,219,239)"
          ],
          [
           0.375,
           "rgb(158,202,225)"
          ],
          [
           0.5,
           "rgb(107,174,214)"
          ],
          [
           0.625,
           "rgb(66,146,198)"
          ],
          [
           0.75,
           "rgb(33,113,181)"
          ],
          [
           0.875,
           "rgb(8,81,156)"
          ],
          [
           1,
           "rgb(8,48,107)"
          ]
         ],
         "type": "heatmap",
         "x": [
          "reinforced_sentiment",
          "Close"
         ],
         "y": [
          "reinforced_sentiment",
          "Close"
         ],
         "z": {
          "bdata": "AAAAAAAA8D9F/U+4zHvCP0X9T7jMe8I/AAAAAAAA8D8=",
          "dtype": "f8",
          "shape": "2, 2"
         }
        }
       ],
       "layout": {
        "template": {
         "data": {
          "bar": [
           {
            "error_x": {
             "color": "#2a3f5f"
            },
            "error_y": {
             "color": "#2a3f5f"
            },
            "marker": {
             "line": {
              "color": "#E5ECF6",
              "width": 0.5
             },
             "pattern": {
              "fillmode": "overlay",
              "size": 10,
              "solidity": 0.2
             }
            },
            "type": "bar"
           }
          ],
          "barpolar": [
           {
            "marker": {
             "line": {
              "color": "#E5ECF6",
              "width": 0.5
             },
             "pattern": {
              "fillmode": "overlay",
              "size": 10,
              "solidity": 0.2
             }
            },
            "type": "barpolar"
           }
          ],
          "carpet": [
           {
            "aaxis": {
             "endlinecolor": "#2a3f5f",
             "gridcolor": "white",
             "linecolor": "white",
             "minorgridcolor": "white",
             "startlinecolor": "#2a3f5f"
            },
            "baxis": {
             "endlinecolor": "#2a3f5f",
             "gridcolor": "white",
             "linecolor": "white",
             "minorgridcolor": "white",
             "startlinecolor": "#2a3f5f"
            },
            "type": "carpet"
           }
          ],
          "choropleth": [
           {
            "colorbar": {
             "outlinewidth": 0,
             "ticks": ""
            },
            "type": "choropleth"
           }
          ],
          "contour": [
           {
            "colorbar": {
             "outlinewidth": 0,
             "ticks": ""
            },
            "colorscale": [
             [
              0,
              "#0d0887"
             ],
             [
              0.1111111111111111,
              "#46039f"
             ],
             [
              0.2222222222222222,
              "#7201a8"
             ],
             [
              0.3333333333333333,
              "#9c179e"
             ],
             [
              0.4444444444444444,
              "#bd3786"
             ],
             [
              0.5555555555555556,
              "#d8576b"
             ],
             [
              0.6666666666666666,
              "#ed7953"
             ],
             [
              0.7777777777777778,
              "#fb9f3a"
             ],
             [
              0.8888888888888888,
              "#fdca26"
             ],
             [
              1,
              "#f0f921"
             ]
            ],
            "type": "contour"
           }
          ],
          "contourcarpet": [
           {
            "colorbar": {
             "outlinewidth": 0,
             "ticks": ""
            },
            "type": "contourcarpet"
           }
          ],
          "heatmap": [
           {
            "colorbar": {
             "outlinewidth": 0,
             "ticks": ""
            },
            "colorscale": [
             [
              0,
              "#0d0887"
             ],
             [
              0.1111111111111111,
              "#46039f"
             ],
             [
              0.2222222222222222,
              "#7201a8"
             ],
             [
              0.3333333333333333,
              "#9c179e"
             ],
             [
              0.4444444444444444,
              "#bd3786"
             ],
             [
              0.5555555555555556,
              "#d8576b"
             ],
             [
              0.6666666666666666,
              "#ed7953"
             ],
             [
              0.7777777777777778,
              "#fb9f3a"
             ],
             [
              0.8888888888888888,
              "#fdca26"
             ],
             [
              1,
              "#f0f921"
             ]
            ],
            "type": "heatmap"
           }
          ],
          "histogram": [
           {
            "marker": {
             "pattern": {
              "fillmode": "overlay",
              "size": 10,
              "solidity": 0.2
             }
            },
            "type": "histogram"
           }
          ],
          "histogram2d": [
           {
            "colorbar": {
             "outlinewidth": 0,
             "ticks": ""
            },
            "colorscale": [
             [
              0,
              "#0d0887"
             ],
             [
              0.1111111111111111,
              "#46039f"
             ],
             [
              0.2222222222222222,
              "#7201a8"
             ],
             [
              0.3333333333333333,
              "#9c179e"
             ],
             [
              0.4444444444444444,
              "#bd3786"
             ],
             [
              0.5555555555555556,
              "#d8576b"
             ],
             [
              0.6666666666666666,
              "#ed7953"
             ],
             [
              0.7777777777777778,
              "#fb9f3a"
             ],
             [
              0.8888888888888888,
              "#fdca26"
             ],
             [
              1,
              "#f0f921"
             ]
            ],
            "type": "histogram2d"
           }
          ],
          "histogram2dcontour": [
           {
            "colorbar": {
             "outlinewidth": 0,
             "ticks": ""
            },
            "colorscale": [
             [
              0,
              "#0d0887"
             ],
             [
              0.1111111111111111,
              "#46039f"
             ],
             [
              0.2222222222222222,
              "#7201a8"
             ],
             [
              0.3333333333333333,
              "#9c179e"
             ],
             [
              0.4444444444444444,
              "#bd3786"
             ],
             [
              0.5555555555555556,
              "#d8576b"
             ],
             [
              0.6666666666666666,
              "#ed7953"
             ],
             [
              0.7777777777777778,
              "#fb9f3a"
             ],
             [
              0.8888888888888888,
              "#fdca26"
             ],
             [
              1,
              "#f0f921"
             ]
            ],
            "type": "histogram2dcontour"
           }
          ],
          "mesh3d": [
           {
            "colorbar": {
             "outlinewidth": 0,
             "ticks": ""
            },
            "type": "mesh3d"
           }
          ],
          "parcoords": [
           {
            "line": {
             "colorbar": {
              "outlinewidth": 0,
              "ticks": ""
             }
            },
            "type": "parcoords"
           }
          ],
          "pie": [
           {
            "automargin": true,
            "type": "pie"
           }
          ],
          "scatter": [
           {
            "fillpattern": {
             "fillmode": "overlay",
             "size": 10,
             "solidity": 0.2
            },
            "type": "scatter"
           }
          ],
          "scatter3d": [
           {
            "line": {
             "colorbar": {
              "outlinewidth": 0,
              "ticks": ""
             }
            },
            "marker": {
             "colorbar": {
              "outlinewidth": 0,
              "ticks": ""
             }
            },
            "type": "scatter3d"
           }
          ],
          "scattercarpet": [
           {
            "marker": {
             "colorbar": {
              "outlinewidth": 0,
              "ticks": ""
             }
            },
            "type": "scattercarpet"
           }
          ],
          "scattergeo": [
           {
            "marker": {
             "colorbar": {
              "outlinewidth": 0,
              "ticks": ""
             }
            },
            "type": "scattergeo"
           }
          ],
          "scattergl": [
           {
            "marker": {
             "colorbar": {
              "outlinewidth": 0,
              "ticks": ""
             }
            },
            "type": "scattergl"
           }
          ],
          "scattermap": [
           {
            "marker": {
             "colorbar": {
              "outlinewidth": 0,
              "ticks": ""
             }
            },
            "type": "scattermap"
           }
          ],
          "scattermapbox": [
           {
            "marker": {
             "colorbar": {
              "outlinewidth": 0,
              "ticks": ""
             }
            },
            "type": "scattermapbox"
           }
          ],
          "scatterpolar": [
           {
            "marker": {
             "colorbar": {
              "outlinewidth": 0,
              "ticks": ""
             }
            },
            "type": "scatterpolar"
           }
          ],
          "scatterpolargl": [
           {
            "marker": {
             "colorbar": {
              "outlinewidth": 0,
              "ticks": ""
             }
            },
            "type": "scatterpolargl"
           }
          ],
          "scatterternary": [
           {
            "marker": {
             "colorbar": {
              "outlinewidth": 0,
              "ticks": ""
             }
            },
            "type": "scatterternary"
           }
          ],
          "surface": [
           {
            "colorbar": {
             "outlinewidth": 0,
             "ticks": ""
            },
            "colorscale": [
             [
              0,
              "#0d0887"
             ],
             [
              0.1111111111111111,
              "#46039f"
             ],
             [
              0.2222222222222222,
              "#7201a8"
             ],
             [
              0.3333333333333333,
              "#9c179e"
             ],
             [
              0.4444444444444444,
              "#bd3786"
             ],
             [
              0.5555555555555556,
              "#d8576b"
             ],
             [
              0.6666666666666666,
              "#ed7953"
             ],
             [
              0.7777777777777778,
              "#fb9f3a"
             ],
             [
              0.8888888888888888,
              "#fdca26"
             ],
             [
              1,
              "#f0f921"
             ]
            ],
            "type": "surface"
           }
          ],
          "table": [
           {
            "cells": {
             "fill": {
              "color": "#EBF0F8"
             },
             "line": {
              "color": "white"
             }
            },
            "header": {
             "fill": {
              "color": "#C8D4E3"
             },
             "line": {
              "color": "white"
             }
            },
            "type": "table"
           }
          ]
         },
         "layout": {
          "annotationdefaults": {
           "arrowcolor": "#2a3f5f",
           "arrowhead": 0,
           "arrowwidth": 1
          },
          "autotypenumbers": "strict",
          "coloraxis": {
           "colorbar": {
            "outlinewidth": 0,
            "ticks": ""
           }
          },
          "colorscale": {
           "diverging": [
            [
             0,
             "#8e0152"
            ],
            [
             0.1,
             "#c51b7d"
            ],
            [
             0.2,
             "#de77ae"
            ],
            [
             0.3,
             "#f1b6da"
            ],
            [
             0.4,
             "#fde0ef"
            ],
            [
             0.5,
             "#f7f7f7"
            ],
            [
             0.6,
             "#e6f5d0"
            ],
            [
             0.7,
             "#b8e186"
            ],
            [
             0.8,
             "#7fbc41"
            ],
            [
             0.9,
             "#4d9221"
            ],
            [
             1,
             "#276419"
            ]
           ],
           "sequential": [
            [
             0,
             "#0d0887"
            ],
            [
             0.1111111111111111,
             "#46039f"
            ],
            [
             0.2222222222222222,
             "#7201a8"
            ],
            [
             0.3333333333333333,
             "#9c179e"
            ],
            [
             0.4444444444444444,
             "#bd3786"
            ],
            [
             0.5555555555555556,
             "#d8576b"
            ],
            [
             0.6666666666666666,
             "#ed7953"
            ],
            [
             0.7777777777777778,
             "#fb9f3a"
            ],
            [
             0.8888888888888888,
             "#fdca26"
            ],
            [
             1,
             "#f0f921"
            ]
           ],
           "sequentialminus": [
            [
             0,
             "#0d0887"
            ],
            [
             0.1111111111111111,
             "#46039f"
            ],
            [
             0.2222222222222222,
             "#7201a8"
            ],
            [
             0.3333333333333333,
             "#9c179e"
            ],
            [
             0.4444444444444444,
             "#bd3786"
            ],
            [
             0.5555555555555556,
             "#d8576b"
            ],
            [
             0.6666666666666666,
             "#ed7953"
            ],
            [
             0.7777777777777778,
             "#fb9f3a"
            ],
            [
             0.8888888888888888,
             "#fdca26"
            ],
            [
             1,
             "#f0f921"
            ]
           ]
          },
          "colorway": [
           "#636efa",
           "#EF553B",
           "#00cc96",
           "#ab63fa",
           "#FFA15A",
           "#19d3f3",
           "#FF6692",
           "#B6E880",
           "#FF97FF",
           "#FECB52"
          ],
          "font": {
           "color": "#2a3f5f"
          },
          "geo": {
           "bgcolor": "white",
           "lakecolor": "white",
           "landcolor": "#E5ECF6",
           "showlakes": true,
           "showland": true,
           "subunitcolor": "white"
          },
          "hoverlabel": {
           "align": "left"
          },
          "hovermode": "closest",
          "mapbox": {
           "style": "light"
          },
          "paper_bgcolor": "white",
          "plot_bgcolor": "#E5ECF6",
          "polar": {
           "angularaxis": {
            "gridcolor": "white",
            "linecolor": "white",
            "ticks": ""
           },
           "bgcolor": "#E5ECF6",
           "radialaxis": {
            "gridcolor": "white",
            "linecolor": "white",
            "ticks": ""
           }
          },
          "scene": {
           "xaxis": {
            "backgroundcolor": "#E5ECF6",
            "gridcolor": "white",
            "gridwidth": 2,
            "linecolor": "white",
            "showbackground": true,
            "ticks": "",
            "zerolinecolor": "white"
           },
           "yaxis": {
            "backgroundcolor": "#E5ECF6",
            "gridcolor": "white",
            "gridwidth": 2,
            "linecolor": "white",
            "showbackground": true,
            "ticks": "",
            "zerolinecolor": "white"
           },
           "zaxis": {
            "backgroundcolor": "#E5ECF6",
            "gridcolor": "white",
            "gridwidth": 2,
            "linecolor": "white",
            "showbackground": true,
            "ticks": "",
            "zerolinecolor": "white"
           }
          },
          "shapedefaults": {
           "line": {
            "color": "#2a3f5f"
           }
          },
          "ternary": {
           "aaxis": {
            "gridcolor": "white",
            "linecolor": "white",
            "ticks": ""
           },
           "baxis": {
            "gridcolor": "white",
            "linecolor": "white",
            "ticks": ""
           },
           "bgcolor": "#E5ECF6",
           "caxis": {
            "gridcolor": "white",
            "linecolor": "white",
            "ticks": ""
           }
          },
          "title": {
           "x": 0.05
          },
          "xaxis": {
           "automargin": true,
           "gridcolor": "white",
           "linecolor": "white",
           "ticks": "",
           "title": {
            "standoff": 15
           },
           "zerolinecolor": "white",
           "zerolinewidth": 2
          },
          "yaxis": {
           "automargin": true,
           "gridcolor": "white",
           "linecolor": "white",
           "ticks": "",
           "title": {
            "standoff": 15
           },
           "zerolinecolor": "white",
           "zerolinewidth": 2
          }
         }
        }
       }
      }
     },
     "metadata": {},
     "output_type": "display_data"
    }
   ],
   "source": [
    "fig = go.Figure(data=go.Heatmap(\n",
    "                z=corr.values,\n",
    "                x = corr.columns,\n",
    "                y= corr.index,\n",
    "                colorscale='Blues',\n",
    "))\n",
    "fig.show()"
   ]
  }
 ],
 "metadata": {
  "kernelspec": {
   "display_name": "transformers_env",
   "language": "python",
   "name": "python3"
  },
  "language_info": {
   "codemirror_mode": {
    "name": "ipython",
    "version": 3
   },
   "file_extension": ".py",
   "mimetype": "text/x-python",
   "name": "python",
   "nbconvert_exporter": "python",
   "pygments_lexer": "ipython3",
   "version": "3.8.20"
  }
 },
 "nbformat": 4,
 "nbformat_minor": 5
}
